{
 "cells": [
  {
   "cell_type": "code",
   "execution_count": 1,
   "metadata": {},
   "outputs": [],
   "source": [
    "import pandas as pd"
   ]
  },
  {
   "cell_type": "code",
   "execution_count": 2,
   "metadata": {},
   "outputs": [],
   "source": [
    "# frac = 0.02\n",
    "# data = pd.read_csv('./../data/pobreza'+str(frac)+'.csv', usecols = ['DPTO', 'PERSONA_REF_ID', 'AGLOMERADO'])\n"
   ]
  },
  {
   "cell_type": "code",
   "execution_count": 3,
   "metadata": {},
   "outputs": [],
   "source": [
    "# len(data)/frac/2"
   ]
  },
  {
   "cell_type": "code",
   "execution_count": 4,
   "metadata": {},
   "outputs": [],
   "source": [
    "# data.groupby('AGLOMERADO').count()/2"
   ]
  },
  {
   "cell_type": "code",
   "execution_count": 5,
   "metadata": {},
   "outputs": [],
   "source": [
    "# sum(data.AGLOMERADO != 0)/len(data)"
   ]
  },
  {
   "cell_type": "code",
   "execution_count": null,
   "metadata": {},
   "outputs": [],
   "source": []
  },
  {
   "cell_type": "code",
   "execution_count": 6,
   "metadata": {},
   "outputs": [],
   "source": [
    "import os\n",
    "import geopandas as gpd\n",
    "\n",
    "# files = os.listdir('./../data/geojson/')\n",
    "\n",
    "\n",
    "# def save_geojson(gdf, filename = 'test.geojson'):\n",
    "#     try:    # Delete if geojson exists, cause overwriting is not supported\n",
    "#         os.remove('./data/geojson/'+filename)\n",
    "#     except OSError:\n",
    "#         pass\n",
    "    \n",
    "#     gdf.to_file('./data/geojson/'+filename, driver=\"GeoJSON\", encoding='utf-8')\n",
    "    \n",
    "from mapbox import Uploader\n",
    "import json\n",
    "\n",
    "def upload_file(data, name, username = 'matuteiglesias', token = 'sk.eyJ1IjoibWF0dXRlaWdsZXNpYXMiLCJhIjoiY2puODA4bW8xMGV1dzNrcGtiOGp6NXQ5aCJ9.DohKmjn_o6MK1Y4Q5FG8ew'):\n",
    "    try:    # Clear upload file if exists\n",
    "        os.remove('./upload_data.geojson')\n",
    "    except OSError:\n",
    "        pass\n",
    "    \n",
    "    # Dump into file for upload    \n",
    "    with open('./upload_data.geojson', 'w') as outfile:\n",
    "        json.dump(data, outfile)\n",
    "\n",
    "    service = Uploader(access_token=token)\n",
    "    with open('./upload_data.geojson', 'rb') as src:\n",
    "        # Acquisition of credentials, staging of data, and upload\n",
    "        # finalization is done by a single method in the Python SDK.\n",
    "        upload_resp = service.upload(src, username+'.'+name)\n",
    "        "
   ]
  },
  {
   "cell_type": "code",
   "execution_count": 7,
   "metadata": {},
   "outputs": [],
   "source": [
    "# import dask.dataframe as dd\n",
    "# from dask.diagnostics import ProgressBar"
   ]
  },
  {
   "cell_type": "code",
   "execution_count": 8,
   "metadata": {},
   "outputs": [],
   "source": [
    "# PERSONA = dd.read_csv('./../../extracted_/PERSONA.csv', sep = ';', usecols = ['PERSONA_REF_ID', 'HOGAR_REF_ID', 'P01', 'P02', 'P03', 'P05', 'P06',\n",
    "#        'P07', 'P12', 'P08', 'P09', 'P10', 'CONDACT'])\n",
    "\n",
    "# PERSONA_sample = PERSONA.sample(frac = 100/45000000)#.loc[PERSONA.HOGAR_REF_ID.isin(sample.HOGAR_REF_ID)]\n",
    "\n",
    "\n",
    "# with ProgressBar():\n",
    "#     table = PERSONA_sample.compute()\n",
    "\n",
    "# table['P07'] = table['P07'].map({1:1, 2:2, 0:2})\n",
    "\n",
    "# df = table[['RADIO_REF_ID']].merge(radio_ref, on = 'RADIO_REF_ID', how = 'left')"
   ]
  },
  {
   "cell_type": "code",
   "execution_count": 9,
   "metadata": {
    "scrolled": false
   },
   "outputs": [],
   "source": [
    "frac = 0.02\n",
    "yr = '2020'\n",
    "table = pd.read_csv('./../../extracted_/yr_samples/sample_censo_table_f'+str(frac)+'_'+yr+'_ARG.csv')"
   ]
  },
  {
   "cell_type": "code",
   "execution_count": 13,
   "metadata": {},
   "outputs": [
    {
     "data": {
      "text/html": [
       "<div>\n",
       "<style scoped>\n",
       "    .dataframe tbody tr th:only-of-type {\n",
       "        vertical-align: middle;\n",
       "    }\n",
       "\n",
       "    .dataframe tbody tr th {\n",
       "        vertical-align: top;\n",
       "    }\n",
       "\n",
       "    .dataframe thead th {\n",
       "        text-align: right;\n",
       "    }\n",
       "</style>\n",
       "<table border=\"1\" class=\"dataframe\">\n",
       "  <thead>\n",
       "    <tr style=\"text-align: right;\">\n",
       "      <th></th>\n",
       "      <th>radio</th>\n",
       "      <th>NBI_0 Hogares sin NBI</th>\n",
       "      <th>NBI_1 Hogares con NBI</th>\n",
       "      <th>NBI_TOTAL</th>\n",
       "      <th>%_NBI_0 Hogares sin NBI</th>\n",
       "      <th>%_NBI_1 Hogares con NBI</th>\n",
       "      <th>%_NBI_TOTAL</th>\n",
       "      <th>H05_1 Ceramica, baldosa, mosaico, marmol, madera o alfombrado</th>\n",
       "      <th>H05_2 Cemento o ladrillo fijo</th>\n",
       "      <th>H05_3 Tierra o ladrillo suelto</th>\n",
       "      <th>...</th>\n",
       "      <th>%_19C_1 Si</th>\n",
       "      <th>%_19C_2 No</th>\n",
       "      <th>%_19C_TOTAL</th>\n",
       "      <th>19D_1 Si</th>\n",
       "      <th>19D_2 No</th>\n",
       "      <th>19D_TOTAL</th>\n",
       "      <th>%_19D_1 Si</th>\n",
       "      <th>%_19D_2 No</th>\n",
       "      <th>%_19D_TOTAL</th>\n",
       "      <th>geometry</th>\n",
       "    </tr>\n",
       "  </thead>\n",
       "  <tbody>\n",
       "    <tr>\n",
       "      <th>0</th>\n",
       "      <td>900770404</td>\n",
       "      <td>250.0</td>\n",
       "      <td>36.0</td>\n",
       "      <td>286.0</td>\n",
       "      <td>87.4</td>\n",
       "      <td>12.6</td>\n",
       "      <td>100.0</td>\n",
       "      <td>115.0</td>\n",
       "      <td>152.0</td>\n",
       "      <td>19.0</td>\n",
       "      <td>...</td>\n",
       "      <td>83.6</td>\n",
       "      <td>16.4</td>\n",
       "      <td>100.0</td>\n",
       "      <td>2.0</td>\n",
       "      <td>284.0</td>\n",
       "      <td>286.0</td>\n",
       "      <td>0.7</td>\n",
       "      <td>99.3</td>\n",
       "      <td>100.0</td>\n",
       "      <td>POLYGON ((-7310496.079000001 -3160523.32778228...</td>\n",
       "    </tr>\n",
       "    <tr>\n",
       "      <th>1</th>\n",
       "      <td>900770202</td>\n",
       "      <td>222.0</td>\n",
       "      <td>65.0</td>\n",
       "      <td>287.0</td>\n",
       "      <td>77.4</td>\n",
       "      <td>22.6</td>\n",
       "      <td>100.0</td>\n",
       "      <td>103.0</td>\n",
       "      <td>138.0</td>\n",
       "      <td>45.0</td>\n",
       "      <td>...</td>\n",
       "      <td>86.1</td>\n",
       "      <td>13.9</td>\n",
       "      <td>100.0</td>\n",
       "      <td>20.0</td>\n",
       "      <td>267.0</td>\n",
       "      <td>287.0</td>\n",
       "      <td>7.0</td>\n",
       "      <td>93.0</td>\n",
       "      <td>100.0</td>\n",
       "      <td>POLYGON ((-7306154.657999999 -3155213.37357922...</td>\n",
       "    </tr>\n",
       "    <tr>\n",
       "      <th>2</th>\n",
       "      <td>900630412</td>\n",
       "      <td>104.0</td>\n",
       "      <td>32.0</td>\n",
       "      <td>136.0</td>\n",
       "      <td>76.5</td>\n",
       "      <td>23.5</td>\n",
       "      <td>100.0</td>\n",
       "      <td>39.0</td>\n",
       "      <td>82.0</td>\n",
       "      <td>14.0</td>\n",
       "      <td>...</td>\n",
       "      <td>79.4</td>\n",
       "      <td>20.6</td>\n",
       "      <td>100.0</td>\n",
       "      <td>3.0</td>\n",
       "      <td>133.0</td>\n",
       "      <td>136.0</td>\n",
       "      <td>2.2</td>\n",
       "      <td>97.8</td>\n",
       "      <td>100.0</td>\n",
       "      <td>POLYGON ((-7277499.1501 -3096200.691996627, -7...</td>\n",
       "    </tr>\n",
       "    <tr>\n",
       "      <th>3</th>\n",
       "      <td>900070403</td>\n",
       "      <td>95.0</td>\n",
       "      <td>31.0</td>\n",
       "      <td>126.0</td>\n",
       "      <td>75.4</td>\n",
       "      <td>24.6</td>\n",
       "      <td>100.0</td>\n",
       "      <td>38.0</td>\n",
       "      <td>72.0</td>\n",
       "      <td>16.0</td>\n",
       "      <td>...</td>\n",
       "      <td>90.5</td>\n",
       "      <td>9.5</td>\n",
       "      <td>100.0</td>\n",
       "      <td>1.0</td>\n",
       "      <td>125.0</td>\n",
       "      <td>126.0</td>\n",
       "      <td>0.8</td>\n",
       "      <td>99.2</td>\n",
       "      <td>100.0</td>\n",
       "      <td>POLYGON ((-7180433.34765625 -3057810.078601721...</td>\n",
       "    </tr>\n",
       "    <tr>\n",
       "      <th>4</th>\n",
       "      <td>901050504</td>\n",
       "      <td>371.0</td>\n",
       "      <td>86.0</td>\n",
       "      <td>457.0</td>\n",
       "      <td>81.2</td>\n",
       "      <td>18.8</td>\n",
       "      <td>100.0</td>\n",
       "      <td>175.0</td>\n",
       "      <td>266.0</td>\n",
       "      <td>14.0</td>\n",
       "      <td>...</td>\n",
       "      <td>77.2</td>\n",
       "      <td>22.8</td>\n",
       "      <td>100.0</td>\n",
       "      <td>55.0</td>\n",
       "      <td>402.0</td>\n",
       "      <td>457.0</td>\n",
       "      <td>12.0</td>\n",
       "      <td>88.0</td>\n",
       "      <td>100.0</td>\n",
       "      <td>POLYGON ((-7258244.9918 -3066506.598599662, -7...</td>\n",
       "    </tr>\n",
       "  </tbody>\n",
       "</table>\n",
       "<p>5 rows × 132 columns</p>\n",
       "</div>"
      ],
      "text/plain": [
       "       radio  NBI_0 Hogares sin NBI  NBI_1 Hogares con NBI  NBI_TOTAL  \\\n",
       "0  900770404                  250.0                   36.0      286.0   \n",
       "1  900770202                  222.0                   65.0      287.0   \n",
       "2  900630412                  104.0                   32.0      136.0   \n",
       "3  900070403                   95.0                   31.0      126.0   \n",
       "4  901050504                  371.0                   86.0      457.0   \n",
       "\n",
       "   %_NBI_0 Hogares sin NBI  %_NBI_1 Hogares con NBI  %_NBI_TOTAL  \\\n",
       "0                     87.4                     12.6        100.0   \n",
       "1                     77.4                     22.6        100.0   \n",
       "2                     76.5                     23.5        100.0   \n",
       "3                     75.4                     24.6        100.0   \n",
       "4                     81.2                     18.8        100.0   \n",
       "\n",
       "   H05_1 Ceramica, baldosa, mosaico, marmol, madera o alfombrado  \\\n",
       "0                                              115.0               \n",
       "1                                              103.0               \n",
       "2                                               39.0               \n",
       "3                                               38.0               \n",
       "4                                              175.0               \n",
       "\n",
       "   H05_2 Cemento o ladrillo fijo  H05_3 Tierra o ladrillo suelto  ...  \\\n",
       "0                          152.0                            19.0  ...   \n",
       "1                          138.0                            45.0  ...   \n",
       "2                           82.0                            14.0  ...   \n",
       "3                           72.0                            16.0  ...   \n",
       "4                          266.0                            14.0  ...   \n",
       "\n",
       "   %_19C_1 Si  %_19C_2 No  %_19C_TOTAL  19D_1 Si  19D_2 No  19D_TOTAL  \\\n",
       "0        83.6        16.4        100.0       2.0     284.0      286.0   \n",
       "1        86.1        13.9        100.0      20.0     267.0      287.0   \n",
       "2        79.4        20.6        100.0       3.0     133.0      136.0   \n",
       "3        90.5         9.5        100.0       1.0     125.0      126.0   \n",
       "4        77.2        22.8        100.0      55.0     402.0      457.0   \n",
       "\n",
       "   %_19D_1 Si  %_19D_2 No  %_19D_TOTAL  \\\n",
       "0         0.7        99.3        100.0   \n",
       "1         7.0        93.0        100.0   \n",
       "2         2.2        97.8        100.0   \n",
       "3         0.8        99.2        100.0   \n",
       "4        12.0        88.0        100.0   \n",
       "\n",
       "                                            geometry  \n",
       "0  POLYGON ((-7310496.079000001 -3160523.32778228...  \n",
       "1  POLYGON ((-7306154.657999999 -3155213.37357922...  \n",
       "2  POLYGON ((-7277499.1501 -3096200.691996627, -7...  \n",
       "3  POLYGON ((-7180433.34765625 -3057810.078601721...  \n",
       "4  POLYGON ((-7258244.9918 -3066506.598599662, -7...  \n",
       "\n",
       "[5 rows x 132 columns]"
      ]
     },
     "execution_count": 13,
     "metadata": {},
     "output_type": "execute_result"
    }
   ],
   "source": [
    "radio_ref = pd.read_csv('./../data/radio_ref.csv', usecols=['RADIO_REF_ID', 'radio'])\n",
    "radio_ref#.nunique()\n",
    "\n",
    "gdf = gpd.read_file('./../../../../../../home/miglesia/Documents/mapas_censo/geojson/radios_info_hogares.geojson')\n",
    "# gdf.crs = {'init': 'epsg:4326'} # ya esta.\n",
    "gdf = gdf.to_crs({'init': 'epsg:3395'})\n",
    "\n",
    "gdf['radio'] = gdf['radio'].astype(int)\n",
    "gdf.head()"
   ]
  },
  {
   "cell_type": "code",
   "execution_count": 14,
   "metadata": {},
   "outputs": [],
   "source": [
    "df = table.sample(100)\n",
    "sample_gdf = df.merge(radio_ref).merge(gdf[['radio', 'geometry']])\n",
    "sample_gdf = gpd.GeoDataFrame(sample_gdf)\n",
    "sample_gdf['geometry'] = [p.centroid for p in sample_gdf.geometry]"
   ]
  },
  {
   "cell_type": "code",
   "execution_count": null,
   "metadata": {},
   "outputs": [],
   "source": []
  },
  {
   "cell_type": "code",
   "execution_count": null,
   "metadata": {},
   "outputs": [],
   "source": []
  },
  {
   "cell_type": "code",
   "execution_count": 15,
   "metadata": {},
   "outputs": [],
   "source": [
    "sample_gdf = df.merge(radio_ref).merge(gdf[['radio', 'geometry']])\n",
    "sample_gdf = gpd.GeoDataFrame(sample_gdf)\n",
    "sample_gdf['geometry'] = [p.centroid for p in sample_gdf.geometry]"
   ]
  },
  {
   "cell_type": "code",
   "execution_count": null,
   "metadata": {},
   "outputs": [],
   "source": []
  },
  {
   "cell_type": "code",
   "execution_count": 16,
   "metadata": {},
   "outputs": [
    {
     "data": {
      "text/plain": [
       "<matplotlib.axes._subplots.AxesSubplot at 0x7f74b62f75f8>"
      ]
     },
     "execution_count": 16,
     "metadata": {},
     "output_type": "execute_result"
    }
   ],
   "source": [
    "sample_gdf.plot()\n",
    "# plt.show()"
   ]
  },
  {
   "cell_type": "code",
   "execution_count": 17,
   "metadata": {},
   "outputs": [],
   "source": [
    "# Preparar gdf de pobreza por provincias\n",
    "\n",
    "import geopandas as gpd\n",
    "dptos_gdf = gpd.read_file('./../../../../../../../home/miglesia/Documents/censo_geo/pxdptodatosok.shp').drop([439])\n",
    "dptos_gdf.crs = {'init': 'epsg:4326'} #latlong\n",
    "dptos_gdf = dptos_gdf.to_crs({'init': 'epsg:3395'}) #lo dejamos en metrico\n",
    "\n",
    "provs_gdf = dptos_gdf[['codpcia', 'geometry']].dissolve('codpcia')\n",
    "provs_gdf.index = provs_gdf.index.astype(int)\n",
    "\n",
    "# pob_prov = data.groupby('PROV')[['Pobreza']].mean()\n",
    "# ingreso_mediano = data.loc[data.P03 > 24].groupby('PROV')[['P47T_persona', 'P47T_hogar']].median()\n",
    "# nomprovs = radio_ref[['PROV', 'NOMPROV', 'Region']].drop_duplicates().set_index('PROV')\n",
    "# provs_gdf = gpd.GeoDataFrame(pd.concat([nomprovs, ingreso_mediano, pob_prov, provs_gdf], axis = 1))\n"
   ]
  },
  {
   "cell_type": "code",
   "execution_count": 18,
   "metadata": {},
   "outputs": [],
   "source": [
    "\n",
    "\n",
    "fancy_crs = {u'lat_0': -35,\n",
    " u'lon_0': -65,\n",
    " u'no_defs': True,\n",
    " u'proj': u'ortho',\n",
    " u'units': u'm',\n",
    " u'x_0': -65,\n",
    " u'y_0': -35,\n",
    " u'a' : 6371000, \n",
    " u'b' : 6371000}\n",
    "provs_gdf.crs = {'init': 'epsg:3395'}\n",
    "# provs_gdf = provs_gdf.to_crs({'init': 'epsg:4326'})\n",
    "# provs_gdf = provs_gdf.to_crs(fancy_crs)"
   ]
  },
  {
   "cell_type": "code",
   "execution_count": 19,
   "metadata": {},
   "outputs": [
    {
     "data": {
      "text/html": [
       "<div>\n",
       "<style scoped>\n",
       "    .dataframe tbody tr th:only-of-type {\n",
       "        vertical-align: middle;\n",
       "    }\n",
       "\n",
       "    .dataframe tbody tr th {\n",
       "        vertical-align: top;\n",
       "    }\n",
       "\n",
       "    .dataframe thead th {\n",
       "        text-align: right;\n",
       "    }\n",
       "</style>\n",
       "<table border=\"1\" class=\"dataframe\">\n",
       "  <thead>\n",
       "    <tr style=\"text-align: right;\">\n",
       "      <th></th>\n",
       "      <th>geometry</th>\n",
       "    </tr>\n",
       "    <tr>\n",
       "      <th>codpcia</th>\n",
       "      <th></th>\n",
       "    </tr>\n",
       "  </thead>\n",
       "  <tbody>\n",
       "    <tr>\n",
       "      <th>2</th>\n",
       "      <td>POLYGON ((-6503821.999117465 -4093993.25584550...</td>\n",
       "    </tr>\n",
       "    <tr>\n",
       "      <th>6</th>\n",
       "      <td>(POLYGON ((-6911060.472587907 -4876122.6840219...</td>\n",
       "    </tr>\n",
       "    <tr>\n",
       "      <th>10</th>\n",
       "      <td>POLYGON ((-7254451.715565977 -3308742.23329052...</td>\n",
       "    </tr>\n",
       "    <tr>\n",
       "      <th>14</th>\n",
       "      <td>POLYGON ((-6962411.695054543 -3997614.14815861...</td>\n",
       "    </tr>\n",
       "    <tr>\n",
       "      <th>18</th>\n",
       "      <td>POLYGON ((-6414389.232670946 -3504950.52001437...</td>\n",
       "    </tr>\n",
       "  </tbody>\n",
       "</table>\n",
       "</div>"
      ],
      "text/plain": [
       "                                                  geometry\n",
       "codpcia                                                   \n",
       "2        POLYGON ((-6503821.999117465 -4093993.25584550...\n",
       "6        (POLYGON ((-6911060.472587907 -4876122.6840219...\n",
       "10       POLYGON ((-7254451.715565977 -3308742.23329052...\n",
       "14       POLYGON ((-6962411.695054543 -3997614.14815861...\n",
       "18       POLYGON ((-6414389.232670946 -3504950.52001437..."
      ]
     },
     "execution_count": 19,
     "metadata": {},
     "output_type": "execute_result"
    }
   ],
   "source": [
    "provs_gdf.head()"
   ]
  },
  {
   "cell_type": "code",
   "execution_count": 20,
   "metadata": {},
   "outputs": [],
   "source": [
    "# provs_gdf.head()"
   ]
  },
  {
   "cell_type": "code",
   "execution_count": 21,
   "metadata": {},
   "outputs": [],
   "source": [
    "import matplotlib.pyplot as plt\n",
    "%matplotlib inline"
   ]
  },
  {
   "cell_type": "code",
   "execution_count": 22,
   "metadata": {},
   "outputs": [
    {
     "data": {
      "image/png": "[encoded data removed]",
      "text/plain": [
       "<Figure size 432x1008 with 1 Axes>"
      ]
     },
     "metadata": {},
     "output_type": "display_data"
    }
   ],
   "source": [
    "fig, ax = plt.subplots(1, figsize = (6, 14))\n",
    "\n",
    "df = table.sample(1000)\n",
    "sample_gdf = df.merge(radio_ref).merge(gdf[['radio', 'geometry']])\n",
    "sample_gdf = gpd.GeoDataFrame(sample_gdf)\n",
    "sample_gdf['geometry'] = [p.centroid for p in sample_gdf.geometry]\n",
    "\n",
    "sample_gdf.plot(ax = ax, c = 'k', marker = '.')\n",
    "provs_gdf.plot(ax = ax, alpha = .5, edgecolor = 'k', color = 'None')\n",
    "dptos_gdf.plot(ax = ax, alpha = .5, edgecolor = 'k', color = 'None', lw = .5)\n",
    "\n",
    "# Encuadre ARG\n",
    "# ax.set_xlim(-8300000, -5750000)\n",
    "# ax.set_ylim(-7450000, -2400000)\n",
    "# ax.set_xlim(-.75e6, 1.25e6)\n",
    "# ax.set_ylim(-2.3e6, 1.6e6)\n",
    "\n",
    "# Encuadre GBA\n",
    "plt.xlim(-6570000, -6450000)\n",
    "plt.ylim(-4150000, -4020000)\n",
    "\n",
    "ax.set_xlabel('A')\n",
    "ax.axis('off')\n",
    "plt.show()"
   ]
  },
  {
   "cell_type": "code",
   "execution_count": 30,
   "metadata": {},
   "outputs": [],
   "source": [
    "n = 490\n",
    "df = table.sample(n)\n",
    "sample_gdf = df.merge(radio_ref).merge(gdf[['radio', 'geometry']])\n",
    "sample_gdf = gpd.GeoDataFrame(sample_gdf)\n",
    "sample_gdf['geometry'] = [p.centroid for p in sample_gdf.geometry]\n",
    "sample_gdf.crs = {'init': 'epsg:3395'}\n",
    "\n",
    "sample_gdf.crs\n",
    "sample_gdf = sample_gdf.to_crs({'init': 'epsg:4326'})\n",
    "\n",
    "# gdf.crs = {'init': 'epsg:4326'} # ya esta.\n"
   ]
  },
  {
   "cell_type": "code",
   "execution_count": 31,
   "metadata": {},
   "outputs": [
    {
     "name": "stdout",
     "output_type": "stream",
     "text": [
      "sample_490b_\n"
     ]
    }
   ],
   "source": [
    "\n",
    "name = 'sample_'+str(n)+'_'\n",
    "filename = name + '.geojson'\n",
    "\n",
    "# save_geojson(sample_gdf, )\n",
    "\n",
    "try:    # Delete if geojson exists, cause overwriting is not supported\n",
    "    os.remove('./../data/geojson/'+filename)\n",
    "except OSError:\n",
    "    pass\n",
    "sample_gdf.to_file('./../data/geojson/'+filename, driver=\"GeoJSON\", encoding='utf-8')\n",
    "\n",
    "username = 'matuteiglesias'\n",
    "token = 'sk.eyJ1IjoibWF0dXRlaWdsZXNpYXMiLCJhIjoiY2puODA4bW8xMGV1dzNrcGtiOGp6NXQ5aCJ9.DohKmjn_o6MK1Y4Q5FG8ew'\n",
    "\n",
    "files = os.listdir('./../data/geojson/')\n",
    "files = [f for f in files if name in f]\n",
    "# files\n",
    "\n",
    "names = [name.split('.')[0] for name in files]\n",
    "\n",
    "for i in range(len(files)):\n",
    "    print(names[i])\n",
    "    data_ = json.load(open('./../data/geojson/'+files[i]))\n",
    "\n",
    "    try:\n",
    "        upload_file(data_, names[i])\n",
    "    except:\n",
    "        pass\n"
   ]
  },
  {
   "cell_type": "code",
   "execution_count": null,
   "metadata": {},
   "outputs": [],
   "source": []
  }
 ],
 "metadata": {
  "kernelspec": {
   "display_name": "Python 3",
   "language": "python",
   "name": "python3"
  },
  "language_info": {
   "codemirror_mode": {
    "name": "ipython",
    "version": 3
   },
   "file_extension": ".py",
   "mimetype": "text/x-python",
   "name": "python",
   "nbconvert_exporter": "python",
   "pygments_lexer": "ipython3",
   "version": "3.6.7"
  }
 },
 "nbformat": 4,
 "nbformat_minor": 2
}
