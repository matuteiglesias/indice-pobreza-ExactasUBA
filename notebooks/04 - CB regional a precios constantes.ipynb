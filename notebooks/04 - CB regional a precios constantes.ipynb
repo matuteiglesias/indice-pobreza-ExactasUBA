{
 "cells": [
  {
   "cell_type": "code",
   "execution_count": 1,
   "metadata": {},
   "outputs": [],
   "source": [
    "import pandas as pd\n",
    "import matplotlib.pyplot as plt\n",
    "import seaborn as sns\n",
    "\n",
    "pd.options.display.max_columns = 60\n",
    "pd.options.display.max_rows = 500\n",
    "import warnings\n",
    "warnings.filterwarnings('ignore')\n",
    "\n",
    "import numpy as np\n",
    "import datetime as dt"
   ]
  },
  {
   "cell_type": "markdown",
   "metadata": {},
   "source": [
    "## Forma anterior"
   ]
  },
  {
   "cell_type": "code",
   "execution_count": 2,
   "metadata": {},
   "outputs": [],
   "source": [
    "\n",
    "# indice_precios = pd.read_csv('./data/indice_pricestats_YQ.csv', index_col=0)\n",
    "# indice_precios.index = pd.DatetimeIndex(indice_precios.index)\n",
    "# indice_precios.index.name = 'Q'\n",
    "\n",
    "# indice_precios.head()\n",
    "\n",
    "\n",
    "# CBAr = pd.read_csv('./data/CBA_regional.csv')\n",
    "# CBAr.index = pd.date_range(start = dt.datetime(2016,4,1), end = dt.datetime(2018,12,31), freq='M')\n",
    "# CBAr = CBAr.drop(['Ano4', 'Mes', 'TRIMESTRE'], axis = 1)\n",
    "\n",
    "# CBTr = pd.read_csv('./data/CBT_regional.csv')\n",
    "# CBTr.index = pd.date_range(start = dt.datetime(2016,4,1), end = dt.datetime(2018,12,31), freq='M')\n",
    "# CBTr = CBTr.drop(['Ano4', 'Mes', 'TRIMESTRE'], axis = 1)\n",
    "\n",
    "# #.stack().reset_index()\n",
    "# CB = pd.concat([CBAr.stack(), CBTr.stack()], axis = 1)\n",
    "# CB.columns = ['CBA', 'CBT']; CB.index.names = ['Mes', 'Region']\n",
    "\n",
    "# # ipc = pd.read_csv('./data/Argentina_inflation_pricestats.csv', index_col=0)\n",
    "# # ipc.index = pd.date_range(start = dt.datetime(1943,1,1), end = dt.datetime(2018,11,30), freq='M', name='Mes')\n",
    "\n",
    "# # CB_ipc = CB.join(ipc, how='inner')\n",
    "# # CB_ipc[['CBA','CBT']] = (CB_ipc[['CBA','CBT']].T/CB_ipc['index'].values).T\n",
    "# # CB_ipc = CB_ipc.groupby([pd.Grouper(level = 0,freq = 'Q'), pd.Grouper(level = 1)]).mean()\n",
    "\n",
    "# # idx = CB_ipc[['index']].unstack().loc['2018-09-30'][0]\n",
    "# # CB_ipc = CB_ipc[['CBA', 'CBT']]*idx\n",
    "\n",
    "# # CB_ipc = CB_ipc.loc[indice_precios.index]\n",
    "# # CB_ipc.index.names = ['Q', 'Region']\n",
    "# # # CB_ipc.unstack().plot(legend = False)\n",
    "# # CB_ipc = CB_ipc.reset_index()\n",
    "\n",
    "# # CB_ipc.to_csv('./data/CB_Reg_defl.csv', index = False)"
   ]
  },
  {
   "cell_type": "markdown",
   "metadata": {},
   "source": [
    "## Forma actual"
   ]
  },
  {
   "cell_type": "code",
   "execution_count": 3,
   "metadata": {},
   "outputs": [],
   "source": [
    "\n",
    "col_mon = [u'P21', u'P47T', u'PP08D1', u'TOT_P12', u'T_VI', u'V12_M', u'V2_M', u'V3_M', u'V5_M']\n",
    "\n",
    "cpi = pd.read_csv('./data/indice_precios.csv')\n",
    "cpi.index = pd.date_range(\"1943-01\", periods=len(cpi), freq = 'M')\n",
    "# cpi = cpi.groupby(pd.TimeGrouper(freq='Q')).mean().loc['2003':'2019'][['index']]#.to_csv(...)\n",
    "cpi.set_index('index')\n",
    "cpi.index.name = 'Q'\n",
    "#\n",
    "indice_precios = cpi\n",
    "\n",
    "cpi = cpi.loc['2003-01-31': '2019-12-31']   # Actualizar aca para extender en tiempo\n",
    "\n",
    "cpi.columns = pd.MultiIndex.from_product([['Indice de Precios'], cpi.columns])\n"
   ]
  },
  {
   "cell_type": "code",
   "execution_count": 4,
   "metadata": {},
   "outputs": [],
   "source": [
    "CBAr = pd.read_csv('./data/CBA_regional.csv')\n",
    "CBAr.index = pd.date_range(start = dt.datetime(2016,4,1), end = dt.datetime(2019,6,30), freq='M')\n",
    "CBAr = CBAr.drop(['Ano4', 'Mes', 'TRIMESTRE'], axis = 1)\n",
    "\n",
    "CBTr = pd.read_csv('./data/CBT_regional.csv')\n",
    "CBTr.index = pd.date_range(start = dt.datetime(2016,4,1), end = dt.datetime(2019,6,30), freq='M')\n",
    "CBTr = CBTr.drop(['Ano4', 'Mes', 'TRIMESTRE'], axis = 1)\n",
    "\n",
    "#.stack().reset_index()\n",
    "CB = pd.concat([CBAr.stack(), CBTr.stack()], axis = 1)\n",
    "CB.columns = ['CBA', 'CBT']; CB.index.names = ['Mes', 'Region']"
   ]
  },
  {
   "cell_type": "code",
   "execution_count": 5,
   "metadata": {},
   "outputs": [],
   "source": [
    "# # 11747 (oct-nov 2019) se tiene que convertir en \n",
    "# 11747*(2283/1906) #para junio 2019\n",
    "# # 11747*(1.231485) #para 2019Q2"
   ]
  },
  {
   "cell_type": "code",
   "execution_count": 6,
   "metadata": {},
   "outputs": [],
   "source": [
    "\n",
    "CB_i = pd.concat([CB.unstack(), cpi.iloc[:, 1]], axis = 1)\n",
    "CB_defl = CB_i.iloc[:, :-1].div(CB_i.iloc[:, -1], 0)\n",
    "\n",
    "# # Check how the fillna works...\n",
    "# # fig, ax = plt.subplots(1, figsize = (7, 5))\n",
    "# # CB_defl.fillna(CB_defl.mean()).plot(legend = False, ax = ax)\n",
    "# # CB_defl.fillna(CB_defl.quantile(.25)).head(25).plot(legend = False, ax = ax, c = '.5')\n",
    "# # CB_defl.fillna(CB_defl.quantile(.75)).head(25).plot(legend = False, ax = ax, c = '.5')\n",
    "\n",
    "CB_defl = CB_defl.fillna(CB_defl.mean()).stack()\n",
    "CB_defl_Q = CB_defl.groupby([pd.Grouper(level = 0,freq = 'Q'), pd.Grouper(level = 1)]).mean()\n",
    "CB_defl_Q\n",
    "\n",
    "# idx = CB_i.iloc[:, -1]['2019-11-30']\n",
    "# CB_defl_Q = CB_defl_Q[['CBA', 'CBT']]*idx\n",
    "CB_defl_Q = CB_defl_Q[['CBA', 'CBT']]*2283\n",
    "\n",
    "\n",
    "CB_defl_Q.index.names = ['Q', 'Region']\n",
    "CB_defl_Q = CB_defl_Q.reset_index()\n",
    "CB_defl_Q[['CBA', 'CBT']] = CB_defl_Q[['CBA', 'CBT']]\n",
    "CB_defl_Q.to_csv('./data/CB_Reg_defl.csv', index = False)"
   ]
  },
  {
   "cell_type": "markdown",
   "metadata": {},
   "source": [
    "## Listo"
   ]
  },
  {
   "cell_type": "code",
   "execution_count": 7,
   "metadata": {},
   "outputs": [],
   "source": [
    "# Debug deflacion\n",
    "# val_list = []\n",
    "# for q in ['2018-09-30', '2018-06-30', '2018-03-31', '2017-12-31',\n",
    "#        '2017-09-30', '2017-06-30', '2017-03-31', '2016-12-31',\n",
    "#        '2016-09-30', '2016-06-30']:\n",
    "#     df = pd.read_csv('./data/RFReg_'+str(frac)+'ARG'+q+'.csv', \n",
    "#                      usecols = ['P47T'], nrows = 50000)\n",
    "#     val_list += [df.median().values[0]]\n",
    "# plt.plot(np.array(val_list))"
   ]
  },
  {
   "cell_type": "code",
   "execution_count": 8,
   "metadata": {},
   "outputs": [
    {
     "data": {
      "text/html": [
       "<div>\n",
       "<style scoped>\n",
       "    .dataframe tbody tr th:only-of-type {\n",
       "        vertical-align: middle;\n",
       "    }\n",
       "\n",
       "    .dataframe tbody tr th {\n",
       "        vertical-align: top;\n",
       "    }\n",
       "\n",
       "    .dataframe thead th {\n",
       "        text-align: right;\n",
       "    }\n",
       "</style>\n",
       "<table border=\"1\" class=\"dataframe\">\n",
       "  <thead>\n",
       "    <tr style=\"text-align: right;\">\n",
       "      <th></th>\n",
       "      <th>Q</th>\n",
       "      <th>Region</th>\n",
       "      <th>CBA</th>\n",
       "      <th>CBT</th>\n",
       "    </tr>\n",
       "  </thead>\n",
       "  <tbody>\n",
       "    <tr>\n",
       "      <th>403</th>\n",
       "      <td>2019-12-31</td>\n",
       "      <td>Gran Buenos Aires</td>\n",
       "      <td>4806.733774</td>\n",
       "      <td>11847.212281</td>\n",
       "    </tr>\n",
       "    <tr>\n",
       "      <th>404</th>\n",
       "      <td>2019-12-31</td>\n",
       "      <td>Noreste</td>\n",
       "      <td>4286.477706</td>\n",
       "      <td>9895.210260</td>\n",
       "    </tr>\n",
       "    <tr>\n",
       "      <th>405</th>\n",
       "      <td>2019-12-31</td>\n",
       "      <td>Noroeste</td>\n",
       "      <td>4177.908507</td>\n",
       "      <td>9560.094671</td>\n",
       "    </tr>\n",
       "    <tr>\n",
       "      <th>406</th>\n",
       "      <td>2019-12-31</td>\n",
       "      <td>Pampeana</td>\n",
       "      <td>4772.391837</td>\n",
       "      <td>11760.989001</td>\n",
       "    </tr>\n",
       "    <tr>\n",
       "      <th>407</th>\n",
       "      <td>2019-12-31</td>\n",
       "      <td>Patagónica</td>\n",
       "      <td>4948.259956</td>\n",
       "      <td>13844.020201</td>\n",
       "    </tr>\n",
       "  </tbody>\n",
       "</table>\n",
       "</div>"
      ],
      "text/plain": [
       "             Q             Region          CBA           CBT\n",
       "403 2019-12-31  Gran Buenos Aires  4806.733774  11847.212281\n",
       "404 2019-12-31            Noreste  4286.477706   9895.210260\n",
       "405 2019-12-31           Noroeste  4177.908507   9560.094671\n",
       "406 2019-12-31           Pampeana  4772.391837  11760.989001\n",
       "407 2019-12-31         Patagónica  4948.259956  13844.020201"
      ]
     },
     "execution_count": 8,
     "metadata": {},
     "output_type": "execute_result"
    }
   ],
   "source": [
    "CB_defl_Q.tail()"
   ]
  },
  {
   "cell_type": "code",
   "execution_count": null,
   "metadata": {},
   "outputs": [],
   "source": []
  }
 ],
 "metadata": {
  "kernelspec": {
   "display_name": "Python 3",
   "language": "python",
   "name": "python3"
  },
  "language_info": {
   "codemirror_mode": {
    "name": "ipython",
    "version": 3
   },
   "file_extension": ".py",
   "mimetype": "text/x-python",
   "name": "python",
   "nbconvert_exporter": "python",
   "pygments_lexer": "ipython3",
   "version": "3.6.7"
  }
 },
 "nbformat": 4,
 "nbformat_minor": 2
}
