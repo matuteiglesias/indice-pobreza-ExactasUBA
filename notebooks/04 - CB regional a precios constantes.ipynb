{
 "cells": [
  {
   "cell_type": "code",
   "execution_count": 1,
   "metadata": {},
   "outputs": [],
   "source": [
    "import pandas as pd\n",
    "import matplotlib.pyplot as plt\n",
    "import seaborn as sns\n",
    "\n",
    "pd.options.display.max_columns = 60\n",
    "pd.options.display.max_rows = 500\n",
    "import warnings\n",
    "warnings.filterwarnings('ignore')\n",
    "\n",
    "import numpy as np\n",
    "import datetime as dt"
   ]
  },
  {
   "cell_type": "markdown",
   "metadata": {},
   "source": [
    "### Seteo Fechas"
   ]
  },
  {
   "cell_type": "code",
   "execution_count": 10,
   "metadata": {},
   "outputs": [],
   "source": [
    "# Actualizar aca para extender en tiempo\n",
    "start = '2003-01-31'\n",
    "end = '2020-08-31'"
   ]
  },
  {
   "cell_type": "markdown",
   "metadata": {},
   "source": [
    "## Forma actual"
   ]
  },
  {
   "cell_type": "code",
   "execution_count": 23,
   "metadata": {},
   "outputs": [],
   "source": [
    "\n",
    "col_mon = [u'P21', u'P47T', u'PP08D1', u'TOT_P12', u'T_VI', u'V12_M', u'V2_M', u'V3_M', u'V5_M']\n",
    "\n",
    "cpi = pd.read_csv('./../data/indice_precios.csv', index_col=0)\n",
    "cpi.index = pd.date_range(\"1943-01\", periods=len(cpi), freq = 'M')\n",
    "# cpi = cpi.groupby(pd.TimeGrouper(freq='Q')).mean().loc['2003':'2019'][['index']]#.to_csv(...)\n",
    "# cpi.set_index('index')\n",
    "cpi.index.name = 'Q'\n",
    "#\n",
    "indice_precios = cpi\n",
    "\n",
    "cpi = cpi.loc[start: end]   \n",
    "\n",
    "cpi.columns = pd.MultiIndex.from_product([['Indice de Precios'], cpi.columns])\n"
   ]
  },
  {
   "cell_type": "code",
   "execution_count": 24,
   "metadata": {},
   "outputs": [
    {
     "data": {
      "text/html": [
       "<div>\n",
       "<style scoped>\n",
       "    .dataframe tbody tr th:only-of-type {\n",
       "        vertical-align: middle;\n",
       "    }\n",
       "\n",
       "    .dataframe tbody tr th {\n",
       "        vertical-align: top;\n",
       "    }\n",
       "\n",
       "    .dataframe thead tr th {\n",
       "        text-align: left;\n",
       "    }\n",
       "\n",
       "    .dataframe thead tr:last-of-type th {\n",
       "        text-align: right;\n",
       "    }\n",
       "</style>\n",
       "<table border=\"1\" class=\"dataframe\">\n",
       "  <thead>\n",
       "    <tr>\n",
       "      <th></th>\n",
       "      <th>Indice de Precios</th>\n",
       "    </tr>\n",
       "    <tr>\n",
       "      <th></th>\n",
       "      <th>index</th>\n",
       "    </tr>\n",
       "    <tr>\n",
       "      <th>Q</th>\n",
       "      <th></th>\n",
       "    </tr>\n",
       "  </thead>\n",
       "  <tbody>\n",
       "    <tr>\n",
       "      <th>2003-01-31</th>\n",
       "      <td>63.111588</td>\n",
       "    </tr>\n",
       "    <tr>\n",
       "      <th>2003-02-28</th>\n",
       "      <td>63.468811</td>\n",
       "    </tr>\n",
       "    <tr>\n",
       "      <th>2003-03-31</th>\n",
       "      <td>63.839314</td>\n",
       "    </tr>\n",
       "    <tr>\n",
       "      <th>2003-04-30</th>\n",
       "      <td>63.874584</td>\n",
       "    </tr>\n",
       "    <tr>\n",
       "      <th>2003-05-31</th>\n",
       "      <td>63.629604</td>\n",
       "    </tr>\n",
       "  </tbody>\n",
       "</table>\n",
       "</div>"
      ],
      "text/plain": [
       "           Indice de Precios\n",
       "                       index\n",
       "Q                           \n",
       "2003-01-31         63.111588\n",
       "2003-02-28         63.468811\n",
       "2003-03-31         63.839314\n",
       "2003-04-30         63.874584\n",
       "2003-05-31         63.629604"
      ]
     },
     "execution_count": 24,
     "metadata": {},
     "output_type": "execute_result"
    }
   ],
   "source": [
    "cpi.head()"
   ]
  },
  {
   "cell_type": "code",
   "execution_count": 25,
   "metadata": {},
   "outputs": [],
   "source": [
    "# cpi = pd.read_csv('./../data/indice_precios.csv')\n",
    "# cpi.index = pd.date_range(\"1943-01\", periods=len(cpi), freq = 'M')\n",
    "# cpi = cpi.groupby(pd.TimeGrouper(freq='Q')).mean().loc[str(startyr):str(endyr)][['index']]#.to_csv(...)\n",
    "# cpi.set_index('index')\n",
    "# cpi.index.name = 'Q'\n",
    "# #\n",
    "# indice_precios = cpi\n",
    "\n",
    "# from pandas.tseries.offsets import MonthEnd"
   ]
  },
  {
   "cell_type": "code",
   "execution_count": 64,
   "metadata": {},
   "outputs": [],
   "source": [
    "# CBAr = pd.read_csv('./../data/CBA_regional.csv')\n",
    "CBAr = pd.read_csv('./../data/canasta-basica-alimentaria-regiones-del-pais.csv')\n",
    "CBAr.index = pd.date_range(start = dt.datetime(2016,4,1),  periods=len(CBAr), freq='M')\n",
    "CBAr = CBAr.drop(['indice_tiempo'], axis = 1)\n",
    "CBAr = CBAr.rename(columns = {'gran_buenos_aires': 'Gran Buenos Aires', 'cuyo': 'Cuyo', 'noreste': 'Noreste', \n",
    "                      'noroeste': 'Noroeste', 'pampeana': 'Pampeana', 'patagonia': 'Patagónica'})\n",
    "\n",
    "# CBTr = pd.read_csv('./../data/CBT_regional.csv')\n",
    "CBTr = pd.read_csv('./../data/canasta-basica-total-regiones-del-pais.csv')\n",
    "# CBTr.index = pd.date_range(start = dt.datetime(2016,4,1), end = dt.datetime(2019,6,30), freq='M')\n",
    "# CBTr = CBTr.drop(['Ano4', 'Mes', 'TRIMESTRE'], axis = 1)\n",
    "CBTr.index = pd.date_range(start = dt.datetime(2016,4,1),  periods=len(CBTr), freq='M')\n",
    "CBTr = CBTr.drop(['indice_tiempo'], axis = 1)\n",
    "CBTr = CBTr.rename(columns = {'gran_buenos_aires': 'Gran Buenos Aires', 'cuyo': 'Cuyo', 'noreste': 'Noreste', \n",
    "                      'noroeste': 'Noroeste', 'pampeana': 'Pampeana', 'patagonia': 'Patagónica'})\n",
    "\n",
    "#.stack().reset_index()\n",
    "CB = pd.concat([CBAr.stack(), CBTr.stack()], axis = 1)\n",
    "CB.columns = ['CBA', 'CBT']; CB.index.names = ['Mes', 'Region']"
   ]
  },
  {
   "cell_type": "code",
   "execution_count": 65,
   "metadata": {},
   "outputs": [],
   "source": [
    "# # 11747 (oct-nov 2019) se tiene que convertir en \n",
    "# 11747*(2283/1906) #para junio 2019\n",
    "# # 11747*(1.231485) #para 2019Q2"
   ]
  },
  {
   "cell_type": "code",
   "execution_count": 66,
   "metadata": {},
   "outputs": [],
   "source": [
    "\n",
    "# CB_i = pd.concat([CB.unstack(), cpi.iloc[:, 1]], axis = 1)\n",
    "CB_i = pd.concat([CB.unstack(), cpi], axis = 1)\n",
    "CB_defl = CB_i.iloc[:, :-1].div(CB_i.iloc[:, -1], 0)\n",
    "\n",
    "# # Check how the fillna works...\n",
    "# # fig, ax = plt.subplots(1, figsize = (7, 5))\n",
    "# # CB_defl.fillna(CB_defl.mean()).plot(legend = False, ax = ax)\n",
    "# # CB_defl.fillna(CB_defl.quantile(.25)).head(25).plot(legend = False, ax = ax, c = '.5')\n",
    "# # CB_defl.fillna(CB_defl.quantile(.75)).head(25).plot(legend = False, ax = ax, c = '.5')\n",
    "\n",
    "CB_defl = CB_defl.fillna(CB_defl.mean()).stack()\n",
    "CB_defl_Q = CB_defl.groupby([pd.Grouper(level = 0,freq = 'Q'), pd.Grouper(level = 1)]).mean()\n",
    "CB_defl_Q\n",
    "\n",
    "# idx = CB_i.iloc[:, -1]['2019-11-30']\n",
    "# CB_defl_Q = CB_defl_Q[['CBA', 'CBT']]*idx\n",
    "CB_defl_Q = CB_defl_Q[['CBA', 'CBT']]*2283\n",
    "\n",
    "\n",
    "CB_defl_Q.index.names = ['Q', 'Region']\n",
    "CB_defl_Q = CB_defl_Q.reset_index()\n",
    "CB_defl_Q[['CBA', 'CBT']] = CB_defl_Q[['CBA', 'CBT']]\n",
    "CB_defl_Q.to_csv('./../data/CB_Reg_defl.csv', index = False)"
   ]
  },
  {
   "cell_type": "code",
   "execution_count": null,
   "metadata": {},
   "outputs": [],
   "source": []
  },
  {
   "cell_type": "markdown",
   "metadata": {},
   "source": [
    "## Listo"
   ]
  },
  {
   "cell_type": "code",
   "execution_count": 67,
   "metadata": {},
   "outputs": [],
   "source": [
    "# Debug deflacion\n",
    "# val_list = []\n",
    "# for q in ['2018-09-30', '2018-06-30', '2018-03-31', '2017-12-31',\n",
    "#        '2017-09-30', '2017-06-30', '2017-03-31', '2016-12-31',\n",
    "#        '2016-09-30', '2016-06-30']:\n",
    "#     df = pd.read_csv('./../data/RFReg_'+str(frac)+'ARG'+q+'.csv', \n",
    "#                      usecols = ['P47T'], nrows = 50000)\n",
    "#     val_list += [df.median().values[0]]\n",
    "# plt.plot(np.array(val_list))"
   ]
  },
  {
   "cell_type": "code",
   "execution_count": 68,
   "metadata": {},
   "outputs": [
    {
     "data": {
      "text/html": [
       "<div>\n",
       "<style scoped>\n",
       "    .dataframe tbody tr th:only-of-type {\n",
       "        vertical-align: middle;\n",
       "    }\n",
       "\n",
       "    .dataframe tbody tr th {\n",
       "        vertical-align: top;\n",
       "    }\n",
       "\n",
       "    .dataframe thead th {\n",
       "        text-align: right;\n",
       "    }\n",
       "</style>\n",
       "<table border=\"1\" class=\"dataframe\">\n",
       "  <thead>\n",
       "    <tr style=\"text-align: right;\">\n",
       "      <th></th>\n",
       "      <th>Q</th>\n",
       "      <th>Region</th>\n",
       "      <th>CBA</th>\n",
       "      <th>CBT</th>\n",
       "    </tr>\n",
       "  </thead>\n",
       "  <tbody>\n",
       "    <tr>\n",
       "      <th>421</th>\n",
       "      <td>2020-09-30</td>\n",
       "      <td>Gran Buenos Aires</td>\n",
       "      <td>4835.902013</td>\n",
       "      <td>11911.131444</td>\n",
       "    </tr>\n",
       "    <tr>\n",
       "      <th>422</th>\n",
       "      <td>2020-09-30</td>\n",
       "      <td>Noreste</td>\n",
       "      <td>4315.917733</td>\n",
       "      <td>9954.931062</td>\n",
       "    </tr>\n",
       "    <tr>\n",
       "      <th>423</th>\n",
       "      <td>2020-09-30</td>\n",
       "      <td>Noroeste</td>\n",
       "      <td>4204.770315</td>\n",
       "      <td>9613.770425</td>\n",
       "    </tr>\n",
       "    <tr>\n",
       "      <th>424</th>\n",
       "      <td>2020-09-30</td>\n",
       "      <td>Pampeana</td>\n",
       "      <td>4797.577940</td>\n",
       "      <td>11814.617967</td>\n",
       "    </tr>\n",
       "    <tr>\n",
       "      <th>425</th>\n",
       "      <td>2020-09-30</td>\n",
       "      <td>Patagónica</td>\n",
       "      <td>4985.734599</td>\n",
       "      <td>13940.959730</td>\n",
       "    </tr>\n",
       "  </tbody>\n",
       "</table>\n",
       "</div>"
      ],
      "text/plain": [
       "             Q             Region          CBA           CBT\n",
       "421 2020-09-30  Gran Buenos Aires  4835.902013  11911.131444\n",
       "422 2020-09-30            Noreste  4315.917733   9954.931062\n",
       "423 2020-09-30           Noroeste  4204.770315   9613.770425\n",
       "424 2020-09-30           Pampeana  4797.577940  11814.617967\n",
       "425 2020-09-30         Patagónica  4985.734599  13940.959730"
      ]
     },
     "execution_count": 68,
     "metadata": {},
     "output_type": "execute_result"
    }
   ],
   "source": [
    "CB_defl_Q.tail()"
   ]
  },
  {
   "cell_type": "code",
   "execution_count": null,
   "metadata": {},
   "outputs": [],
   "source": [
    "## Rellena las canastas que faltan...\n",
    "# CB_defl_Q.set_index(['Q', 'Region']).unstack()"
   ]
  }
 ],
 "metadata": {
  "kernelspec": {
   "display_name": "Python 3",
   "language": "python",
   "name": "python3"
  },
  "language_info": {
   "codemirror_mode": {
    "name": "ipython",
    "version": 3
   },
   "file_extension": ".py",
   "mimetype": "text/x-python",
   "name": "python",
   "nbconvert_exporter": "python",
   "pygments_lexer": "ipython3",
   "version": "3.6.7"
  }
 },
 "nbformat": 4,
 "nbformat_minor": 2
}
