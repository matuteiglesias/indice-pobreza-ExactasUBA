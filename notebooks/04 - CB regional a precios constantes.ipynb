{
 "cells": [
  {
   "cell_type": "code",
   "execution_count": 25,
   "metadata": {},
   "outputs": [],
   "source": [
    "import pandas as pd\n",
    "import matplotlib.pyplot as plt\n",
    "import seaborn as sns\n",
    "\n",
    "pd.options.display.max_columns = 60\n",
    "pd.options.display.max_rows = 500\n",
    "import warnings\n",
    "warnings.filterwarnings('ignore')\n",
    "\n",
    "import numpy as np\n",
    "import datetime as dt"
   ]
  },
  {
   "cell_type": "markdown",
   "metadata": {},
   "source": [
    "## Canasta basica regional a precios constantes\n",
    "\n",
    "### Indice de precios"
   ]
  },
  {
   "cell_type": "code",
   "execution_count": 26,
   "metadata": {},
   "outputs": [],
   "source": [
    "# col_mon = [u'P21', u'P47T', u'PP08D1', u'TOT_P12', u'T_VI', u'V12_M', u'V2_M', u'V3_M', u'V5_M']\n",
    "\n",
    "cpi = pd.read_csv('./../data/info/indice_precios_M.csv', index_col=0)\n",
    "cpi.index = pd.to_datetime(cpi.index)\n",
    "cpi = cpi.loc['2000':]\n",
    "\n",
    "cpi.columns = pd.MultiIndex.from_product([['Indice de Precios'], cpi.columns])\n"
   ]
  },
  {
   "cell_type": "markdown",
   "metadata": {},
   "source": [
    "### Valores de las canastas regionales, basica y total"
   ]
  },
  {
   "cell_type": "code",
   "execution_count": 27,
   "metadata": {},
   "outputs": [],
   "source": [
    "CBAr = pd.read_csv('./../data/info/CBA_regional.csv')\n",
    "CBAr.index = pd.date_range(start = dt.datetime(2016,4,1), end = dt.datetime(2019,6,30), freq='M')\n",
    "CBAr = CBAr.drop(['Ano4', 'Mes', 'TRIMESTRE'], axis = 1)\n",
    "\n",
    "CBTr = pd.read_csv('./../data/info/CBT_regional.csv')\n",
    "CBTr.index = pd.date_range(start = dt.datetime(2016,4,1), end = dt.datetime(2019,6,30), freq='M')\n",
    "CBTr = CBTr.drop(['Ano4', 'Mes', 'TRIMESTRE'], axis = 1)\n",
    "\n",
    "#.stack().reset_index()\n",
    "CB = pd.concat([CBAr.stack(), CBTr.stack()], axis = 1)\n",
    "CB.columns = ['CBA', 'CBT']; CB.index.names = ['Mes', 'Region']"
   ]
  },
  {
   "cell_type": "code",
   "execution_count": 28,
   "metadata": {},
   "outputs": [],
   "source": [
    "# # 11747 (oct-nov 2019) se tiene que convertir en \n",
    "# 11747*(2283/1906) #para junio 2019\n",
    "# # 11747*(1.231485) #para 2019Q2"
   ]
  },
  {
   "cell_type": "code",
   "execution_count": 34,
   "metadata": {},
   "outputs": [
    {
     "data": {
      "text/html": [
       "<div>\n",
       "<style scoped>\n",
       "    .dataframe tbody tr th:only-of-type {\n",
       "        vertical-align: middle;\n",
       "    }\n",
       "\n",
       "    .dataframe tbody tr th {\n",
       "        vertical-align: top;\n",
       "    }\n",
       "\n",
       "    .dataframe thead th {\n",
       "        text-align: right;\n",
       "    }\n",
       "</style>\n",
       "<table border=\"1\" class=\"dataframe\">\n",
       "  <thead>\n",
       "    <tr style=\"text-align: right;\">\n",
       "      <th></th>\n",
       "      <th>index</th>\n",
       "    </tr>\n",
       "  </thead>\n",
       "  <tbody>\n",
       "    <tr>\n",
       "      <th>2020-09-30</th>\n",
       "      <td>2903.602346</td>\n",
       "    </tr>\n",
       "    <tr>\n",
       "      <th>2020-10-31</th>\n",
       "      <td>3012.805954</td>\n",
       "    </tr>\n",
       "    <tr>\n",
       "      <th>2020-11-30</th>\n",
       "      <td>3108.001733</td>\n",
       "    </tr>\n",
       "    <tr>\n",
       "      <th>2020-12-31</th>\n",
       "      <td>3188.361836</td>\n",
       "    </tr>\n",
       "    <tr>\n",
       "      <th>2021-01-31</th>\n",
       "      <td>3270.799721</td>\n",
       "    </tr>\n",
       "  </tbody>\n",
       "</table>\n",
       "</div>"
      ],
      "text/plain": [
       "                  index\n",
       "2020-09-30  2903.602346\n",
       "2020-10-31  3012.805954\n",
       "2020-11-30  3108.001733\n",
       "2020-12-31  3188.361836\n",
       "2021-01-31  3270.799721"
      ]
     },
     "metadata": {},
     "output_type": "display_data"
    }
   ],
   "source": [
    "cpi_M = pd.read_csv('./../data/info/indice_precios_M.csv', index_col=0)\n",
    "display(cpi_M.tail())\n",
    "cpi_mes_actual = cpi_M.iloc[-1][0]"
   ]
  },
  {
   "cell_type": "code",
   "execution_count": 30,
   "metadata": {},
   "outputs": [],
   "source": [
    "CB_i = pd.concat([CB.unstack(), cpi], axis = 1)\n",
    "CB_defl = CB_i.iloc[:, :-1].div(CB_i.iloc[:, -1], 0) # divided by cpi index\n",
    "\n",
    "# # Check how the fillna works...\n",
    "# # fig, ax = plt.subplots(1, figsize = (7, 5))\n",
    "# # CB_defl.fillna(CB_defl.mean()).plot(legend = False, ax = ax)\n",
    "# # CB_defl.fillna(CB_defl.quantile(.25)).head(25).plot(legend = False, ax = ax, c = '.5')\n",
    "# # CB_defl.fillna(CB_defl.quantile(.75)).head(25).plot(legend = False, ax = ax, c = '.5')\n",
    "\n",
    "CB_defl = CB_defl.fillna(CB_defl.mean()).stack()*cpi_mes_actual\n",
    "CB_defl_Q = CB_defl.groupby([pd.Grouper(level = 0,freq = 'Q'), pd.Grouper(level = 1)]).mean()\n",
    "\n",
    "CB_defl_Q.index.names = ['Q', 'Region']\n",
    "CB_defl_Q = CB_defl_Q.reset_index()\n",
    "CB_defl_Q.to_csv('./../data/info/CB_Reg_defl.csv', index = False)"
   ]
  },
  {
   "cell_type": "markdown",
   "metadata": {},
   "source": [
    "## Listo"
   ]
  },
  {
   "cell_type": "code",
   "execution_count": 8,
   "metadata": {},
   "outputs": [],
   "source": [
    "# # Debug deflacion\n",
    "# frac = 0.02\n",
    "# val_list = []\n",
    "# for q in ['2020-06-30', '2020-03-31']:\n",
    "#     df = pd.read_csv('./../data/yr_samples/RFReg_'+str(frac)+'ARG'+q+'.csv', \n",
    "#                      usecols = ['P47T'], nrows = 50000)\n",
    "#     val_list += [df.median().values[0]]\n",
    "# plt.plot(np.array(val_list))"
   ]
  },
  {
   "cell_type": "code",
   "execution_count": 32,
   "metadata": {},
   "outputs": [
    {
     "data": {
      "text/html": [
       "<div>\n",
       "<style scoped>\n",
       "    .dataframe tbody tr th:only-of-type {\n",
       "        vertical-align: middle;\n",
       "    }\n",
       "\n",
       "    .dataframe tbody tr th {\n",
       "        vertical-align: top;\n",
       "    }\n",
       "\n",
       "    .dataframe thead th {\n",
       "        text-align: right;\n",
       "    }\n",
       "</style>\n",
       "<table border=\"1\" class=\"dataframe\">\n",
       "  <thead>\n",
       "    <tr style=\"text-align: right;\">\n",
       "      <th></th>\n",
       "      <th>Q</th>\n",
       "      <th>Region</th>\n",
       "      <th>CBA</th>\n",
       "      <th>CBT</th>\n",
       "    </tr>\n",
       "  </thead>\n",
       "  <tbody>\n",
       "    <tr>\n",
       "      <th>505</th>\n",
       "      <td>2021-03-31</td>\n",
       "      <td>Gran Buenos Aires</td>\n",
       "      <td>6886.283198</td>\n",
       "      <td>16971.379763</td>\n",
       "    </tr>\n",
       "    <tr>\n",
       "      <th>506</th>\n",
       "      <td>2021-03-31</td>\n",
       "      <td>Noreste</td>\n",
       "      <td>6140.866592</td>\n",
       "      <td>14174.984051</td>\n",
       "    </tr>\n",
       "    <tr>\n",
       "      <th>507</th>\n",
       "      <td>2021-03-31</td>\n",
       "      <td>Noroeste</td>\n",
       "      <td>5985.345188</td>\n",
       "      <td>13694.944878</td>\n",
       "    </tr>\n",
       "    <tr>\n",
       "      <th>508</th>\n",
       "      <td>2021-03-31</td>\n",
       "      <td>Pampeana</td>\n",
       "      <td>6837.050703</td>\n",
       "      <td>16847.784886</td>\n",
       "    </tr>\n",
       "    <tr>\n",
       "      <th>509</th>\n",
       "      <td>2021-03-31</td>\n",
       "      <td>Patagónica</td>\n",
       "      <td>7088.929189</td>\n",
       "      <td>19831.615890</td>\n",
       "    </tr>\n",
       "  </tbody>\n",
       "</table>\n",
       "</div>"
      ],
      "text/plain": [
       "             Q             Region          CBA           CBT\n",
       "505 2021-03-31  Gran Buenos Aires  6886.283198  16971.379763\n",
       "506 2021-03-31            Noreste  6140.866592  14174.984051\n",
       "507 2021-03-31           Noroeste  5985.345188  13694.944878\n",
       "508 2021-03-31           Pampeana  6837.050703  16847.784886\n",
       "509 2021-03-31         Patagónica  7088.929189  19831.615890"
      ]
     },
     "execution_count": 32,
     "metadata": {},
     "output_type": "execute_result"
    }
   ],
   "source": [
    "CB_defl_Q.tail()"
   ]
  },
  {
   "cell_type": "code",
   "execution_count": null,
   "metadata": {},
   "outputs": [],
   "source": []
  }
 ],
 "metadata": {
  "kernelspec": {
   "display_name": "Python 3",
   "language": "python",
   "name": "python3"
  },
  "language_info": {
   "codemirror_mode": {
    "name": "ipython",
    "version": 3
   },
   "file_extension": ".py",
   "mimetype": "text/x-python",
   "name": "python",
   "nbconvert_exporter": "python",
   "pygments_lexer": "ipython3",
   "version": "3.8.5"
  }
 },
 "nbformat": 4,
 "nbformat_minor": 2
}
