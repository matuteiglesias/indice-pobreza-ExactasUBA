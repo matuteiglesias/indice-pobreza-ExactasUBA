{
 "cells": [
  {
   "cell_type": "markdown",
   "metadata": {},
   "source": [
    "# Training ML algos on EPH. Predicting on CENSO."
   ]
  },
  {
   "cell_type": "code",
   "execution_count": 1,
   "metadata": {},
   "outputs": [],
   "source": [
    "yr = '2020'"
   ]
  },
  {
   "cell_type": "code",
   "execution_count": 21,
   "metadata": {},
   "outputs": [
    {
     "data": {
      "text/html": [
       "<style>.container { width:100% !important; }</style>"
      ],
      "text/plain": [
       "<IPython.core.display.HTML object>"
      ]
     },
     "metadata": {},
     "output_type": "display_data"
    }
   ],
   "source": [
    "# Load modules\n",
    "import warnings\n",
    "warnings.filterwarnings('ignore')\n",
    "\n",
    "import pandas as pd\n",
    "import numpy as np\n",
    "\n",
    "from sklearn.model_selection import train_test_split\n",
    "from sklearn.ensemble import RandomForestClassifier, RandomForestRegressor\n",
    "from IPython.core.display import display, HTML\n",
    "\n",
    "import pickle\n",
    "from IPython.core.display import display, HTML\n",
    "display(HTML(\"<style>.container { width:100% !important; }</style>\"))\n",
    "\n",
    "import os"
   ]
  },
  {
   "cell_type": "code",
   "execution_count": 22,
   "metadata": {},
   "outputs": [],
   "source": [
    "# Column names\n",
    "y_cols = ['CAT_OCUP', 'P47T', 'PP10E', 'PP10D', 'PP07K', 'PP07I', 'V3_M', 'PP07G4', 'CH16', 'T_VI', \n",
    "          'V12_M', 'TOT_P12', 'PP07G3', 'V5_M', 'PP07H', 'V2_M', 'PP10C', \n",
    "          'PP08D1', 'PP07J', 'CAT_INAC', 'CH07', 'CH08', 'P21', 'PP07G1', 'PP07G_59', 'PP07G2']\n",
    "\n",
    "\n",
    "x_cols = ['IX_TOT', 'P02', 'P03', 'AGLO_rk', 'Reg_rk', 'V01', 'H05', 'H06',\n",
    "       'H07', 'H08', 'H09', 'H10', 'H11', 'H12', 'H16', 'H15', 'PROP', 'H14',\n",
    "       'H13', 'P07', 'P08', 'P09', 'P10', 'P05', 'CONDACT']\n",
    "\n",
    "x_cols1 = x_cols\n",
    "predecir1 = ['CAT_OCUP', 'CAT_INAC', 'CH07']\n",
    "\n",
    "x_cols2 = x_cols1 + predecir1\n",
    "predecir2 = ['INGRESO', 'INGRESO_NLB', 'INGRESO_JUB', 'INGRESO_SBS']\n",
    "\n",
    "x_cols3 = x_cols2 + predecir2\n",
    "# La seccion PP07G pregunta si el trabajo es en blanco y que beneficios tiene. Puede ayudar a la regresion para ingresos.\n",
    "# predecir3 = ['PP07G1', 'PP07G2', 'PP07G3', 'PP07G4', 'PP07G_59', 'PP07H', 'PP07I', 'PP07J', 'PP07K']\n",
    "predecir3 = ['PP07G1','PP07G_59', 'PP07I', 'PP07J', 'PP07K']\n",
    "\n",
    "# Columnas de ingresos. Necesitan una regresion...\n",
    "columnas_pesos = [u'P21', u'P47T', u'PP08D1', u'TOT_P12', u'T_VI', u'V12_M', u'V2_M', u'V3_M', u'V5_M']\n",
    "# P21: INGRESO DE LA OCUPACIÓN PRINCIPAL \n",
    "# P47T: TOTAL (laboral y no laboral)\n",
    "# PP08D1: Sueldos, jornales, etc.\n",
    "# TOT_P12: TOTAL DE INGRESO  POR  OTRAS OCUPACIONES (Secundaria, previa...)\n",
    "# T_VI: TOTAL DE INGRESOS NO LABORALES\n",
    "# V12_M:  CUOTAS DE ALIMENTOS O AYUDA EN DINERO  DE PERSONAS QUE NO VIVEN EN EL HOGAR \n",
    "# V2_M: ingreso por JUBILACION O PENSION\n",
    "# V3_M: INDEMNIZACION POR DESPIDO \n",
    "# V5_M: SUBSIDIO  O AYUDA SOCIAL DEL GOBIERNO, IGLESIAS, ETC."
   ]
  },
  {
   "cell_type": "markdown",
   "metadata": {},
   "source": [
    "### Load info"
   ]
  },
  {
   "cell_type": "code",
   "execution_count": 23,
   "metadata": {
    "scrolled": false
   },
   "outputs": [],
   "source": [
    "radio_ref = pd.read_csv('./../data/info/radio_ref.csv')\n",
    "# radio_ref[['PROV','NOMPROV','DPTO', 'NOMDPTO']].drop_duplicates().to_csv('./../data/DPTO_PROV.csv', index = False)\n",
    "dpto_region = pd.read_csv('./../data/info/DPTO_PROV_Region.csv')\n",
    "radio_ref = radio_ref.merge(dpto_region)\n",
    "\n",
    "AGLO_rk = pd.read_csv('./../data/info/AGLO_rk')\n",
    "Reg_rk = pd.read_csv('./../data/info/Reg_rk')"
   ]
  },
  {
   "cell_type": "code",
   "execution_count": 24,
   "metadata": {},
   "outputs": [],
   "source": [
    "frac = 0.02"
   ]
  },
  {
   "cell_type": "markdown",
   "metadata": {},
   "source": [
    "# Error en test set"
   ]
  },
  {
   "cell_type": "code",
   "execution_count": 25,
   "metadata": {},
   "outputs": [],
   "source": [
    "## Usando la notacion:\n",
    "# True Positives (TP)\n",
    "# True Negatives (TN)\n",
    "# False Positives (FP)\n",
    "# False Negatives (FN)\n",
    "\n",
    "# Tenemos que:\n",
    "# Precision = TP/TP+FP\n",
    "# Baja precision significa que metemos muchos en esta clase.\n",
    "\n",
    "# Recall = TP/TP+FN\n",
    "# Bajo recall significa que no pudimos detectar la clase\n",
    "\n",
    "# F1 Score = 2*(Recall * Precision) / (Recall + Precision)\n",
    "# Promedio ponderado de precision y recall"
   ]
  },
  {
   "cell_type": "code",
   "execution_count": 26,
   "metadata": {},
   "outputs": [],
   "source": [
    "from sklearn.metrics import classification_report\n",
    "varnames = pd.read_csv('./../data/info/VARIABLE_NAMES.csv')"
   ]
  },
  {
   "cell_type": "code",
   "execution_count": 30,
   "metadata": {},
   "outputs": [],
   "source": [
    "train_data = pd.read_csv('./../data/training/EPHARG_train_'+yr[2:]+'.csv')\n",
    "train_data = train_data.loc[train_data.P47T >= -0.001].fillna(0)#.sample(400000) # remove entries with bad data (almost none)\n",
    "train_data = train_data.sort_values('CODUSU') ## Esto es porque los hogares se repiten en cada cuatrimestre, y entonces se da un overfitting, \n",
    "# es decir, las predicciones en test set van a ser muy buenas porque ya se observo a la misma gente en el trimestre anterior\n",
    "\n",
    "### STEP 1\n",
    "x_cols1 = x_cols\n",
    "y_cols1 = predecir1\n",
    "\n",
    "X = train_data[x_cols1]\n",
    "y = train_data[y_cols1]#.loc[X.index]\n",
    "\n",
    "X_train, X_test, y_train, y_test = train_test_split(X, y, test_size=0.1)\n",
    "# Rewrite Census data as 'test' set.\n",
    "\n",
    "# ## Cargar Modelo\n",
    "# filename = './../fitted_RF/clf1_'+str(frac)+'_'+yr+'_ARG.sav'\n",
    "# clf1 = pickle.load(open(filename, 'rb'))\n",
    "\n",
    "forest = RandomForestClassifier(n_estimators=70, max_depth = 35, n_jobs = -1)\n",
    "clf1 = forest.fit(X_train.values, y_train.values)"
   ]
  },
  {
   "cell_type": "code",
   "execution_count": 31,
   "metadata": {},
   "outputs": [],
   "source": [
    "y_out1 = clf1.predict(X_test[x_cols1].values)\n",
    "y_censo_fit1 = pd.DataFrame(y_out1, index = X_test.index, columns=predecir1)"
   ]
  },
  {
   "cell_type": "code",
   "execution_count": 32,
   "metadata": {},
   "outputs": [
    {
     "name": "stdout",
     "output_type": "stream",
     "text": [
      "CAT_OCUP\n",
      "Cat ocupacional (patron/obrero/etc)\n",
      "              precision    recall  f1-score   support\n",
      "\n",
      "           0       1.00      1.00      1.00     10314\n",
      "           1       0.79      0.53      0.64       180\n",
      "           2       0.91      0.67      0.78      1480\n",
      "           3       0.89      0.98      0.93      4901\n",
      "           4       0.96      0.49      0.65        47\n",
      "\n",
      "    accuracy                           0.96     16922\n",
      "   macro avg       0.91      0.73      0.80     16922\n",
      "weighted avg       0.96      0.96      0.96     16922\n",
      "\n"
     ]
    },
    {
     "data": {
      "text/html": [
       "<div>\n",
       "<style scoped>\n",
       "    .dataframe tbody tr th:only-of-type {\n",
       "        vertical-align: middle;\n",
       "    }\n",
       "\n",
       "    .dataframe tbody tr th {\n",
       "        vertical-align: top;\n",
       "    }\n",
       "\n",
       "    .dataframe thead th {\n",
       "        text-align: right;\n",
       "    }\n",
       "</style>\n",
       "<table border=\"1\" class=\"dataframe\">\n",
       "  <thead>\n",
       "    <tr style=\"text-align: right;\">\n",
       "      <th></th>\n",
       "      <th>true</th>\n",
       "      <th>predicted</th>\n",
       "    </tr>\n",
       "  </thead>\n",
       "  <tbody>\n",
       "    <tr>\n",
       "      <th>0</th>\n",
       "      <td>61.0</td>\n",
       "      <td>60.8</td>\n",
       "    </tr>\n",
       "    <tr>\n",
       "      <th>3</th>\n",
       "      <td>29.0</td>\n",
       "      <td>31.9</td>\n",
       "    </tr>\n",
       "    <tr>\n",
       "      <th>2</th>\n",
       "      <td>8.7</td>\n",
       "      <td>6.4</td>\n",
       "    </tr>\n",
       "    <tr>\n",
       "      <th>1</th>\n",
       "      <td>1.1</td>\n",
       "      <td>0.7</td>\n",
       "    </tr>\n",
       "    <tr>\n",
       "      <th>4</th>\n",
       "      <td>0.3</td>\n",
       "      <td>0.1</td>\n",
       "    </tr>\n",
       "  </tbody>\n",
       "</table>\n",
       "</div>"
      ],
      "text/plain": [
       "   true  predicted\n",
       "0  61.0       60.8\n",
       "3  29.0       31.9\n",
       "2   8.7        6.4\n",
       "1   1.1        0.7\n",
       "4   0.3        0.1"
      ]
     },
     "metadata": {},
     "output_type": "display_data"
    },
    {
     "name": "stdout",
     "output_type": "stream",
     "text": [
      "******************\n",
      "CAT_INAC\n",
      "Cat inactivo (jubilado/rentista/estudiante)\n",
      "              precision    recall  f1-score   support\n",
      "\n",
      "           0       1.00      1.00      1.00      6728\n",
      "           1       0.96      0.97      0.97      2457\n",
      "           2       0.90      0.47      0.62        19\n",
      "           3       1.00      1.00      1.00      4368\n",
      "           4       0.92      0.94      0.93      1422\n",
      "           5       1.00      1.00      1.00      1475\n",
      "           6       0.95      0.64      0.77        64\n",
      "           7       0.89      0.81      0.85       389\n",
      "\n",
      "    accuracy                           0.98     16922\n",
      "   macro avg       0.95      0.85      0.89     16922\n",
      "weighted avg       0.98      0.98      0.98     16922\n",
      "\n"
     ]
    },
    {
     "data": {
      "text/html": [
       "<div>\n",
       "<style scoped>\n",
       "    .dataframe tbody tr th:only-of-type {\n",
       "        vertical-align: middle;\n",
       "    }\n",
       "\n",
       "    .dataframe tbody tr th {\n",
       "        vertical-align: top;\n",
       "    }\n",
       "\n",
       "    .dataframe thead th {\n",
       "        text-align: right;\n",
       "    }\n",
       "</style>\n",
       "<table border=\"1\" class=\"dataframe\">\n",
       "  <thead>\n",
       "    <tr style=\"text-align: right;\">\n",
       "      <th></th>\n",
       "      <th>true</th>\n",
       "      <th>predicted</th>\n",
       "    </tr>\n",
       "  </thead>\n",
       "  <tbody>\n",
       "    <tr>\n",
       "      <th>0</th>\n",
       "      <td>39.8</td>\n",
       "      <td>39.8</td>\n",
       "    </tr>\n",
       "    <tr>\n",
       "      <th>3</th>\n",
       "      <td>25.8</td>\n",
       "      <td>25.9</td>\n",
       "    </tr>\n",
       "    <tr>\n",
       "      <th>1</th>\n",
       "      <td>14.5</td>\n",
       "      <td>14.6</td>\n",
       "    </tr>\n",
       "    <tr>\n",
       "      <th>5</th>\n",
       "      <td>8.7</td>\n",
       "      <td>8.7</td>\n",
       "    </tr>\n",
       "    <tr>\n",
       "      <th>4</th>\n",
       "      <td>8.4</td>\n",
       "      <td>8.6</td>\n",
       "    </tr>\n",
       "    <tr>\n",
       "      <th>7</th>\n",
       "      <td>2.3</td>\n",
       "      <td>2.1</td>\n",
       "    </tr>\n",
       "    <tr>\n",
       "      <th>6</th>\n",
       "      <td>0.4</td>\n",
       "      <td>0.3</td>\n",
       "    </tr>\n",
       "    <tr>\n",
       "      <th>2</th>\n",
       "      <td>0.1</td>\n",
       "      <td>0.1</td>\n",
       "    </tr>\n",
       "  </tbody>\n",
       "</table>\n",
       "</div>"
      ],
      "text/plain": [
       "   true  predicted\n",
       "0  39.8       39.8\n",
       "3  25.8       25.9\n",
       "1  14.5       14.6\n",
       "5   8.7        8.7\n",
       "4   8.4        8.6\n",
       "7   2.3        2.1\n",
       "6   0.4        0.3\n",
       "2   0.1        0.1"
      ]
     },
     "metadata": {},
     "output_type": "display_data"
    },
    {
     "name": "stdout",
     "output_type": "stream",
     "text": [
      "******************\n",
      "CH07\n",
      "estado civil\n",
      "              precision    recall  f1-score   support\n",
      "\n",
      "           1       0.90      0.86      0.88      2744\n",
      "           2       0.88      0.93      0.90      3552\n",
      "           3       0.91      0.75      0.82       952\n",
      "           4       0.89      0.89      0.89       783\n",
      "           5       0.97      0.98      0.97      8891\n",
      "\n",
      "    accuracy                           0.93     16922\n",
      "   macro avg       0.91      0.88      0.89     16922\n",
      "weighted avg       0.93      0.93      0.93     16922\n",
      "\n"
     ]
    },
    {
     "data": {
      "text/html": [
       "<div>\n",
       "<style scoped>\n",
       "    .dataframe tbody tr th:only-of-type {\n",
       "        vertical-align: middle;\n",
       "    }\n",
       "\n",
       "    .dataframe tbody tr th {\n",
       "        vertical-align: top;\n",
       "    }\n",
       "\n",
       "    .dataframe thead th {\n",
       "        text-align: right;\n",
       "    }\n",
       "</style>\n",
       "<table border=\"1\" class=\"dataframe\">\n",
       "  <thead>\n",
       "    <tr style=\"text-align: right;\">\n",
       "      <th></th>\n",
       "      <th>true</th>\n",
       "      <th>predicted</th>\n",
       "    </tr>\n",
       "  </thead>\n",
       "  <tbody>\n",
       "    <tr>\n",
       "      <th>1</th>\n",
       "      <td>16.2</td>\n",
       "      <td>15.5</td>\n",
       "    </tr>\n",
       "    <tr>\n",
       "      <th>2</th>\n",
       "      <td>21.0</td>\n",
       "      <td>22.2</td>\n",
       "    </tr>\n",
       "    <tr>\n",
       "      <th>3</th>\n",
       "      <td>5.6</td>\n",
       "      <td>4.6</td>\n",
       "    </tr>\n",
       "    <tr>\n",
       "      <th>4</th>\n",
       "      <td>4.6</td>\n",
       "      <td>4.6</td>\n",
       "    </tr>\n",
       "    <tr>\n",
       "      <th>5</th>\n",
       "      <td>52.5</td>\n",
       "      <td>53.1</td>\n",
       "    </tr>\n",
       "  </tbody>\n",
       "</table>\n",
       "</div>"
      ],
      "text/plain": [
       "   true  predicted\n",
       "1  16.2       15.5\n",
       "2  21.0       22.2\n",
       "3   5.6        4.6\n",
       "4   4.6        4.6\n",
       "5  52.5       53.1"
      ]
     },
     "metadata": {},
     "output_type": "display_data"
    },
    {
     "name": "stdout",
     "output_type": "stream",
     "text": [
      "******************\n"
     ]
    }
   ],
   "source": [
    "for col in y_test.columns:\n",
    "    print(col)\n",
    "    print(varnames.loc[varnames.EPH == col].Pregunta.values[0])\n",
    "    print(classification_report(y_test[col], y_censo_fit1[col]))\n",
    "    freqs = pd.DataFrame(pd.concat([y_test[col].value_counts()/len(y_test), y_censo_fit1[col].value_counts()/len(y_test)], axis = 1)); freqs.columns = ['true', 'predicted']\n",
    "    display(100*freqs.round(3))\n",
    "    print('******************')"
   ]
  },
  {
   "cell_type": "markdown",
   "metadata": {},
   "source": [
    "## Classification 2\n",
    "Columna INGRESO"
   ]
  },
  {
   "cell_type": "code",
   "execution_count": 11,
   "metadata": {},
   "outputs": [],
   "source": [
    "train_data['INGRESO'] = (train_data.P47T > 100).astype(int)\n",
    "train_data['INGRESO_NLB'] = (train_data.T_VI > 100).astype(int)\n",
    "train_data['INGRESO_JUB'] = (train_data.V2_M > 100).astype(int)\n",
    "train_data['INGRESO_SBS'] = (train_data.V5_M > 100).astype(int)\n",
    "\n",
    "### STEP 2\n",
    "y_cols2 = predecir2\n",
    "\n",
    "X = train_data[x_cols2]\n",
    "y = train_data[y_cols2]#.loc[X.index]\n",
    "\n",
    "X_train, X_test, y_train, y_test = train_test_split(X, y, test_size=0.1)\n",
    "\n",
    "forest = RandomForestClassifier(n_estimators=50, max_depth = 35, n_jobs = -1)\n",
    "clf2 = forest.fit(X_train.values, y_train.values)\n"
   ]
  },
  {
   "cell_type": "code",
   "execution_count": 12,
   "metadata": {},
   "outputs": [
    {
     "name": "stdout",
     "output_type": "stream",
     "text": [
      "INGRESO\n",
      "              precision    recall  f1-score   support\n",
      "\n",
      "           0       0.97      0.98      0.98      3708\n",
      "           1       0.98      0.98      0.98      4753\n",
      "\n",
      "    accuracy                           0.98      8461\n",
      "   macro avg       0.98      0.98      0.98      8461\n",
      "weighted avg       0.98      0.98      0.98      8461\n",
      "\n"
     ]
    },
    {
     "data": {
      "text/html": [
       "<div>\n",
       "<style scoped>\n",
       "    .dataframe tbody tr th:only-of-type {\n",
       "        vertical-align: middle;\n",
       "    }\n",
       "\n",
       "    .dataframe tbody tr th {\n",
       "        vertical-align: top;\n",
       "    }\n",
       "\n",
       "    .dataframe thead th {\n",
       "        text-align: right;\n",
       "    }\n",
       "</style>\n",
       "<table border=\"1\" class=\"dataframe\">\n",
       "  <thead>\n",
       "    <tr style=\"text-align: right;\">\n",
       "      <th></th>\n",
       "      <th>true</th>\n",
       "      <th>predicted</th>\n",
       "    </tr>\n",
       "  </thead>\n",
       "  <tbody>\n",
       "    <tr>\n",
       "      <th>1</th>\n",
       "      <td>56.2</td>\n",
       "      <td>56.0</td>\n",
       "    </tr>\n",
       "    <tr>\n",
       "      <th>0</th>\n",
       "      <td>43.8</td>\n",
       "      <td>44.0</td>\n",
       "    </tr>\n",
       "  </tbody>\n",
       "</table>\n",
       "</div>"
      ],
      "text/plain": [
       "   true  predicted\n",
       "1  56.2       56.0\n",
       "0  43.8       44.0"
      ]
     },
     "metadata": {},
     "output_type": "display_data"
    },
    {
     "name": "stdout",
     "output_type": "stream",
     "text": [
      "******************\n",
      "INGRESO_NLB\n",
      "              precision    recall  f1-score   support\n",
      "\n",
      "           0       0.96      0.99      0.98      6169\n",
      "           1       0.98      0.89      0.93      2292\n",
      "\n",
      "    accuracy                           0.96      8461\n",
      "   macro avg       0.97      0.94      0.95      8461\n",
      "weighted avg       0.96      0.96      0.96      8461\n",
      "\n"
     ]
    },
    {
     "data": {
      "text/html": [
       "<div>\n",
       "<style scoped>\n",
       "    .dataframe tbody tr th:only-of-type {\n",
       "        vertical-align: middle;\n",
       "    }\n",
       "\n",
       "    .dataframe tbody tr th {\n",
       "        vertical-align: top;\n",
       "    }\n",
       "\n",
       "    .dataframe thead th {\n",
       "        text-align: right;\n",
       "    }\n",
       "</style>\n",
       "<table border=\"1\" class=\"dataframe\">\n",
       "  <thead>\n",
       "    <tr style=\"text-align: right;\">\n",
       "      <th></th>\n",
       "      <th>true</th>\n",
       "      <th>predicted</th>\n",
       "    </tr>\n",
       "  </thead>\n",
       "  <tbody>\n",
       "    <tr>\n",
       "      <th>0</th>\n",
       "      <td>72.9</td>\n",
       "      <td>75.3</td>\n",
       "    </tr>\n",
       "    <tr>\n",
       "      <th>1</th>\n",
       "      <td>27.1</td>\n",
       "      <td>24.7</td>\n",
       "    </tr>\n",
       "  </tbody>\n",
       "</table>\n",
       "</div>"
      ],
      "text/plain": [
       "   true  predicted\n",
       "0  72.9       75.3\n",
       "1  27.1       24.7"
      ]
     },
     "metadata": {},
     "output_type": "display_data"
    },
    {
     "name": "stdout",
     "output_type": "stream",
     "text": [
      "******************\n",
      "INGRESO_JUB\n",
      "              precision    recall  f1-score   support\n",
      "\n",
      "           0       0.99      1.00      1.00      7078\n",
      "           1       1.00      0.97      0.98      1383\n",
      "\n",
      "    accuracy                           0.99      8461\n",
      "   macro avg       1.00      0.99      0.99      8461\n",
      "weighted avg       0.99      0.99      0.99      8461\n",
      "\n"
     ]
    },
    {
     "data": {
      "text/html": [
       "<div>\n",
       "<style scoped>\n",
       "    .dataframe tbody tr th:only-of-type {\n",
       "        vertical-align: middle;\n",
       "    }\n",
       "\n",
       "    .dataframe tbody tr th {\n",
       "        vertical-align: top;\n",
       "    }\n",
       "\n",
       "    .dataframe thead th {\n",
       "        text-align: right;\n",
       "    }\n",
       "</style>\n",
       "<table border=\"1\" class=\"dataframe\">\n",
       "  <thead>\n",
       "    <tr style=\"text-align: right;\">\n",
       "      <th></th>\n",
       "      <th>true</th>\n",
       "      <th>predicted</th>\n",
       "    </tr>\n",
       "  </thead>\n",
       "  <tbody>\n",
       "    <tr>\n",
       "      <th>0</th>\n",
       "      <td>83.7</td>\n",
       "      <td>84.1</td>\n",
       "    </tr>\n",
       "    <tr>\n",
       "      <th>1</th>\n",
       "      <td>16.3</td>\n",
       "      <td>15.9</td>\n",
       "    </tr>\n",
       "  </tbody>\n",
       "</table>\n",
       "</div>"
      ],
      "text/plain": [
       "   true  predicted\n",
       "0  83.7       84.1\n",
       "1  16.3       15.9"
      ]
     },
     "metadata": {},
     "output_type": "display_data"
    },
    {
     "name": "stdout",
     "output_type": "stream",
     "text": [
      "******************\n",
      "INGRESO_SBS\n",
      "              precision    recall  f1-score   support\n",
      "\n",
      "           0       0.97      0.99      0.98      7798\n",
      "           1       0.91      0.68      0.78       663\n",
      "\n",
      "    accuracy                           0.97      8461\n",
      "   macro avg       0.94      0.84      0.88      8461\n",
      "weighted avg       0.97      0.97      0.97      8461\n",
      "\n"
     ]
    },
    {
     "data": {
      "text/html": [
       "<div>\n",
       "<style scoped>\n",
       "    .dataframe tbody tr th:only-of-type {\n",
       "        vertical-align: middle;\n",
       "    }\n",
       "\n",
       "    .dataframe tbody tr th {\n",
       "        vertical-align: top;\n",
       "    }\n",
       "\n",
       "    .dataframe thead th {\n",
       "        text-align: right;\n",
       "    }\n",
       "</style>\n",
       "<table border=\"1\" class=\"dataframe\">\n",
       "  <thead>\n",
       "    <tr style=\"text-align: right;\">\n",
       "      <th></th>\n",
       "      <th>true</th>\n",
       "      <th>predicted</th>\n",
       "    </tr>\n",
       "  </thead>\n",
       "  <tbody>\n",
       "    <tr>\n",
       "      <th>0</th>\n",
       "      <td>92.2</td>\n",
       "      <td>94.2</td>\n",
       "    </tr>\n",
       "    <tr>\n",
       "      <th>1</th>\n",
       "      <td>7.8</td>\n",
       "      <td>5.8</td>\n",
       "    </tr>\n",
       "  </tbody>\n",
       "</table>\n",
       "</div>"
      ],
      "text/plain": [
       "   true  predicted\n",
       "0  92.2       94.2\n",
       "1   7.8        5.8"
      ]
     },
     "metadata": {},
     "output_type": "display_data"
    },
    {
     "name": "stdout",
     "output_type": "stream",
     "text": [
      "******************\n"
     ]
    }
   ],
   "source": [
    "\n",
    "# ## Cargar Modelo\n",
    "# filename = './../fitted_RF/clf2_'+str(frac)+'_'+yr+'_ARG.sav'\n",
    "# clf2 = pickle.load(open(filename, 'rb'))\n",
    "\n",
    "y_out2 = clf2.predict(X_test[x_cols2].values)\n",
    "y_censo_fit2 = pd.DataFrame(y_out2, index = X_test.index, columns=predecir2)\n",
    "\n",
    "for col in y_test.columns:\n",
    "    print(col)\n",
    "    try:\n",
    "        print(varnames.loc[varnames.EPH == col].Pregunta.values[0])\n",
    "    except:\n",
    "        pass\n",
    "    print(classification_report(y_test[col], y_censo_fit2[col]))\n",
    "    freqs = pd.DataFrame(pd.concat([y_test[col].value_counts()/len(y_test), y_censo_fit2[col].value_counts()/len(y_test)], axis = 1)); freqs.columns = ['true', 'predicted']\n",
    "    display(100*freqs.round(3))\n",
    "    print('******************')"
   ]
  },
  {
   "cell_type": "markdown",
   "metadata": {},
   "source": [
    "## Classification 3\n",
    "Columnas ['PP07G1', 'PP07G2', 'PP07G3', 'PP07G4', 'PP07G_59', 'PP07H', 'PP07I', 'PP07J', 'PP07K']"
   ]
  },
  {
   "cell_type": "code",
   "execution_count": 13,
   "metadata": {},
   "outputs": [],
   "source": [
    "### STEP 3\n",
    "y_cols3 = predecir3\n",
    "\n",
    "X = train_data[x_cols3]\n",
    "y = train_data[y_cols3]#.loc[X.index]\n",
    "\n",
    "X_train, X_test, y_train, y_test = train_test_split(X, y, test_size=0.1)\n",
    "\n",
    "forest = RandomForestClassifier(n_estimators=50, max_depth = 35, n_jobs = -1)\n",
    "clf3 = forest.fit(X_train.values, y_train.values)\n"
   ]
  },
  {
   "cell_type": "code",
   "execution_count": 14,
   "metadata": {
    "scrolled": false
   },
   "outputs": [
    {
     "name": "stdout",
     "output_type": "stream",
     "text": [
      "PP07G1\n",
      "vacaciones pagas\n",
      "              precision    recall  f1-score   support\n",
      "\n",
      "         0.0       1.00      1.00      1.00      6161\n",
      "         1.0       0.93      0.98      0.95      1600\n",
      "         2.0       0.95      0.83      0.89       700\n",
      "\n",
      "    accuracy                           0.98      8461\n",
      "   macro avg       0.96      0.94      0.95      8461\n",
      "weighted avg       0.98      0.98      0.98      8461\n",
      "\n"
     ]
    },
    {
     "data": {
      "text/html": [
       "<div>\n",
       "<style scoped>\n",
       "    .dataframe tbody tr th:only-of-type {\n",
       "        vertical-align: middle;\n",
       "    }\n",
       "\n",
       "    .dataframe tbody tr th {\n",
       "        vertical-align: top;\n",
       "    }\n",
       "\n",
       "    .dataframe thead th {\n",
       "        text-align: right;\n",
       "    }\n",
       "</style>\n",
       "<table border=\"1\" class=\"dataframe\">\n",
       "  <thead>\n",
       "    <tr style=\"text-align: right;\">\n",
       "      <th></th>\n",
       "      <th>true</th>\n",
       "      <th>predicted</th>\n",
       "    </tr>\n",
       "  </thead>\n",
       "  <tbody>\n",
       "    <tr>\n",
       "      <th>0.0</th>\n",
       "      <td>72.8</td>\n",
       "      <td>72.8</td>\n",
       "    </tr>\n",
       "    <tr>\n",
       "      <th>1.0</th>\n",
       "      <td>18.9</td>\n",
       "      <td>20.0</td>\n",
       "    </tr>\n",
       "    <tr>\n",
       "      <th>2.0</th>\n",
       "      <td>8.3</td>\n",
       "      <td>7.2</td>\n",
       "    </tr>\n",
       "  </tbody>\n",
       "</table>\n",
       "</div>"
      ],
      "text/plain": [
       "     true  predicted\n",
       "0.0  72.8       72.8\n",
       "1.0  18.9       20.0\n",
       "2.0   8.3        7.2"
      ]
     },
     "metadata": {},
     "output_type": "display_data"
    },
    {
     "name": "stdout",
     "output_type": "stream",
     "text": [
      "******************\n",
      "PP07G_59\n",
      "no tiene ninguno\n",
      "              precision    recall  f1-score   support\n",
      "\n",
      "         0.0       0.98      1.00      0.99      7826\n",
      "         5.0       0.95      0.80      0.87       635\n",
      "\n",
      "    accuracy                           0.98      8461\n",
      "   macro avg       0.97      0.90      0.93      8461\n",
      "weighted avg       0.98      0.98      0.98      8461\n",
      "\n"
     ]
    },
    {
     "data": {
      "text/html": [
       "<div>\n",
       "<style scoped>\n",
       "    .dataframe tbody tr th:only-of-type {\n",
       "        vertical-align: middle;\n",
       "    }\n",
       "\n",
       "    .dataframe tbody tr th {\n",
       "        vertical-align: top;\n",
       "    }\n",
       "\n",
       "    .dataframe thead th {\n",
       "        text-align: right;\n",
       "    }\n",
       "</style>\n",
       "<table border=\"1\" class=\"dataframe\">\n",
       "  <thead>\n",
       "    <tr style=\"text-align: right;\">\n",
       "      <th></th>\n",
       "      <th>true</th>\n",
       "      <th>predicted</th>\n",
       "    </tr>\n",
       "  </thead>\n",
       "  <tbody>\n",
       "    <tr>\n",
       "      <th>0.0</th>\n",
       "      <td>92.5</td>\n",
       "      <td>93.7</td>\n",
       "    </tr>\n",
       "    <tr>\n",
       "      <th>5.0</th>\n",
       "      <td>7.5</td>\n",
       "      <td>6.3</td>\n",
       "    </tr>\n",
       "  </tbody>\n",
       "</table>\n",
       "</div>"
      ],
      "text/plain": [
       "     true  predicted\n",
       "0.0  92.5       93.7\n",
       "5.0   7.5        6.3"
      ]
     },
     "metadata": {},
     "output_type": "display_data"
    },
    {
     "name": "stdout",
     "output_type": "stream",
     "text": [
      "******************\n",
      "PP07I\n",
      "aporta por si mismpo sist jubilatorio\n",
      "              precision    recall  f1-score   support\n",
      "\n",
      "         0.0       0.98      1.00      0.99      7712\n",
      "         1.0       0.86      0.56      0.68        79\n",
      "         2.0       0.96      0.86      0.91       670\n",
      "\n",
      "    accuracy                           0.98      8461\n",
      "   macro avg       0.93      0.80      0.86      8461\n",
      "weighted avg       0.98      0.98      0.98      8461\n",
      "\n"
     ]
    },
    {
     "data": {
      "text/html": [
       "<div>\n",
       "<style scoped>\n",
       "    .dataframe tbody tr th:only-of-type {\n",
       "        vertical-align: middle;\n",
       "    }\n",
       "\n",
       "    .dataframe tbody tr th {\n",
       "        vertical-align: top;\n",
       "    }\n",
       "\n",
       "    .dataframe thead th {\n",
       "        text-align: right;\n",
       "    }\n",
       "</style>\n",
       "<table border=\"1\" class=\"dataframe\">\n",
       "  <thead>\n",
       "    <tr style=\"text-align: right;\">\n",
       "      <th></th>\n",
       "      <th>true</th>\n",
       "      <th>predicted</th>\n",
       "    </tr>\n",
       "  </thead>\n",
       "  <tbody>\n",
       "    <tr>\n",
       "      <th>0.0</th>\n",
       "      <td>91.1</td>\n",
       "      <td>92.3</td>\n",
       "    </tr>\n",
       "    <tr>\n",
       "      <th>2.0</th>\n",
       "      <td>7.9</td>\n",
       "      <td>7.1</td>\n",
       "    </tr>\n",
       "    <tr>\n",
       "      <th>1.0</th>\n",
       "      <td>0.9</td>\n",
       "      <td>0.6</td>\n",
       "    </tr>\n",
       "  </tbody>\n",
       "</table>\n",
       "</div>"
      ],
      "text/plain": [
       "     true  predicted\n",
       "0.0  91.1       92.3\n",
       "2.0   7.9        7.1\n",
       "1.0   0.9        0.6"
      ]
     },
     "metadata": {},
     "output_type": "display_data"
    },
    {
     "name": "stdout",
     "output_type": "stream",
     "text": [
      "******************\n",
      "PP07J\n",
      "turno dia, noche, etc\n",
      "              precision    recall  f1-score   support\n",
      "\n",
      "         0.0       1.00      1.00      1.00      6161\n",
      "         1.0       0.93      0.99      0.96      2048\n",
      "         2.0       0.81      0.50      0.62        42\n",
      "         3.0       0.78      0.36      0.49       210\n",
      "\n",
      "    accuracy                           0.98      8461\n",
      "   macro avg       0.88      0.71      0.77      8461\n",
      "weighted avg       0.98      0.98      0.98      8461\n",
      "\n"
     ]
    },
    {
     "data": {
      "text/html": [
       "<div>\n",
       "<style scoped>\n",
       "    .dataframe tbody tr th:only-of-type {\n",
       "        vertical-align: middle;\n",
       "    }\n",
       "\n",
       "    .dataframe tbody tr th {\n",
       "        vertical-align: top;\n",
       "    }\n",
       "\n",
       "    .dataframe thead th {\n",
       "        text-align: right;\n",
       "    }\n",
       "</style>\n",
       "<table border=\"1\" class=\"dataframe\">\n",
       "  <thead>\n",
       "    <tr style=\"text-align: right;\">\n",
       "      <th></th>\n",
       "      <th>true</th>\n",
       "      <th>predicted</th>\n",
       "    </tr>\n",
       "  </thead>\n",
       "  <tbody>\n",
       "    <tr>\n",
       "      <th>0.0</th>\n",
       "      <td>72.8</td>\n",
       "      <td>72.8</td>\n",
       "    </tr>\n",
       "    <tr>\n",
       "      <th>1.0</th>\n",
       "      <td>24.2</td>\n",
       "      <td>25.8</td>\n",
       "    </tr>\n",
       "    <tr>\n",
       "      <th>3.0</th>\n",
       "      <td>2.5</td>\n",
       "      <td>1.1</td>\n",
       "    </tr>\n",
       "    <tr>\n",
       "      <th>2.0</th>\n",
       "      <td>0.5</td>\n",
       "      <td>0.3</td>\n",
       "    </tr>\n",
       "  </tbody>\n",
       "</table>\n",
       "</div>"
      ],
      "text/plain": [
       "     true  predicted\n",
       "0.0  72.8       72.8\n",
       "1.0  24.2       25.8\n",
       "3.0   2.5        1.1\n",
       "2.0   0.5        0.3"
      ]
     },
     "metadata": {},
     "output_type": "display_data"
    },
    {
     "name": "stdout",
     "output_type": "stream",
     "text": [
      "******************\n",
      "PP07K\n",
      "cobra con o sin papel, recibo, factura?\n",
      "              precision    recall  f1-score   support\n",
      "\n",
      "         0.0       1.00      1.00      1.00      6161\n",
      "         1.0       0.92      0.99      0.95      1555\n",
      "         2.0       0.83      0.49      0.62        41\n",
      "         3.0       0.91      0.60      0.72        84\n",
      "         4.0       0.95      0.86      0.91       618\n",
      "         5.0       1.00      0.50      0.67         2\n",
      "\n",
      "    accuracy                           0.98      8461\n",
      "   macro avg       0.94      0.74      0.81      8461\n",
      "weighted avg       0.98      0.98      0.98      8461\n",
      "\n"
     ]
    },
    {
     "data": {
      "text/html": [
       "<div>\n",
       "<style scoped>\n",
       "    .dataframe tbody tr th:only-of-type {\n",
       "        vertical-align: middle;\n",
       "    }\n",
       "\n",
       "    .dataframe tbody tr th {\n",
       "        vertical-align: top;\n",
       "    }\n",
       "\n",
       "    .dataframe thead th {\n",
       "        text-align: right;\n",
       "    }\n",
       "</style>\n",
       "<table border=\"1\" class=\"dataframe\">\n",
       "  <thead>\n",
       "    <tr style=\"text-align: right;\">\n",
       "      <th></th>\n",
       "      <th>true</th>\n",
       "      <th>predicted</th>\n",
       "    </tr>\n",
       "  </thead>\n",
       "  <tbody>\n",
       "    <tr>\n",
       "      <th>0.0</th>\n",
       "      <td>72.8</td>\n",
       "      <td>72.8</td>\n",
       "    </tr>\n",
       "    <tr>\n",
       "      <th>1.0</th>\n",
       "      <td>18.4</td>\n",
       "      <td>19.7</td>\n",
       "    </tr>\n",
       "    <tr>\n",
       "      <th>4.0</th>\n",
       "      <td>7.3</td>\n",
       "      <td>6.6</td>\n",
       "    </tr>\n",
       "    <tr>\n",
       "      <th>3.0</th>\n",
       "      <td>1.0</td>\n",
       "      <td>0.7</td>\n",
       "    </tr>\n",
       "    <tr>\n",
       "      <th>2.0</th>\n",
       "      <td>0.5</td>\n",
       "      <td>0.3</td>\n",
       "    </tr>\n",
       "    <tr>\n",
       "      <th>5.0</th>\n",
       "      <td>0.0</td>\n",
       "      <td>0.0</td>\n",
       "    </tr>\n",
       "  </tbody>\n",
       "</table>\n",
       "</div>"
      ],
      "text/plain": [
       "     true  predicted\n",
       "0.0  72.8       72.8\n",
       "1.0  18.4       19.7\n",
       "4.0   7.3        6.6\n",
       "3.0   1.0        0.7\n",
       "2.0   0.5        0.3\n",
       "5.0   0.0        0.0"
      ]
     },
     "metadata": {},
     "output_type": "display_data"
    },
    {
     "name": "stdout",
     "output_type": "stream",
     "text": [
      "******************\n"
     ]
    }
   ],
   "source": [
    "# ## Cargar Modelo\n",
    "# filename = './../fitted_RF/clf3_'+str(frac)+'_'+yr+'_ARG.sav'\n",
    "# clf3 = pickle.load(open(filename, 'rb'))\n",
    "\n",
    "y_out3 = clf3.predict(X_test[x_cols3].values)\n",
    "y_censo_fit3 = pd.DataFrame(y_out3, index = X_test.index, columns=predecir3)\n",
    "\n",
    "\n",
    "for col in y_test.columns:\n",
    "    print(col)\n",
    "    try:\n",
    "        print(varnames.loc[varnames.EPH == col].Pregunta.values[0])\n",
    "    except:\n",
    "        pass\n",
    "    print(classification_report(y_test[col], y_censo_fit3[col]))\n",
    "    freqs = pd.DataFrame(pd.concat([y_test[col].value_counts()/len(y_test), y_censo_fit3[col].value_counts()/len(y_test)], axis = 1)); freqs.columns = ['true', 'predicted']\n",
    "    display(100*freqs.round(3))\n",
    "    print('******************')"
   ]
  },
  {
   "cell_type": "markdown",
   "metadata": {},
   "source": [
    "## Regresion\n",
    "Combinamos la info de los varios trimestres, deflactada."
   ]
  },
  {
   "cell_type": "code",
   "execution_count": 15,
   "metadata": {},
   "outputs": [],
   "source": [
    "import matplotlib.pyplot as plt\n",
    "%matplotlib inline"
   ]
  },
  {
   "cell_type": "code",
   "execution_count": 19,
   "metadata": {},
   "outputs": [
    {
     "name": "stdout",
     "output_type": "stream",
     "text": [
      "2020-06-30\n"
     ]
    },
    {
     "data": {
      "image/png": "[encoded data removed]",
      "text/plain": [
       "<Figure size 2304x216 with 9 Axes>"
      ]
     },
     "metadata": {
      "needs_background": "light"
     },
     "output_type": "display_data"
    },
    {
     "name": "stdout",
     "output_type": "stream",
     "text": [
      "2020-03-31\n"
     ]
    },
    {
     "data": {
      "image/png": "[encoded data removed]",
      "text/plain": [
       "<Figure size 2304x216 with 9 Axes>"
      ]
     },
     "metadata": {
      "needs_background": "light"
     },
     "output_type": "display_data"
    }
   ],
   "source": [
    "train_data = pd.read_csv('./../data/training/EPHARG_train_'+yr[2:]+'.csv')\n",
    "\n",
    "train_data = train_data.loc[train_data.P47T >= -0.001].fillna(0)\n",
    "train_data = train_data.sort_values('CODUSU')\n",
    "\n",
    "\n",
    "train_data['INGRESO'] = (train_data.P47T > 100).astype(int)\n",
    "train_data['INGRESO_NLB'] = (train_data.T_VI > 100).astype(int)\n",
    "train_data['INGRESO_JUB'] = (train_data.V2_M > 100).astype(int)\n",
    "train_data['INGRESO_SBS'] = (train_data.V5_M > 100).astype(int)\n",
    "\n",
    "train_data[columnas_pesos] = np.log10(train_data[columnas_pesos].clip(-.9) + 1)\n",
    "\n",
    "for q in train_data.Q.unique():\n",
    "    print(q)\n",
    "\n",
    "    train_q = train_data.loc[train_data.Q == q]\n",
    "\n",
    "    x_cols4 = x_cols3 + predecir3\n",
    "    # Columnas de ingresos. Necesitan una regresion...\n",
    "    predecir4 = columnas_pesos\n",
    "    y_cols4 = predecir4\n",
    "\n",
    "    X = train_q[x_cols4]#.sample(frac = 1) #PBA_train_reg\n",
    "    y = train_q[y_cols4].loc[X.index].fillna(0) #PBA_train_reg\n",
    "\n",
    "    X_train, X_test, y_train, y_test = train_test_split(X, y, test_size=0.1)\n",
    "\n",
    "    forest = RandomForestRegressor(n_estimators=1, max_depth = 60, n_jobs = -1)\n",
    "    clf4 = forest.fit(X_train.values, y_train.values)\n",
    "    \n",
    "    # # save the model to disk\n",
    "    # filename = './../fitted_RF/clf4_'+str(frac)+'_'+q+'_ARG.sav'\n",
    "    # pickle.dump(forest, open(filename, 'wb'))\n",
    "\n",
    "    y_out4 = clf4.predict(X_test[x_cols4].values)\n",
    "    y_censo_fit4 = pd.DataFrame(y_out4, index = X_test.index, columns=predecir4)\n",
    "    \n",
    "    fig, axs = plt.subplots(1, len(y_test.columns), figsize = (32, 3))\n",
    "\n",
    "    for i, col in enumerate(y_test.columns):\n",
    "        ax = axs[i]\n",
    "    #     print(col)\n",
    "    #     try:\n",
    "    #         print(varnames.loc[varnames.EPH == col].Pregunta.values[0])\n",
    "    #     except:\n",
    "    #         pass\n",
    "\n",
    "        x = y_test[col].values\n",
    "        y = y_censo_fit4[col].values\n",
    "\n",
    "        ax.set_title(col)\n",
    "        ax.plot(x, y, marker = '.', alpha = .1, lw = 0)\n",
    "        ax.set_xlabel('True'); ax.set_xlabel('Predicted')\n",
    "\n",
    "    plt.show()"
   ]
  },
  {
   "cell_type": "code",
   "execution_count": null,
   "metadata": {},
   "outputs": [],
   "source": []
  }
 ],
 "metadata": {
  "kernelspec": {
   "display_name": "Python 3",
   "language": "python",
   "name": "python3"
  },
  "language_info": {
   "codemirror_mode": {
    "name": "ipython",
    "version": 3
   },
   "file_extension": ".py",
   "mimetype": "text/x-python",
   "name": "python",
   "nbconvert_exporter": "python",
   "pygments_lexer": "ipython3",
   "version": "3.8.5"
  }
 },
 "nbformat": 4,
 "nbformat_minor": 2
}
