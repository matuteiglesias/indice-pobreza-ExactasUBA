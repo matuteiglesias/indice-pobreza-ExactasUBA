{
 "cells": [
  {
   "cell_type": "code",
   "execution_count": 1,
   "metadata": {
    "hideCode": false,
    "hidePrompt": false
   },
   "outputs": [
    {
     "data": {
      "text/html": [
       "<style>.container { width:100% !important; }</style>"
      ],
      "text/plain": [
       "<IPython.core.display.HTML object>"
      ]
     },
     "metadata": {},
     "output_type": "display_data"
    }
   ],
   "source": [
    "import pandas as pd\n",
    "import matplotlib.pyplot as plt\n",
    "%matplotlib inline\n",
    "import seaborn as sns\n",
    "\n",
    "import numpy as np\n",
    "\n",
    "from IPython.core.display import display, HTML\n",
    "from IPython.display import Markdown as md\n",
    "\n",
    "from matplotlib.ticker import EngFormatter\n",
    "\n",
    "import warnings\n",
    "warnings.filterwarnings('ignore')\n",
    "\n",
    "from IPython.core.display import display, HTML\n",
    "display(HTML(\"<style>.container { width:100% !important; }</style>\"))"
   ]
  },
  {
   "cell_type": "code",
   "execution_count": 116,
   "metadata": {
    "hideCode": false,
    "hidePrompt": false
   },
   "outputs": [],
   "source": [
    "def myround(x, base=5):\n",
    "    return base * round(x/base)\n",
    "\n",
    "# Estilo verde-rojito\n",
    "def color_negative_red(val):\n",
    "    \"\"\"\n",
    "    Takes a scalar and returns a string with\n",
    "    the css property `'color: red'` for negative\n",
    "    strings, black otherwise.\n",
    "    \"\"\"\n",
    "    color = 'red' if val > 0 else 'black'\n",
    "    if val < 0: color = 'green'\n",
    "    return 'color: %s' % color\n",
    "\n",
    "# Estilo gris\n",
    "def color_gray(val):\n",
    "    color = '.5'\n",
    "    return 'color: %s' % color\n"
   ]
  },
  {
   "cell_type": "code",
   "execution_count": 3,
   "metadata": {
    "hideCode": false,
    "hidePrompt": false
   },
   "outputs": [
    {
     "data": {
      "text/html": [
       "<style>.rendered_html {font-size: 16px; line-height: 1.8; text-indent: 2rem}</style>"
      ],
      "text/plain": [
       "<IPython.core.display.HTML object>"
      ]
     },
     "metadata": {},
     "output_type": "display_data"
    }
   ],
   "source": [
    "display(HTML(\"<style>.rendered_html {font-size: 16px; line-height: 1.8; text-indent: 2rem}</style>\"))\n",
    "# display(HTML(\"<style>.rendered_html {  }</style>\"))"
   ]
  },
  {
   "cell_type": "code",
   "execution_count": 4,
   "metadata": {},
   "outputs": [],
   "source": [
    "frac = 0.02"
   ]
  },
  {
   "cell_type": "code",
   "execution_count": 5,
   "metadata": {},
   "outputs": [],
   "source": [
    "yrs_pob_data = 3"
   ]
  },
  {
   "cell_type": "code",
   "execution_count": 57,
   "metadata": {
    "hideCode": false,
    "hidePrompt": false
   },
   "outputs": [
    {
     "data": {
      "text/plain": [
       "43189550.0"
      ]
     },
     "execution_count": 57,
     "metadata": {},
     "output_type": "execute_result"
    }
   ],
   "source": [
    "aglo_labels = pd.read_csv('./../data/info/aglo_labels.csv')[['AGLOMERADO', 'NOMAGLO']]\n",
    "\n",
    "radio_ref = pd.read_csv('./../data/info/radio_ref.csv')\n",
    "# radio_ref[['PROV','NOMPROV','DPTO', 'NOMDPTO']].drop_duplicates().to_csv('./data/DPTO_PROV.csv', index = False)\n",
    "dpto_region = pd.read_csv('./../data/info/DPTO_PROV_Region.csv')\n",
    "radio_ref = radio_ref.merge(dpto_region)\n",
    "radio_ref = radio_ref[['RADIO_REF_ID', 'NOMDPTO','NOMPROV', 'AGLOMERADO', 'Region']].drop_duplicates().merge(aglo_labels)\n",
    "\n",
    "\n",
    "data = pd.read_csv('./../data/Pobreza/pobreza_'+str(frac)+'_2018_2021.csv')\n",
    "data['Grupo Etario'] = pd.cut(data.P03, np.arange(-1, 80, 3))#.round(-1) ## Customizar grupo etario\n",
    "\n",
    "data = data.merge(radio_ref, on = ['RADIO_REF_ID', 'AGLOMERADO'])\n",
    "data['AGLO_si'] = data.AGLOMERADO != 0\n",
    "\n",
    "pob_tot = len(data)/frac/yrs_pob_data\n",
    "pob_tot"
   ]
  },
  {
   "cell_type": "markdown",
   "metadata": {
    "hideCode": false,
    "hidePrompt": false
   },
   "source": [
    "# Ingresos de hogares, pobreza e indigencia. (Argentina)\n",
    "\n",
    "Matias Iglesias\n",
    "\n",
    "matuteiglesias@gmail.com"
   ]
  },
  {
   "cell_type": "markdown",
   "metadata": {
    "hideCode": false,
    "hidePrompt": false
   },
   "source": [
    "\n",
    "# Introducción. \n",
    "\n",
    "Este reporte presenta estimaciones de ingreso medio de hogares y personas en todo el territorio de la Republica Argentina a partir de la información en la Encuesta Permanente de Hogares (EPH) y el Censo de Población, Hogares y Viviendas de 2010, realizados por el Instituto Nacional de Estadística y Censos (INDEC).\n",
    "\n",
    "Explotando las variables en común contenidas en ambas fuentes se entrenan algoritmos de clasificación y regresión que predicen los ingresos de muestras sintéticas de la población total consultada en Censo. O sea *machine learning* aplicado al Censo y las encuestas de hogares. Esto permite obtener valores de ingresos, incidencia de pobreza e indigencia y otras variables socioeconómicas segun características demográficas y habitacionales de las provincias, areas metropolitanas, departamentos, partidos, comunas u otras areas censales detalladas."
   ]
  },
  {
   "cell_type": "code",
   "execution_count": 59,
   "metadata": {
    "hideCode": false,
    "hidePrompt": false
   },
   "outputs": [],
   "source": [
    "from IPython.display import Image\n",
    "# Image(\"./mapa_portada.png\")"
   ]
  },
  {
   "cell_type": "markdown",
   "metadata": {
    "hideCode": false,
    "hidePrompt": false
   },
   "source": [
    "# Contenido\n",
    "- Incidencia de pobreza e indigencia\n",
    "- Evolucion semestral\n",
    "\n",
    "    - Cantidades (miles)\n",
    "    - Porcentajes\n",
    "\n",
    "- Ingresos a precios constantes (ARS 2019Q2)\n",
    "    - Deciles de ingreso\n",
    "    - Lineas de Pobreza e indigencia\n",
    "\n",
    "- Dependencia con otras variables\n",
    "    - Habitaciones de la vivienda\n",
    "    - Edad\n",
    "    - Niveles educativos\n",
    "\n",
    "- Dependencia geografica\n",
    "    - Variacion regional\n",
    "    - Por departamento y fraccion censal\n",
    "    - Por Provincia\n",
    "    - Por Region y aglomerado\n",
    "    - Partidos y Comunas del AMBA\n",
    "    \n",
    "- Evolucion temporal por areas especificas.\n",
    "\n",
    "- Lista de Aglomerados"
   ]
  },
  {
   "cell_type": "markdown",
   "metadata": {
    "hideCode": false,
    "hidePrompt": false
   },
   "source": [
    "# Incidencia de pobreza e indigencia\n",
    "## Total Pais"
   ]
  },
  {
   "cell_type": "code",
   "execution_count": 60,
   "metadata": {
    "hideCode": false,
    "hidePrompt": false
   },
   "outputs": [
    {
     "data": {
      "text/html": [
       "<div>\n",
       "<style scoped>\n",
       "    .dataframe tbody tr th:only-of-type {\n",
       "        vertical-align: middle;\n",
       "    }\n",
       "\n",
       "    .dataframe tbody tr th {\n",
       "        vertical-align: top;\n",
       "    }\n",
       "\n",
       "    .dataframe thead th {\n",
       "        text-align: right;\n",
       "    }\n",
       "</style>\n",
       "<table border=\"1\" class=\"dataframe\">\n",
       "  <thead>\n",
       "    <tr style=\"text-align: right;\">\n",
       "      <th></th>\n",
       "      <th></th>\n",
       "      <th>Porcentaje</th>\n",
       "      <th>Cantidad (miles)</th>\n",
       "    </tr>\n",
       "  </thead>\n",
       "  <tbody>\n",
       "    <tr>\n",
       "      <th rowspan=\"2\" valign=\"top\">Indigencia</th>\n",
       "      <th>Hogares</th>\n",
       "      <td>11.4</td>\n",
       "      <td>1500.0</td>\n",
       "    </tr>\n",
       "    <tr>\n",
       "      <th>Personas</th>\n",
       "      <td>15.2</td>\n",
       "      <td>6800.0</td>\n",
       "    </tr>\n",
       "    <tr>\n",
       "      <th rowspan=\"2\" valign=\"top\">Pobreza</th>\n",
       "      <th>Hogares</th>\n",
       "      <td>38.8</td>\n",
       "      <td>5200.0</td>\n",
       "    </tr>\n",
       "    <tr>\n",
       "      <th>Personas</th>\n",
       "      <td>49.6</td>\n",
       "      <td>22100.0</td>\n",
       "    </tr>\n",
       "  </tbody>\n",
       "</table>\n",
       "</div>"
      ],
      "text/plain": [
       "                     Porcentaje  Cantidad (miles)\n",
       "Indigencia Hogares         11.4            1500.0\n",
       "           Personas        15.2            6800.0\n",
       "Pobreza    Hogares         38.8            5200.0\n",
       "           Personas        49.6           22100.0"
      ]
     },
     "execution_count": 60,
     "metadata": {},
     "output_type": "execute_result"
    }
   ],
   "source": [
    "# df = pd.read_csv('./../data/cuadros/cuadro_'+str(frac)+'_Total_pais_Q_n_ARG', index_col=[0, 1], header = [0, 1]).drop_duplicates().unstack(0, 1)\n",
    "# df.index = pd.to_datetime(df.index)\n",
    "\n",
    "# df_ = df[['Indigencia', 'Pobreza']].groupby(pd.Grouper(level = 0, freq = '6MS')).mean().T\n",
    "# n = df_.copy()\n",
    "# n.columns = n.columns.to_period(\"6M\")\n",
    "\n",
    "# df = pd.read_csv('./../data/cuadros/cuadro_'+str(frac)+'_Total_pais_Q_pct_ARG', index_col=[0, 1], header = [0, 1]).drop_duplicates().unstack(0, 1)\n",
    "# df.index = pd.to_datetime(df.index)\n",
    "\n",
    "# df_ = df[['Indigencia', 'Pobreza']].groupby(pd.Grouper(level = 0, freq = '6MS')).mean().T\n",
    "# pct = df_.copy()\n",
    "# pct.columns = pct.columns.to_period(\"6M\")\n",
    "\n",
    "\n",
    "# total_pais = pd.concat([pd.DataFrame(n.iloc[:, -1]),\n",
    "#                         pd.DataFrame(pct.iloc[:, -1])], axis = 1)\n",
    "# total_pais.columns = ['Cantidad (miles)', 'Porcentaje']\n",
    "\n",
    "# x = total_pais\n",
    "# x.index = x.index.droplevel(2)\n",
    "\n",
    "cuadro5 = pd.read_csv('./../data/cuadros/cuadro4_'+str(frac)+'_ARG', index_col=[0, 1], header = [0, 1, 2])\n",
    "df = cuadro5.iloc[:, cuadro5.columns.get_level_values(0).isin(['Indigencia', 'Pobreza'])\n",
    "            & cuadro5.columns.get_level_values(2).isin(['Hogares', 'Personas'])]\n",
    "\n",
    "# Leave just time as index\n",
    "df = df.unstack()\n",
    "\n",
    "df.index = pd.DatetimeIndex(df.index)\n",
    "\n",
    "# Ultimo periodo\n",
    "x = df.iloc[-1].unstack([3, 1])\n",
    "x.columns = ['Porcentaje', 'Cantidad (miles)']\n",
    "\n",
    "# Rolling 4 trimestres de interpolado\n",
    "df = df.resample('Q').mean().interpolate().rolling(4).mean()\n",
    "\n",
    "x.round({'Cantidad (miles)': -2, 'Porcentaje': 1}).sort_index()"
   ]
  },
  {
   "cell_type": "code",
   "execution_count": 61,
   "metadata": {
    "hideCode": false,
    "hidePrompt": false
   },
   "outputs": [
    {
     "data": {
      "text/markdown": [
       "En el primer trimestre de 2019, la pobreza alcanza el 39%    de los hogares, donde viven el 50% de las personas (22.1 millones).    La indigencia en el mismo periodo alcanza al 11.4% de los hogares, en donde viven 6.8 millones de   personas (15.2%)"
      ],
      "text/plain": [
       "<IPython.core.display.Markdown object>"
      ]
     },
     "execution_count": 61,
     "metadata": {},
     "output_type": "execute_result"
    }
   ],
   "source": [
    "\n",
    "md(\"En el primer trimestre de 2019, la pobreza alcanza el {:.0f}\".format(x.loc[('Pobreza', 'Hogares')].Porcentaje)+\"% \\\n",
    "   de los hogares, donde viven el {:.0f}\".format(x.loc[('Pobreza', 'Personas')].Porcentaje)+\"% de las personas ({:.1f}\".format(0.001*x.loc[('Pobreza', 'Personas')]['Cantidad (miles)'])+\" millones). \\\n",
    "   La indigencia en el mismo periodo alcanza al {:.1f}\".format(x.loc[('Indigencia', 'Hogares')].Porcentaje)+\"% de los hogares, en donde viven {:.1f}\".format(0.001*x.loc[('Indigencia', 'Personas')]['Cantidad (miles)'])+\" millones de\\\n",
    "   personas ({:.1f}\".format(x.loc[('Indigencia', 'Personas')].Porcentaje)+\"%)\")\n",
    "     "
   ]
  },
  {
   "cell_type": "markdown",
   "metadata": {
    "hideCode": false,
    "hidePrompt": false
   },
   "source": [
    "## Evolucion Temporal"
   ]
  },
  {
   "cell_type": "code",
   "execution_count": 64,
   "metadata": {
    "hideCode": false,
    "hidePrompt": false,
    "scrolled": false
   },
   "outputs": [
    {
     "data": {
      "image/png": "[encoded data removed]",
      "text/plain": [
       "<Figure size 720x504 with 1 Axes>"
      ]
     },
     "metadata": {},
     "output_type": "display_data"
    }
   ],
   "source": [
    "sns.set()\n",
    "\n",
    "fig, ax = plt.subplots(1, figsize = (10, 7))\n",
    "\n",
    "# Series\n",
    "df_ = df.iloc[:, df.columns.get_level_values(1) == 'mean']\n",
    "df_ = df_.T.reindex(df_.T.sum(1).sort_values(ascending = False).index).T\n",
    "df_.columns = df_.columns.droplevel([1, 3])\n",
    "df_.plot(ax = ax, marker = '.')\n",
    "\n",
    "\n",
    "# df_2 = cuadro3.iloc[:, cuadro3.columns.get_level_values(0).isin(['Indigencia', 'Pobreza'])\n",
    "#             & cuadro5.columns.get_level_values(2).isin(['Hogares', 'Personas']) & (cuadro5.columns.get_level_values(1) == 'mean')]\n",
    "# df_2 = df_2.loc[df_2.index.get_level_values(1) == True]\n",
    "# # Leave just time as index\n",
    "# df_2 = df_2.unstack()\n",
    "# df_2.index = pd.DatetimeIndex(df_2.index)\n",
    "# df_2.columns = df_2.columns.droplevel([1, 3])\n",
    "# # Rolling 4 trimestres de interpolado\n",
    "# df_2 = df_2.resample('Q').mean().interpolate().rolling(4).mean()\n",
    "# df_2.plot(ax = ax, marker = '.')\n",
    "\n",
    "# Plot\n",
    "ax.legend(loc = (1.02,0))\n",
    "ax.set_ylabel('Porcentajes')\n",
    "ax.set_ylim(0, 70)\n",
    "plt.setp(ax.xaxis.get_majorticklabels(), rotation = 30, ha=\"left\" )\n",
    "ax.set_xlim(pd.Timestamp('2002-02-15'), pd.Timestamp('2019-07-01'))\n",
    "ax.set_xlabel('Trimestre')\n",
    "ax.legend(['Pobreza, personas', 'Pobreza, hogares', \n",
    "           'Indigencia, personas', 'Indigencia, hogares'])\n",
    "\n",
    "# # ANADIR SERIE CEDLAS\n",
    "# serie_cedlas = pd.read_csv('./../data/info/tornarolli_cedlas.csv', index_col=[0, 1], header = [0, 1])\n",
    "# serie_cedlas = serie_cedlas.T[serie_cedlas.columns.get_level_values(1) == 'Comparable'].T\n",
    "# serie_cedlas.columns = serie_cedlas.columns.get_level_values(0)\n",
    "# serie_cedlas.index = pd.date_range(\"2003-09\", periods=len(serie_cedlas), freq = '6M')\n",
    "# (1.*serie_cedlas).plot(color = '.6', marker = '+', ax = ax)\n",
    "\n",
    "plt.show()"
   ]
  },
  {
   "cell_type": "markdown",
   "metadata": {
    "hideCode": false,
    "hidePrompt": false
   },
   "source": [
    "Los puntos de este gráfico son los **valores promedios de los últimos 4 trimestres**. Previo a ese cálculo se interpola linealmente para tener los valores de los trimestres 2007-Q3, 2015-Q3, 2015-Q4, y 2016-Q1 para los cuales el INDEC no ofrece bases de microdatos.\n",
    "\n",
    "En los últimos 15 años hay una tendencia de **descenso** de los niveles de pobreza.\n",
    "\n",
    "***El dilema de 'Los numeros del INDEC'***\n",
    "\n",
    "Existe un cuestionamiento de las series de índice de precios ofrecidas por INDEC entre 2007 y 2015. Los cálculos de los niveles de pobreza dependen de los valores en términos reales de las canastas alimentarias.\n",
    "\n",
    "En este trabajo:\n",
    "   * Se usan las canastas alimentaria y total regionales establecidas por INDEC desde 2016.\n",
    "   * Construimos un indice de precios mensual de consenso entre las multiples mediciones disponibles en cada periodo.\n",
    "   * El valor medio de las canastas de INDEC post 2016, a precios constantes se usa para los años anteriores.\n",
    "   \n",
    "De esta forma tenemos una regla fija para los niveles de pobreza en todo el período, **independiente de los índices de precios elaborados por INDEC**."
   ]
  },
  {
   "cell_type": "markdown",
   "metadata": {
    "hideCode": false,
    "hidePrompt": false
   },
   "source": [
    "## Separacion 'aglomerados' vs resto del pais"
   ]
  },
  {
   "cell_type": "code",
   "execution_count": null,
   "metadata": {
    "hideCode": false,
    "hidePrompt": false
   },
   "outputs": [],
   "source": [
    "#md(\"Los indicadores mas usados en determinar incidencia de pobreza se restringen a los llamados áglomerados urbanos'. La cifra de {:.0f}\".format(x.loc[('Pobreza', 'Personas')].Porcentaje)+\"% de las personas en pobreza difiere del 32.0% reportado por INDEC para el segundo semestre de 2018 los 33,6% reportados en el informe de UCA para 2018-Q3, principalmente por incluir la poblacion que vive fuera de los aglomerados urbanos.\")"
   ]
  },
  {
   "cell_type": "markdown",
   "metadata": {
    "hideCode": false,
    "hidePrompt": false
   },
   "source": [
    "***La Encuesta de Hogares no releva zonas rurales***\n",
    "\n",
    "El INDEC publica en informes semestrales los principales indicadores de pobreza e indigencia. La fuente primaria de información para ellos es la encuesta de hogares EPH. Sin embargo, esta última releva sólamente aglomerados urbanos grandes, dejando en un punto ciego al casi 9% de la poblacion que vive en zona rural, ademas de otro 25% de las personas y hogares que no pertenecen a los aglomerados grandes. "
   ]
  },
  {
   "cell_type": "markdown",
   "metadata": {
    "hideCode": false,
    "hidePrompt": false
   },
   "source": [
    "### Porcentajes\n",
    "#### Niveles"
   ]
  },
  {
   "cell_type": "code",
   "execution_count": 119,
   "metadata": {
    "hideCode": false,
    "hidePrompt": false
   },
   "outputs": [],
   "source": [
    "# df = pd.read_csv('./../data/cuadros/cuadro_'+str(frac)+'_AGLO_si_Q_pct_ARG', index_col=[0, 1], header = [0, 1]).drop_duplicates().unstack(0, 1)\n",
    "# df.index = pd.to_datetime(df.index)\n",
    "\n",
    "# df_ = df[['Indigencia', 'Pobreza']].groupby(pd.Grouper(level = 0, freq = '6MS')).mean().T\n",
    "# df_.index = pd.MultiIndex.from_tuples([(x[0], x[1], 'Aglomerados' if x[2] else 'Resto') for x in df_.index])\n",
    "# show = df_.copy()\n",
    "# show.columns = show.columns.to_period(\"6M\")\n",
    "# show = show.interpolate(axis = 1)\n",
    "\n",
    "# show.round(1).style.set_properties(**{'color': 'gray'}, subset=[show.columns[3]])\n",
    "\n",
    "\n",
    "# # error relativo 0.01"
   ]
  },
  {
   "cell_type": "code",
   "execution_count": 120,
   "metadata": {
    "hideCode": false,
    "hidePrompt": false
   },
   "outputs": [
    {
     "data": {
      "text/html": [
       "<div>\n",
       "<style scoped>\n",
       "    .dataframe tbody tr th:only-of-type {\n",
       "        vertical-align: middle;\n",
       "    }\n",
       "\n",
       "    .dataframe tbody tr th {\n",
       "        vertical-align: top;\n",
       "    }\n",
       "\n",
       "    .dataframe thead th {\n",
       "        text-align: right;\n",
       "    }\n",
       "</style>\n",
       "<table border=\"1\" class=\"dataframe\">\n",
       "  <thead>\n",
       "    <tr style=\"text-align: right;\">\n",
       "      <th></th>\n",
       "      <th></th>\n",
       "      <th>Fuera de aglomerados</th>\n",
       "      <th>Aglomerados</th>\n",
       "    </tr>\n",
       "  </thead>\n",
       "  <tbody>\n",
       "    <tr>\n",
       "      <th rowspan=\"2\" valign=\"top\">Indigencia</th>\n",
       "      <th>Hogares</th>\n",
       "      <td>13.9</td>\n",
       "      <td>10.0</td>\n",
       "    </tr>\n",
       "    <tr>\n",
       "      <th>Personas</th>\n",
       "      <td>18.8</td>\n",
       "      <td>13.1</td>\n",
       "    </tr>\n",
       "    <tr>\n",
       "      <th rowspan=\"2\" valign=\"top\">Pobreza</th>\n",
       "      <th>Hogares</th>\n",
       "      <td>44.6</td>\n",
       "      <td>35.5</td>\n",
       "    </tr>\n",
       "    <tr>\n",
       "      <th>Personas</th>\n",
       "      <td>56.2</td>\n",
       "      <td>45.7</td>\n",
       "    </tr>\n",
       "  </tbody>\n",
       "</table>\n",
       "</div>"
      ],
      "text/plain": [
       "                     Fuera de aglomerados  Aglomerados\n",
       "Indigencia Hogares                   13.9         10.0\n",
       "           Personas                  18.8         13.1\n",
       "Pobreza    Hogares                   44.6         35.5\n",
       "           Personas                  56.2         45.7"
      ]
     },
     "execution_count": 120,
     "metadata": {},
     "output_type": "execute_result"
    }
   ],
   "source": [
    "cuadro3 = pd.read_csv('./../data/cuadros/cuadro2_'+str(frac)+'_ARG', index_col=[0, 1], header = [0, 1, 2])\n",
    "df = cuadro3.iloc[:, cuadro5.columns.get_level_values(0).isin(['Indigencia', 'Pobreza'])\n",
    "            & cuadro5.columns.get_level_values(2).isin(['Hogares', 'Personas'])\n",
    "                 & cuadro5.columns.get_level_values(1).isin(['mean'])]\n",
    "\n",
    "# Leave just time as index\n",
    "df = df.unstack()\n",
    "\n",
    "df.index = pd.DatetimeIndex(df.index)\n",
    "\n",
    "# Ultimo periodo\n",
    "x = df.iloc[-1].unstack([3, 1])\n",
    "x.columns = ['Fuera de aglomerados', 'Aglomerados']\n",
    "\n",
    "x.round(1)"
   ]
  },
  {
   "cell_type": "markdown",
   "metadata": {
    "hideCode": false,
    "hidePrompt": false
   },
   "source": [
    "***Posible sobreestimacion de pobreza rural***\n",
    "\n",
    "A la espera de una mejor solución (es decir, que se implemente un muestreo directo de la poblacion fuera de aglomerados), asumimos que ésta es equivalente a la relevada en los centros urbanos. Ciertamente esto puede conllevar a errores sistemáticos. por dar un ejemplo, el nivel educativo en las zonas rurales es significativamente menor. En la ciudad este es un signo de peores condiciones de trabajo e ingresos, pero no necesariamente esto es así en un entorno rural. \n",
    "\n",
    "Si nos basamos en niveles educativos podríamos facilmente sobreestimar la pobreza rural, y por lo tanto el total nacional. \n",
    "Al presentar los resultados desagregados geograficamente este tema puede salvarse."
   ]
  },
  {
   "cell_type": "code",
   "execution_count": 121,
   "metadata": {},
   "outputs": [],
   "source": [
    "startyr = 2015\n",
    "endyr = 2021"
   ]
  },
  {
   "cell_type": "markdown",
   "metadata": {
    "hideCode": false,
    "hidePrompt": false
   },
   "source": [
    "\n",
    "***Serie Temporal***\n"
   ]
  },
  {
   "cell_type": "code",
   "execution_count": 122,
   "metadata": {},
   "outputs": [
    {
     "data": {
      "text/html": [
       "<div>\n",
       "<style scoped>\n",
       "    .dataframe tbody tr th:only-of-type {\n",
       "        vertical-align: middle;\n",
       "    }\n",
       "\n",
       "    .dataframe tbody tr th {\n",
       "        vertical-align: top;\n",
       "    }\n",
       "\n",
       "    .dataframe thead th {\n",
       "        text-align: right;\n",
       "    }\n",
       "</style>\n",
       "<table border=\"1\" class=\"dataframe\">\n",
       "  <thead>\n",
       "    <tr style=\"text-align: right;\">\n",
       "      <th></th>\n",
       "      <th></th>\n",
       "      <th></th>\n",
       "      <th>2015</th>\n",
       "      <th>2016</th>\n",
       "      <th>2017</th>\n",
       "      <th>2018</th>\n",
       "      <th>2019</th>\n",
       "      <th>2020</th>\n",
       "    </tr>\n",
       "  </thead>\n",
       "  <tbody>\n",
       "    <tr>\n",
       "      <th rowspan=\"4\" valign=\"top\">Indigencia</th>\n",
       "      <th rowspan=\"2\" valign=\"top\">Hogares</th>\n",
       "      <th>Resto</th>\n",
       "      <td>11.3</td>\n",
       "      <td>11.8</td>\n",
       "      <td>10.6</td>\n",
       "      <td>11.2</td>\n",
       "      <td>13.0</td>\n",
       "      <td>13.1</td>\n",
       "    </tr>\n",
       "    <tr>\n",
       "      <th>Aglomerados</th>\n",
       "      <td>7.2</td>\n",
       "      <td>7.6</td>\n",
       "      <td>6.7</td>\n",
       "      <td>7.2</td>\n",
       "      <td>8.6</td>\n",
       "      <td>8.8</td>\n",
       "    </tr>\n",
       "    <tr>\n",
       "      <th rowspan=\"2\" valign=\"top\">Personas</th>\n",
       "      <th>Resto</th>\n",
       "      <td>15.4</td>\n",
       "      <td>16.2</td>\n",
       "      <td>14.3</td>\n",
       "      <td>15.2</td>\n",
       "      <td>17.8</td>\n",
       "      <td>17.8</td>\n",
       "    </tr>\n",
       "    <tr>\n",
       "      <th>Aglomerados</th>\n",
       "      <td>9.5</td>\n",
       "      <td>10.0</td>\n",
       "      <td>8.9</td>\n",
       "      <td>9.4</td>\n",
       "      <td>11.6</td>\n",
       "      <td>11.7</td>\n",
       "    </tr>\n",
       "    <tr>\n",
       "      <th rowspan=\"4\" valign=\"top\">Pobreza</th>\n",
       "      <th rowspan=\"2\" valign=\"top\">Hogares</th>\n",
       "      <th>Resto</th>\n",
       "      <td>35.6</td>\n",
       "      <td>36.4</td>\n",
       "      <td>33.3</td>\n",
       "      <td>37.2</td>\n",
       "      <td>42.7</td>\n",
       "      <td>41.5</td>\n",
       "    </tr>\n",
       "    <tr>\n",
       "      <th>Aglomerados</th>\n",
       "      <td>26.6</td>\n",
       "      <td>27.0</td>\n",
       "      <td>24.6</td>\n",
       "      <td>27.7</td>\n",
       "      <td>32.7</td>\n",
       "      <td>32.0</td>\n",
       "    </tr>\n",
       "    <tr>\n",
       "      <th rowspan=\"2\" valign=\"top\">Personas</th>\n",
       "      <th>Resto</th>\n",
       "      <td>46.6</td>\n",
       "      <td>47.6</td>\n",
       "      <td>43.3</td>\n",
       "      <td>47.5</td>\n",
       "      <td>53.6</td>\n",
       "      <td>52.8</td>\n",
       "    </tr>\n",
       "    <tr>\n",
       "      <th>Aglomerados</th>\n",
       "      <td>35.2</td>\n",
       "      <td>35.6</td>\n",
       "      <td>32.6</td>\n",
       "      <td>36.1</td>\n",
       "      <td>41.9</td>\n",
       "      <td>41.5</td>\n",
       "    </tr>\n",
       "  </tbody>\n",
       "</table>\n",
       "</div>"
      ],
      "text/plain": [
       "                                 2015  2016  2017  2018  2019  2020\n",
       "Indigencia Hogares  Resto        11.3  11.8  10.6  11.2  13.0  13.1\n",
       "                    Aglomerados   7.2   7.6   6.7   7.2   8.6   8.8\n",
       "           Personas Resto        15.4  16.2  14.3  15.2  17.8  17.8\n",
       "                    Aglomerados   9.5  10.0   8.9   9.4  11.6  11.7\n",
       "Pobreza    Hogares  Resto        35.6  36.4  33.3  37.2  42.7  41.5\n",
       "                    Aglomerados  26.6  27.0  24.6  27.7  32.7  32.0\n",
       "           Personas Resto        46.6  47.6  43.3  47.5  53.6  52.8\n",
       "                    Aglomerados  35.2  35.6  32.6  36.1  41.9  41.5"
      ]
     },
     "execution_count": 122,
     "metadata": {},
     "output_type": "execute_result"
    }
   ],
   "source": [
    "# Rolling 4 trimestres de interpolado\n",
    "df = df.resample('Q').mean().interpolate()\n",
    "\n",
    "show = df.groupby(pd.Grouper(level = 0, freq = 'Y')).mean()\n",
    "show.columns = show.columns.droplevel(1)\n",
    "show.index = range(startyr, endyr)\n",
    "\n",
    "show.columns = pd.MultiIndex.from_tuples([(x[0], x[1], 'Aglomerados' if x[2] else 'Resto') for x in show.columns])\n",
    "\n",
    "show.T.round(1)"
   ]
  },
  {
   "cell_type": "code",
   "execution_count": 123,
   "metadata": {
    "hideCode": false,
    "hidePrompt": false
   },
   "outputs": [
    {
     "data": {
      "text/html": [
       "<style  type=\"text/css\" >\n",
       "#T_eafbb273_5043_11eb_a629_84fdd11857f8row0_col0,#T_eafbb273_5043_11eb_a629_84fdd11857f8row1_col0,#T_eafbb273_5043_11eb_a629_84fdd11857f8row2_col0,#T_eafbb273_5043_11eb_a629_84fdd11857f8row3_col0,#T_eafbb273_5043_11eb_a629_84fdd11857f8row4_col0,#T_eafbb273_5043_11eb_a629_84fdd11857f8row5_col0,#T_eafbb273_5043_11eb_a629_84fdd11857f8row6_col0,#T_eafbb273_5043_11eb_a629_84fdd11857f8row7_col0{\n",
       "            color:  black;\n",
       "        }#T_eafbb273_5043_11eb_a629_84fdd11857f8row0_col1,#T_eafbb273_5043_11eb_a629_84fdd11857f8row0_col3,#T_eafbb273_5043_11eb_a629_84fdd11857f8row0_col4,#T_eafbb273_5043_11eb_a629_84fdd11857f8row0_col5,#T_eafbb273_5043_11eb_a629_84fdd11857f8row1_col1,#T_eafbb273_5043_11eb_a629_84fdd11857f8row1_col3,#T_eafbb273_5043_11eb_a629_84fdd11857f8row1_col4,#T_eafbb273_5043_11eb_a629_84fdd11857f8row1_col5,#T_eafbb273_5043_11eb_a629_84fdd11857f8row2_col1,#T_eafbb273_5043_11eb_a629_84fdd11857f8row2_col3,#T_eafbb273_5043_11eb_a629_84fdd11857f8row2_col4,#T_eafbb273_5043_11eb_a629_84fdd11857f8row2_col5,#T_eafbb273_5043_11eb_a629_84fdd11857f8row3_col1,#T_eafbb273_5043_11eb_a629_84fdd11857f8row3_col3,#T_eafbb273_5043_11eb_a629_84fdd11857f8row3_col4,#T_eafbb273_5043_11eb_a629_84fdd11857f8row3_col5,#T_eafbb273_5043_11eb_a629_84fdd11857f8row4_col1,#T_eafbb273_5043_11eb_a629_84fdd11857f8row4_col3,#T_eafbb273_5043_11eb_a629_84fdd11857f8row4_col4,#T_eafbb273_5043_11eb_a629_84fdd11857f8row5_col1,#T_eafbb273_5043_11eb_a629_84fdd11857f8row5_col3,#T_eafbb273_5043_11eb_a629_84fdd11857f8row5_col4,#T_eafbb273_5043_11eb_a629_84fdd11857f8row6_col1,#T_eafbb273_5043_11eb_a629_84fdd11857f8row6_col3,#T_eafbb273_5043_11eb_a629_84fdd11857f8row6_col4,#T_eafbb273_5043_11eb_a629_84fdd11857f8row7_col1,#T_eafbb273_5043_11eb_a629_84fdd11857f8row7_col3,#T_eafbb273_5043_11eb_a629_84fdd11857f8row7_col4{\n",
       "            color:  red;\n",
       "        }#T_eafbb273_5043_11eb_a629_84fdd11857f8row0_col2,#T_eafbb273_5043_11eb_a629_84fdd11857f8row1_col2,#T_eafbb273_5043_11eb_a629_84fdd11857f8row2_col2,#T_eafbb273_5043_11eb_a629_84fdd11857f8row3_col2,#T_eafbb273_5043_11eb_a629_84fdd11857f8row4_col2,#T_eafbb273_5043_11eb_a629_84fdd11857f8row4_col5,#T_eafbb273_5043_11eb_a629_84fdd11857f8row5_col2,#T_eafbb273_5043_11eb_a629_84fdd11857f8row5_col5,#T_eafbb273_5043_11eb_a629_84fdd11857f8row6_col2,#T_eafbb273_5043_11eb_a629_84fdd11857f8row6_col5,#T_eafbb273_5043_11eb_a629_84fdd11857f8row7_col2,#T_eafbb273_5043_11eb_a629_84fdd11857f8row7_col5{\n",
       "            color:  green;\n",
       "        }</style><table id=\"T_eafbb273_5043_11eb_a629_84fdd11857f8\" ><thead>    <tr>        <th class=\"blank\" ></th>        <th class=\"blank\" ></th>        <th class=\"blank level0\" ></th>        <th class=\"col_heading level0 col0\" >2015</th>        <th class=\"col_heading level0 col1\" >2016</th>        <th class=\"col_heading level0 col2\" >2017</th>        <th class=\"col_heading level0 col3\" >2018</th>        <th class=\"col_heading level0 col4\" >2019</th>        <th class=\"col_heading level0 col5\" >2020</th>    </tr></thead><tbody>\n",
       "                <tr>\n",
       "                        <th id=\"T_eafbb273_5043_11eb_a629_84fdd11857f8level0_row0\" class=\"row_heading level0 row0\" rowspan=4>Indigencia</th>\n",
       "                        <th id=\"T_eafbb273_5043_11eb_a629_84fdd11857f8level1_row0\" class=\"row_heading level1 row0\" rowspan=2>Hogares</th>\n",
       "                        <th id=\"T_eafbb273_5043_11eb_a629_84fdd11857f8level2_row0\" class=\"row_heading level2 row0\" >Resto</th>\n",
       "                        <td id=\"T_eafbb273_5043_11eb_a629_84fdd11857f8row0_col0\" class=\"data row0 col0\" >nan</td>\n",
       "                        <td id=\"T_eafbb273_5043_11eb_a629_84fdd11857f8row0_col1\" class=\"data row0 col1\" >0.56</td>\n",
       "                        <td id=\"T_eafbb273_5043_11eb_a629_84fdd11857f8row0_col2\" class=\"data row0 col2\" >-1.20</td>\n",
       "                        <td id=\"T_eafbb273_5043_11eb_a629_84fdd11857f8row0_col3\" class=\"data row0 col3\" >0.54</td>\n",
       "                        <td id=\"T_eafbb273_5043_11eb_a629_84fdd11857f8row0_col4\" class=\"data row0 col4\" >1.84</td>\n",
       "                        <td id=\"T_eafbb273_5043_11eb_a629_84fdd11857f8row0_col5\" class=\"data row0 col5\" >0.35</td>\n",
       "            </tr>\n",
       "            <tr>\n",
       "                                        <th id=\"T_eafbb273_5043_11eb_a629_84fdd11857f8level2_row1\" class=\"row_heading level2 row1\" >Aglomerados</th>\n",
       "                        <td id=\"T_eafbb273_5043_11eb_a629_84fdd11857f8row1_col0\" class=\"data row1 col0\" >nan</td>\n",
       "                        <td id=\"T_eafbb273_5043_11eb_a629_84fdd11857f8row1_col1\" class=\"data row1 col1\" >0.42</td>\n",
       "                        <td id=\"T_eafbb273_5043_11eb_a629_84fdd11857f8row1_col2\" class=\"data row1 col2\" >-0.86</td>\n",
       "                        <td id=\"T_eafbb273_5043_11eb_a629_84fdd11857f8row1_col3\" class=\"data row1 col3\" >0.44</td>\n",
       "                        <td id=\"T_eafbb273_5043_11eb_a629_84fdd11857f8row1_col4\" class=\"data row1 col4\" >1.42</td>\n",
       "                        <td id=\"T_eafbb273_5043_11eb_a629_84fdd11857f8row1_col5\" class=\"data row1 col5\" >0.37</td>\n",
       "            </tr>\n",
       "            <tr>\n",
       "                                <th id=\"T_eafbb273_5043_11eb_a629_84fdd11857f8level1_row2\" class=\"row_heading level1 row2\" rowspan=2>Personas</th>\n",
       "                        <th id=\"T_eafbb273_5043_11eb_a629_84fdd11857f8level2_row2\" class=\"row_heading level2 row2\" >Resto</th>\n",
       "                        <td id=\"T_eafbb273_5043_11eb_a629_84fdd11857f8row2_col0\" class=\"data row2 col0\" >nan</td>\n",
       "                        <td id=\"T_eafbb273_5043_11eb_a629_84fdd11857f8row2_col1\" class=\"data row2 col1\" >0.85</td>\n",
       "                        <td id=\"T_eafbb273_5043_11eb_a629_84fdd11857f8row2_col2\" class=\"data row2 col2\" >-1.88</td>\n",
       "                        <td id=\"T_eafbb273_5043_11eb_a629_84fdd11857f8row2_col3\" class=\"data row2 col3\" >0.88</td>\n",
       "                        <td id=\"T_eafbb273_5043_11eb_a629_84fdd11857f8row2_col4\" class=\"data row2 col4\" >2.61</td>\n",
       "                        <td id=\"T_eafbb273_5043_11eb_a629_84fdd11857f8row2_col5\" class=\"data row2 col5\" >0.29</td>\n",
       "            </tr>\n",
       "            <tr>\n",
       "                                        <th id=\"T_eafbb273_5043_11eb_a629_84fdd11857f8level2_row3\" class=\"row_heading level2 row3\" >Aglomerados</th>\n",
       "                        <td id=\"T_eafbb273_5043_11eb_a629_84fdd11857f8row3_col0\" class=\"data row3 col0\" >nan</td>\n",
       "                        <td id=\"T_eafbb273_5043_11eb_a629_84fdd11857f8row3_col1\" class=\"data row3 col1\" >0.58</td>\n",
       "                        <td id=\"T_eafbb273_5043_11eb_a629_84fdd11857f8row3_col2\" class=\"data row3 col2\" >-1.13</td>\n",
       "                        <td id=\"T_eafbb273_5043_11eb_a629_84fdd11857f8row3_col3\" class=\"data row3 col3\" >0.46</td>\n",
       "                        <td id=\"T_eafbb273_5043_11eb_a629_84fdd11857f8row3_col4\" class=\"data row3 col4\" >2.21</td>\n",
       "                        <td id=\"T_eafbb273_5043_11eb_a629_84fdd11857f8row3_col5\" class=\"data row3 col5\" >0.32</td>\n",
       "            </tr>\n",
       "            <tr>\n",
       "                        <th id=\"T_eafbb273_5043_11eb_a629_84fdd11857f8level0_row4\" class=\"row_heading level0 row4\" rowspan=4>Pobreza</th>\n",
       "                        <th id=\"T_eafbb273_5043_11eb_a629_84fdd11857f8level1_row4\" class=\"row_heading level1 row4\" rowspan=2>Hogares</th>\n",
       "                        <th id=\"T_eafbb273_5043_11eb_a629_84fdd11857f8level2_row4\" class=\"row_heading level2 row4\" >Resto</th>\n",
       "                        <td id=\"T_eafbb273_5043_11eb_a629_84fdd11857f8row4_col0\" class=\"data row4 col0\" >nan</td>\n",
       "                        <td id=\"T_eafbb273_5043_11eb_a629_84fdd11857f8row4_col1\" class=\"data row4 col1\" >0.80</td>\n",
       "                        <td id=\"T_eafbb273_5043_11eb_a629_84fdd11857f8row4_col2\" class=\"data row4 col2\" >-3.14</td>\n",
       "                        <td id=\"T_eafbb273_5043_11eb_a629_84fdd11857f8row4_col3\" class=\"data row4 col3\" >3.89</td>\n",
       "                        <td id=\"T_eafbb273_5043_11eb_a629_84fdd11857f8row4_col4\" class=\"data row4 col4\" >5.57</td>\n",
       "                        <td id=\"T_eafbb273_5043_11eb_a629_84fdd11857f8row4_col5\" class=\"data row4 col5\" >-1.82</td>\n",
       "            </tr>\n",
       "            <tr>\n",
       "                                        <th id=\"T_eafbb273_5043_11eb_a629_84fdd11857f8level2_row5\" class=\"row_heading level2 row5\" >Aglomerados</th>\n",
       "                        <td id=\"T_eafbb273_5043_11eb_a629_84fdd11857f8row5_col0\" class=\"data row5 col0\" >nan</td>\n",
       "                        <td id=\"T_eafbb273_5043_11eb_a629_84fdd11857f8row5_col1\" class=\"data row5 col1\" >0.42</td>\n",
       "                        <td id=\"T_eafbb273_5043_11eb_a629_84fdd11857f8row5_col2\" class=\"data row5 col2\" >-2.40</td>\n",
       "                        <td id=\"T_eafbb273_5043_11eb_a629_84fdd11857f8row5_col3\" class=\"data row5 col3\" >3.16</td>\n",
       "                        <td id=\"T_eafbb273_5043_11eb_a629_84fdd11857f8row5_col4\" class=\"data row5 col4\" >4.97</td>\n",
       "                        <td id=\"T_eafbb273_5043_11eb_a629_84fdd11857f8row5_col5\" class=\"data row5 col5\" >-0.88</td>\n",
       "            </tr>\n",
       "            <tr>\n",
       "                                <th id=\"T_eafbb273_5043_11eb_a629_84fdd11857f8level1_row6\" class=\"row_heading level1 row6\" rowspan=2>Personas</th>\n",
       "                        <th id=\"T_eafbb273_5043_11eb_a629_84fdd11857f8level2_row6\" class=\"row_heading level2 row6\" >Resto</th>\n",
       "                        <td id=\"T_eafbb273_5043_11eb_a629_84fdd11857f8row6_col0\" class=\"data row6 col0\" >nan</td>\n",
       "                        <td id=\"T_eafbb273_5043_11eb_a629_84fdd11857f8row6_col1\" class=\"data row6 col1\" >0.94</td>\n",
       "                        <td id=\"T_eafbb273_5043_11eb_a629_84fdd11857f8row6_col2\" class=\"data row6 col2\" >-4.24</td>\n",
       "                        <td id=\"T_eafbb273_5043_11eb_a629_84fdd11857f8row6_col3\" class=\"data row6 col3\" >4.14</td>\n",
       "                        <td id=\"T_eafbb273_5043_11eb_a629_84fdd11857f8row6_col4\" class=\"data row6 col4\" >6.11</td>\n",
       "                        <td id=\"T_eafbb273_5043_11eb_a629_84fdd11857f8row6_col5\" class=\"data row6 col5\" >-1.02</td>\n",
       "            </tr>\n",
       "            <tr>\n",
       "                                        <th id=\"T_eafbb273_5043_11eb_a629_84fdd11857f8level2_row7\" class=\"row_heading level2 row7\" >Aglomerados</th>\n",
       "                        <td id=\"T_eafbb273_5043_11eb_a629_84fdd11857f8row7_col0\" class=\"data row7 col0\" >nan</td>\n",
       "                        <td id=\"T_eafbb273_5043_11eb_a629_84fdd11857f8row7_col1\" class=\"data row7 col1\" >0.44</td>\n",
       "                        <td id=\"T_eafbb273_5043_11eb_a629_84fdd11857f8row7_col2\" class=\"data row7 col2\" >-3.05</td>\n",
       "                        <td id=\"T_eafbb273_5043_11eb_a629_84fdd11857f8row7_col3\" class=\"data row7 col3\" >3.48</td>\n",
       "                        <td id=\"T_eafbb273_5043_11eb_a629_84fdd11857f8row7_col4\" class=\"data row7 col4\" >5.88</td>\n",
       "                        <td id=\"T_eafbb273_5043_11eb_a629_84fdd11857f8row7_col5\" class=\"data row7 col5\" >-0.43</td>\n",
       "            </tr>\n",
       "    </tbody></table>"
      ],
      "text/plain": [
       "<pandas.io.formats.style.Styler at 0x15daf079940>"
      ]
     },
     "execution_count": 123,
     "metadata": {},
     "output_type": "execute_result"
    }
   ],
   "source": [
    "show = df.diff(4).groupby(pd.Grouper(level = 0, freq = 'Y')).mean()\n",
    "show.columns = show.columns.droplevel(1)\n",
    "show.index = range(startyr, endyr)\n",
    "show.columns = pd.MultiIndex.from_tuples([(x[0], x[1], 'Aglomerados' if x[2] else 'Resto') for x in show.columns])\n",
    "\n",
    "show.T.round(2).style.applymap(color_negative_red).format(\"{:.2f}\")"
   ]
  },
  {
   "cell_type": "markdown",
   "metadata": {
    "hideCode": false,
    "hidePrompt": false
   },
   "source": [
    "El ultimo minimo para todas las series de pobreza e indigencia se da en el segundo semestre de 2017."
   ]
  },
  {
   "cell_type": "markdown",
   "metadata": {
    "hideCode": false,
    "hidePrompt": false
   },
   "source": [
    "### Cantidades (miles)\n",
    "### Niveles"
   ]
  },
  {
   "cell_type": "code",
   "execution_count": 88,
   "metadata": {
    "hideCode": false,
    "hidePrompt": false
   },
   "outputs": [],
   "source": [
    "# # Escala crecimiento poblacional para cantidades... No se usa mas porque ahora los archivos ya vienen escalados\n",
    "\n",
    "# escala = pd.read_csv('./../data/info/escala_poblacion.csv')\n",
    "# escala.index = pd.DatetimeIndex(pd.date_range(start = '2010', freq='Y', periods = len(escala))+ pd.DateOffset(days=-184) )\n",
    "# escala = escala[['r2018']].resample('6M').interpolate().loc['2014':'2018']"
   ]
  },
  {
   "cell_type": "code",
   "execution_count": 89,
   "metadata": {
    "hideCode": false,
    "hidePrompt": false
   },
   "outputs": [],
   "source": [
    "# md(\"En el tercer trimestre de 2018, la pobreza alcanza {:.1f}\".format(0.001*x.loc[('Pobreza', 'Personas')]['Cantidad (miles)'])+\" millones de personas en todo el pais. \\\n",
    "#    \\n\\\n",
    "#    La indigencia en el mismo periodo alcanza {:.1f}\".format(0.001*x.loc[('Indigencia', 'Personas')]['Cantidad (miles)'])+\" millones de personas\\\n",
    "#    \\n\\\n",
    "#    A continuación la desagregacion entre aglomerados y resto del país. \")"
   ]
  },
  {
   "cell_type": "code",
   "execution_count": 90,
   "metadata": {
    "hideCode": false,
    "hidePrompt": false
   },
   "outputs": [],
   "source": [
    "# df = pd.read_csv('./../data/cuadros/cuadro_'+str(frac)+'_AGLO_si_Q_n_ARG', index_col=[0, 1], header = [0, 1]).drop_duplicates().unstack(0, 1)\n",
    "# df.index = pd.to_datetime(df.index)\n",
    "\n",
    "# df_ = df[['Indigencia', 'Pobreza']].groupby(pd.Grouper(level = 0, freq = '6MS')).mean().T\n",
    "# df_.index = pd.MultiIndex.from_tuples([(x[0], x[1], 'Aglomerados' if x[2] else 'Resto') for x in df_.index])\n",
    "# show = df_.copy()\n",
    "# show = (show.T*escala.values).T\n",
    "# show.columns = show.columns.to_period(\"6M\")\n",
    "# show = show.interpolate(axis = 1)\n",
    "\n",
    "# myround(show, 20).style.set_properties(**{'color': 'gray'}, subset=[show.columns[3]])\n",
    "\n",
    "\n",
    "# # Redondear en decenas de miles? al menos..\n",
    "\n"
   ]
  },
  {
   "cell_type": "code",
   "execution_count": 124,
   "metadata": {
    "hideCode": false,
    "hidePrompt": false
   },
   "outputs": [
    {
     "data": {
      "text/html": [
       "<div>\n",
       "<style scoped>\n",
       "    .dataframe tbody tr th:only-of-type {\n",
       "        vertical-align: middle;\n",
       "    }\n",
       "\n",
       "    .dataframe tbody tr th {\n",
       "        vertical-align: top;\n",
       "    }\n",
       "\n",
       "    .dataframe thead th {\n",
       "        text-align: right;\n",
       "    }\n",
       "</style>\n",
       "<table border=\"1\" class=\"dataframe\">\n",
       "  <thead>\n",
       "    <tr style=\"text-align: right;\">\n",
       "      <th></th>\n",
       "      <th></th>\n",
       "      <th>Fuera de aglomerados</th>\n",
       "      <th>Aglomerados</th>\n",
       "    </tr>\n",
       "  </thead>\n",
       "  <tbody>\n",
       "    <tr>\n",
       "      <th rowspan=\"2\" valign=\"top\">Indigencia</th>\n",
       "      <th>Hogares</th>\n",
       "      <td>680</td>\n",
       "      <td>860</td>\n",
       "    </tr>\n",
       "    <tr>\n",
       "      <th>Personas</th>\n",
       "      <td>3100</td>\n",
       "      <td>3680</td>\n",
       "    </tr>\n",
       "    <tr>\n",
       "      <th rowspan=\"2\" valign=\"top\">Pobreza</th>\n",
       "      <th>Hogares</th>\n",
       "      <td>2180</td>\n",
       "      <td>3060</td>\n",
       "    </tr>\n",
       "    <tr>\n",
       "      <th>Personas</th>\n",
       "      <td>9260</td>\n",
       "      <td>12840</td>\n",
       "    </tr>\n",
       "  </tbody>\n",
       "</table>\n",
       "</div>"
      ],
      "text/plain": [
       "                     Fuera de aglomerados  Aglomerados\n",
       "Indigencia Hogares                    680          860\n",
       "           Personas                  3100         3680\n",
       "Pobreza    Hogares                   2180         3060\n",
       "           Personas                  9260        12840"
      ]
     },
     "execution_count": 124,
     "metadata": {},
     "output_type": "execute_result"
    }
   ],
   "source": [
    "cuadro3 = pd.read_csv('./../data/cuadros/cuadro2_'+str(frac)+'_ARG', index_col=[0, 1], header = [0, 1, 2])\n",
    "df = cuadro3.iloc[:, cuadro5.columns.get_level_values(0).isin(['Indigencia', 'Pobreza'])\n",
    "            & cuadro5.columns.get_level_values(2).isin(['Hogares', 'Personas'])\n",
    "                 & cuadro5.columns.get_level_values(1).isin(['sum'])]\n",
    "\n",
    "# Leave just time as index\n",
    "df = df.unstack()\n",
    "\n",
    "df.index = pd.DatetimeIndex(df.index)\n",
    "\n",
    "# Ultimo periodo\n",
    "x = df.iloc[-1].unstack([3, 1])\n",
    "x.columns = ['Fuera de aglomerados', 'Aglomerados']\n",
    "\n",
    "myround(x, 20).astype(int)\n",
    "# Error es 10mil en pobreza hogares, 50mil en pobreza personas\n"
   ]
  },
  {
   "cell_type": "markdown",
   "metadata": {},
   "source": [
    "***Serie Temporal***"
   ]
  },
  {
   "cell_type": "code",
   "execution_count": 125,
   "metadata": {
    "hideCode": false,
    "hidePrompt": false
   },
   "outputs": [
    {
     "data": {
      "text/html": [
       "<div>\n",
       "<style scoped>\n",
       "    .dataframe tbody tr th:only-of-type {\n",
       "        vertical-align: middle;\n",
       "    }\n",
       "\n",
       "    .dataframe tbody tr th {\n",
       "        vertical-align: top;\n",
       "    }\n",
       "\n",
       "    .dataframe thead th {\n",
       "        text-align: right;\n",
       "    }\n",
       "</style>\n",
       "<table border=\"1\" class=\"dataframe\">\n",
       "  <thead>\n",
       "    <tr style=\"text-align: right;\">\n",
       "      <th></th>\n",
       "      <th></th>\n",
       "      <th></th>\n",
       "      <th>2015</th>\n",
       "      <th>2016</th>\n",
       "      <th>2017</th>\n",
       "      <th>2018</th>\n",
       "      <th>2019</th>\n",
       "      <th>2020</th>\n",
       "    </tr>\n",
       "    <tr>\n",
       "      <th></th>\n",
       "      <th></th>\n",
       "      <th>AGLO_si</th>\n",
       "      <th></th>\n",
       "      <th></th>\n",
       "      <th></th>\n",
       "      <th></th>\n",
       "      <th></th>\n",
       "      <th></th>\n",
       "    </tr>\n",
       "  </thead>\n",
       "  <tbody>\n",
       "    <tr>\n",
       "      <th rowspan=\"4\" valign=\"top\">Indigencia</th>\n",
       "      <th rowspan=\"2\" valign=\"top\">Hogares</th>\n",
       "      <th>False</th>\n",
       "      <td>520</td>\n",
       "      <td>560</td>\n",
       "      <td>500</td>\n",
       "      <td>540</td>\n",
       "      <td>620</td>\n",
       "      <td>640</td>\n",
       "    </tr>\n",
       "    <tr>\n",
       "      <th>True</th>\n",
       "      <td>600</td>\n",
       "      <td>640</td>\n",
       "      <td>560</td>\n",
       "      <td>600</td>\n",
       "      <td>740</td>\n",
       "      <td>760</td>\n",
       "    </tr>\n",
       "    <tr>\n",
       "      <th rowspan=\"2\" valign=\"top\">Personas</th>\n",
       "      <th>False</th>\n",
       "      <td>2420</td>\n",
       "      <td>2580</td>\n",
       "      <td>2300</td>\n",
       "      <td>2480</td>\n",
       "      <td>2920</td>\n",
       "      <td>2940</td>\n",
       "    </tr>\n",
       "    <tr>\n",
       "      <th>True</th>\n",
       "      <td>2540</td>\n",
       "      <td>2720</td>\n",
       "      <td>2440</td>\n",
       "      <td>2580</td>\n",
       "      <td>3220</td>\n",
       "      <td>3280</td>\n",
       "    </tr>\n",
       "    <tr>\n",
       "      <th rowspan=\"4\" valign=\"top\">Pobreza</th>\n",
       "      <th rowspan=\"2\" valign=\"top\">Hogares</th>\n",
       "      <th>False</th>\n",
       "      <td>1660</td>\n",
       "      <td>1700</td>\n",
       "      <td>1580</td>\n",
       "      <td>1780</td>\n",
       "      <td>2060</td>\n",
       "      <td>2020</td>\n",
       "    </tr>\n",
       "    <tr>\n",
       "      <th>True</th>\n",
       "      <td>2180</td>\n",
       "      <td>2240</td>\n",
       "      <td>2060</td>\n",
       "      <td>2340</td>\n",
       "      <td>2800</td>\n",
       "      <td>2760</td>\n",
       "    </tr>\n",
       "    <tr>\n",
       "      <th rowspan=\"2\" valign=\"top\">Personas</th>\n",
       "      <th>False</th>\n",
       "      <td>7320</td>\n",
       "      <td>7540</td>\n",
       "      <td>6940</td>\n",
       "      <td>7700</td>\n",
       "      <td>8780</td>\n",
       "      <td>8700</td>\n",
       "    </tr>\n",
       "    <tr>\n",
       "      <th>True</th>\n",
       "      <td>9420</td>\n",
       "      <td>9640</td>\n",
       "      <td>8920</td>\n",
       "      <td>9920</td>\n",
       "      <td>11640</td>\n",
       "      <td>11660</td>\n",
       "    </tr>\n",
       "  </tbody>\n",
       "</table>\n",
       "</div>"
      ],
      "text/plain": [
       "                             2015  2016  2017  2018   2019   2020\n",
       "                    AGLO_si                                      \n",
       "Indigencia Hogares  False     520   560   500   540    620    640\n",
       "                    True      600   640   560   600    740    760\n",
       "           Personas False    2420  2580  2300  2480   2920   2940\n",
       "                    True     2540  2720  2440  2580   3220   3280\n",
       "Pobreza    Hogares  False    1660  1700  1580  1780   2060   2020\n",
       "                    True     2180  2240  2060  2340   2800   2760\n",
       "           Personas False    7320  7540  6940  7700   8780   8700\n",
       "                    True     9420  9640  8920  9920  11640  11660"
      ]
     },
     "execution_count": 125,
     "metadata": {},
     "output_type": "execute_result"
    }
   ],
   "source": [
    "# Rolling 4 trimestres de interpolado\n",
    "df = df.resample('Q').mean().interpolate()\n",
    "\n",
    "show = df.groupby(pd.Grouper(level = 0, freq = 'Y')).mean()\n",
    "show.columns = show.columns.droplevel(1)\n",
    "show.index = range(startyr, endyr)\n",
    "\n",
    "myround(show.T, 20).astype(int)"
   ]
  },
  {
   "cell_type": "code",
   "execution_count": 130,
   "metadata": {
    "hideCode": false,
    "hidePrompt": false
   },
   "outputs": [
    {
     "data": {
      "text/html": [
       "<style  type=\"text/css\" >\n",
       "#T_04c14212_5044_11eb_94c3_84fdd11857f8row0_col0,#T_04c14212_5044_11eb_94c3_84fdd11857f8row1_col0,#T_04c14212_5044_11eb_94c3_84fdd11857f8row2_col0,#T_04c14212_5044_11eb_94c3_84fdd11857f8row3_col0,#T_04c14212_5044_11eb_94c3_84fdd11857f8row4_col0,#T_04c14212_5044_11eb_94c3_84fdd11857f8row5_col0,#T_04c14212_5044_11eb_94c3_84fdd11857f8row6_col0,#T_04c14212_5044_11eb_94c3_84fdd11857f8row7_col0{\n",
       "            color:  black;\n",
       "        }#T_04c14212_5044_11eb_94c3_84fdd11857f8row0_col1,#T_04c14212_5044_11eb_94c3_84fdd11857f8row0_col3,#T_04c14212_5044_11eb_94c3_84fdd11857f8row0_col4,#T_04c14212_5044_11eb_94c3_84fdd11857f8row0_col5,#T_04c14212_5044_11eb_94c3_84fdd11857f8row1_col1,#T_04c14212_5044_11eb_94c3_84fdd11857f8row1_col3,#T_04c14212_5044_11eb_94c3_84fdd11857f8row1_col4,#T_04c14212_5044_11eb_94c3_84fdd11857f8row1_col5,#T_04c14212_5044_11eb_94c3_84fdd11857f8row2_col1,#T_04c14212_5044_11eb_94c3_84fdd11857f8row2_col3,#T_04c14212_5044_11eb_94c3_84fdd11857f8row2_col4,#T_04c14212_5044_11eb_94c3_84fdd11857f8row2_col5,#T_04c14212_5044_11eb_94c3_84fdd11857f8row3_col1,#T_04c14212_5044_11eb_94c3_84fdd11857f8row3_col3,#T_04c14212_5044_11eb_94c3_84fdd11857f8row3_col4,#T_04c14212_5044_11eb_94c3_84fdd11857f8row3_col5,#T_04c14212_5044_11eb_94c3_84fdd11857f8row4_col1,#T_04c14212_5044_11eb_94c3_84fdd11857f8row4_col3,#T_04c14212_5044_11eb_94c3_84fdd11857f8row4_col4,#T_04c14212_5044_11eb_94c3_84fdd11857f8row5_col1,#T_04c14212_5044_11eb_94c3_84fdd11857f8row5_col3,#T_04c14212_5044_11eb_94c3_84fdd11857f8row5_col4,#T_04c14212_5044_11eb_94c3_84fdd11857f8row6_col1,#T_04c14212_5044_11eb_94c3_84fdd11857f8row6_col3,#T_04c14212_5044_11eb_94c3_84fdd11857f8row6_col4,#T_04c14212_5044_11eb_94c3_84fdd11857f8row7_col1,#T_04c14212_5044_11eb_94c3_84fdd11857f8row7_col3,#T_04c14212_5044_11eb_94c3_84fdd11857f8row7_col4,#T_04c14212_5044_11eb_94c3_84fdd11857f8row7_col5{\n",
       "            color:  red;\n",
       "        }#T_04c14212_5044_11eb_94c3_84fdd11857f8row0_col2,#T_04c14212_5044_11eb_94c3_84fdd11857f8row1_col2,#T_04c14212_5044_11eb_94c3_84fdd11857f8row2_col2,#T_04c14212_5044_11eb_94c3_84fdd11857f8row3_col2,#T_04c14212_5044_11eb_94c3_84fdd11857f8row4_col2,#T_04c14212_5044_11eb_94c3_84fdd11857f8row4_col5,#T_04c14212_5044_11eb_94c3_84fdd11857f8row5_col2,#T_04c14212_5044_11eb_94c3_84fdd11857f8row5_col5,#T_04c14212_5044_11eb_94c3_84fdd11857f8row6_col2,#T_04c14212_5044_11eb_94c3_84fdd11857f8row6_col5,#T_04c14212_5044_11eb_94c3_84fdd11857f8row7_col2{\n",
       "            color:  green;\n",
       "        }</style><table id=\"T_04c14212_5044_11eb_94c3_84fdd11857f8\" ><thead>    <tr>        <th class=\"blank\" ></th>        <th class=\"blank\" ></th>        <th class=\"blank level0\" ></th>        <th class=\"col_heading level0 col0\" >2015</th>        <th class=\"col_heading level0 col1\" >2016</th>        <th class=\"col_heading level0 col2\" >2017</th>        <th class=\"col_heading level0 col3\" >2018</th>        <th class=\"col_heading level0 col4\" >2019</th>        <th class=\"col_heading level0 col5\" >2020</th>    </tr>    <tr>        <th class=\"index_name level0\" ></th>        <th class=\"index_name level1\" ></th>        <th class=\"index_name level2\" >AGLO_si</th>        <th class=\"blank\" ></th>        <th class=\"blank\" ></th>        <th class=\"blank\" ></th>        <th class=\"blank\" ></th>        <th class=\"blank\" ></th>        <th class=\"blank\" ></th>    </tr></thead><tbody>\n",
       "                <tr>\n",
       "                        <th id=\"T_04c14212_5044_11eb_94c3_84fdd11857f8level0_row0\" class=\"row_heading level0 row0\" rowspan=4>Indigencia</th>\n",
       "                        <th id=\"T_04c14212_5044_11eb_94c3_84fdd11857f8level1_row0\" class=\"row_heading level1 row0\" rowspan=2>Hogares</th>\n",
       "                        <th id=\"T_04c14212_5044_11eb_94c3_84fdd11857f8level2_row0\" class=\"row_heading level2 row0\" >False</th>\n",
       "                        <td id=\"T_04c14212_5044_11eb_94c3_84fdd11857f8row0_col0\" class=\"data row0 col0\" >nan</td>\n",
       "                        <td id=\"T_04c14212_5044_11eb_94c3_84fdd11857f8row0_col1\" class=\"data row0 col1\" >30</td>\n",
       "                        <td id=\"T_04c14212_5044_11eb_94c3_84fdd11857f8row0_col2\" class=\"data row0 col2\" >-50</td>\n",
       "                        <td id=\"T_04c14212_5044_11eb_94c3_84fdd11857f8row0_col3\" class=\"data row0 col3\" >30</td>\n",
       "                        <td id=\"T_04c14212_5044_11eb_94c3_84fdd11857f8row0_col4\" class=\"data row0 col4\" >90</td>\n",
       "                        <td id=\"T_04c14212_5044_11eb_94c3_84fdd11857f8row0_col5\" class=\"data row0 col5\" >20</td>\n",
       "            </tr>\n",
       "            <tr>\n",
       "                                        <th id=\"T_04c14212_5044_11eb_94c3_84fdd11857f8level2_row1\" class=\"row_heading level2 row1\" >True</th>\n",
       "                        <td id=\"T_04c14212_5044_11eb_94c3_84fdd11857f8row1_col0\" class=\"data row1 col0\" >nan</td>\n",
       "                        <td id=\"T_04c14212_5044_11eb_94c3_84fdd11857f8row1_col1\" class=\"data row1 col1\" >40</td>\n",
       "                        <td id=\"T_04c14212_5044_11eb_94c3_84fdd11857f8row1_col2\" class=\"data row1 col2\" >-70</td>\n",
       "                        <td id=\"T_04c14212_5044_11eb_94c3_84fdd11857f8row1_col3\" class=\"data row1 col3\" >40</td>\n",
       "                        <td id=\"T_04c14212_5044_11eb_94c3_84fdd11857f8row1_col4\" class=\"data row1 col4\" >130</td>\n",
       "                        <td id=\"T_04c14212_5044_11eb_94c3_84fdd11857f8row1_col5\" class=\"data row1 col5\" >40</td>\n",
       "            </tr>\n",
       "            <tr>\n",
       "                                <th id=\"T_04c14212_5044_11eb_94c3_84fdd11857f8level1_row2\" class=\"row_heading level1 row2\" rowspan=2>Personas</th>\n",
       "                        <th id=\"T_04c14212_5044_11eb_94c3_84fdd11857f8level2_row2\" class=\"row_heading level2 row2\" >False</th>\n",
       "                        <td id=\"T_04c14212_5044_11eb_94c3_84fdd11857f8row2_col0\" class=\"data row2 col0\" >nan</td>\n",
       "                        <td id=\"T_04c14212_5044_11eb_94c3_84fdd11857f8row2_col1\" class=\"data row2 col1\" >160</td>\n",
       "                        <td id=\"T_04c14212_5044_11eb_94c3_84fdd11857f8row2_col2\" class=\"data row2 col2\" >-280</td>\n",
       "                        <td id=\"T_04c14212_5044_11eb_94c3_84fdd11857f8row2_col3\" class=\"data row2 col3\" >180</td>\n",
       "                        <td id=\"T_04c14212_5044_11eb_94c3_84fdd11857f8row2_col4\" class=\"data row2 col4\" >450</td>\n",
       "                        <td id=\"T_04c14212_5044_11eb_94c3_84fdd11857f8row2_col5\" class=\"data row2 col5\" >60</td>\n",
       "            </tr>\n",
       "            <tr>\n",
       "                                        <th id=\"T_04c14212_5044_11eb_94c3_84fdd11857f8level2_row3\" class=\"row_heading level2 row3\" >True</th>\n",
       "                        <td id=\"T_04c14212_5044_11eb_94c3_84fdd11857f8row3_col0\" class=\"data row3 col0\" >nan</td>\n",
       "                        <td id=\"T_04c14212_5044_11eb_94c3_84fdd11857f8row3_col1\" class=\"data row3 col1\" >180</td>\n",
       "                        <td id=\"T_04c14212_5044_11eb_94c3_84fdd11857f8row3_col2\" class=\"data row3 col2\" >-280</td>\n",
       "                        <td id=\"T_04c14212_5044_11eb_94c3_84fdd11857f8row3_col3\" class=\"data row3 col3\" >140</td>\n",
       "                        <td id=\"T_04c14212_5044_11eb_94c3_84fdd11857f8row3_col4\" class=\"data row3 col4\" >640</td>\n",
       "                        <td id=\"T_04c14212_5044_11eb_94c3_84fdd11857f8row3_col5\" class=\"data row3 col5\" >130</td>\n",
       "            </tr>\n",
       "            <tr>\n",
       "                        <th id=\"T_04c14212_5044_11eb_94c3_84fdd11857f8level0_row4\" class=\"row_heading level0 row4\" rowspan=4>Pobreza</th>\n",
       "                        <th id=\"T_04c14212_5044_11eb_94c3_84fdd11857f8level1_row4\" class=\"row_heading level1 row4\" rowspan=2>Hogares</th>\n",
       "                        <th id=\"T_04c14212_5044_11eb_94c3_84fdd11857f8level2_row4\" class=\"row_heading level2 row4\" >False</th>\n",
       "                        <td id=\"T_04c14212_5044_11eb_94c3_84fdd11857f8row4_col0\" class=\"data row4 col0\" >nan</td>\n",
       "                        <td id=\"T_04c14212_5044_11eb_94c3_84fdd11857f8row4_col1\" class=\"data row4 col1\" >50</td>\n",
       "                        <td id=\"T_04c14212_5044_11eb_94c3_84fdd11857f8row4_col2\" class=\"data row4 col2\" >-130</td>\n",
       "                        <td id=\"T_04c14212_5044_11eb_94c3_84fdd11857f8row4_col3\" class=\"data row4 col3\" >200</td>\n",
       "                        <td id=\"T_04c14212_5044_11eb_94c3_84fdd11857f8row4_col4\" class=\"data row4 col4\" >290</td>\n",
       "                        <td id=\"T_04c14212_5044_11eb_94c3_84fdd11857f8row4_col5\" class=\"data row4 col5\" >-70</td>\n",
       "            </tr>\n",
       "            <tr>\n",
       "                                        <th id=\"T_04c14212_5044_11eb_94c3_84fdd11857f8level2_row5\" class=\"row_heading level2 row5\" >True</th>\n",
       "                        <td id=\"T_04c14212_5044_11eb_94c3_84fdd11857f8row5_col0\" class=\"data row5 col0\" >nan</td>\n",
       "                        <td id=\"T_04c14212_5044_11eb_94c3_84fdd11857f8row5_col1\" class=\"data row5 col1\" >50</td>\n",
       "                        <td id=\"T_04c14212_5044_11eb_94c3_84fdd11857f8row5_col2\" class=\"data row5 col2\" >-180</td>\n",
       "                        <td id=\"T_04c14212_5044_11eb_94c3_84fdd11857f8row5_col3\" class=\"data row5 col3\" >290</td>\n",
       "                        <td id=\"T_04c14212_5044_11eb_94c3_84fdd11857f8row5_col4\" class=\"data row5 col4\" >450</td>\n",
       "                        <td id=\"T_04c14212_5044_11eb_94c3_84fdd11857f8row5_col5\" class=\"data row5 col5\" >-50</td>\n",
       "            </tr>\n",
       "            <tr>\n",
       "                                <th id=\"T_04c14212_5044_11eb_94c3_84fdd11857f8level1_row6\" class=\"row_heading level1 row6\" rowspan=2>Personas</th>\n",
       "                        <th id=\"T_04c14212_5044_11eb_94c3_84fdd11857f8level2_row6\" class=\"row_heading level2 row6\" >False</th>\n",
       "                        <td id=\"T_04c14212_5044_11eb_94c3_84fdd11857f8row6_col0\" class=\"data row6 col0\" >nan</td>\n",
       "                        <td id=\"T_04c14212_5044_11eb_94c3_84fdd11857f8row6_col1\" class=\"data row6 col1\" >230</td>\n",
       "                        <td id=\"T_04c14212_5044_11eb_94c3_84fdd11857f8row6_col2\" class=\"data row6 col2\" >-620</td>\n",
       "                        <td id=\"T_04c14212_5044_11eb_94c3_84fdd11857f8row6_col3\" class=\"data row6 col3\" >770</td>\n",
       "                        <td id=\"T_04c14212_5044_11eb_94c3_84fdd11857f8row6_col4\" class=\"data row6 col4\" >1080</td>\n",
       "                        <td id=\"T_04c14212_5044_11eb_94c3_84fdd11857f8row6_col5\" class=\"data row6 col5\" >-130</td>\n",
       "            </tr>\n",
       "            <tr>\n",
       "                                        <th id=\"T_04c14212_5044_11eb_94c3_84fdd11857f8level2_row7\" class=\"row_heading level2 row7\" >True</th>\n",
       "                        <td id=\"T_04c14212_5044_11eb_94c3_84fdd11857f8row7_col0\" class=\"data row7 col0\" >nan</td>\n",
       "                        <td id=\"T_04c14212_5044_11eb_94c3_84fdd11857f8row7_col1\" class=\"data row7 col1\" >220</td>\n",
       "                        <td id=\"T_04c14212_5044_11eb_94c3_84fdd11857f8row7_col2\" class=\"data row7 col2\" >-710</td>\n",
       "                        <td id=\"T_04c14212_5044_11eb_94c3_84fdd11857f8row7_col3\" class=\"data row7 col3\" >1000</td>\n",
       "                        <td id=\"T_04c14212_5044_11eb_94c3_84fdd11857f8row7_col4\" class=\"data row7 col4\" >1730</td>\n",
       "                        <td id=\"T_04c14212_5044_11eb_94c3_84fdd11857f8row7_col5\" class=\"data row7 col5\" >20</td>\n",
       "            </tr>\n",
       "    </tbody></table>"
      ],
      "text/plain": [
       "<pandas.io.formats.style.Styler at 0x15daf088f40>"
      ]
     },
     "execution_count": 130,
     "metadata": {},
     "output_type": "execute_result"
    }
   ],
   "source": [
    "show = df.diff(4).groupby(pd.Grouper(level = 0, freq = 'Y')).mean()\n",
    "show.columns = show.columns.droplevel(1)\n",
    "show.index = range(startyr, endyr)\n",
    "\n",
    "show.T.round(-1).style.applymap(color_negative_red).format(\"{:.0f}\")"
   ]
  },
  {
   "cell_type": "code",
   "execution_count": 131,
   "metadata": {},
   "outputs": [
    {
     "data": {
      "text/markdown": [
       "Las estimaciones dan cuenta que en 2019 habrá 3.1 millones de pobres más que en 2015.    Además habrá 1.0 millones de nuevos indigentes. Los niveles de pobreza en 2019 igualan a los de 2008."
      ],
      "text/plain": [
       "<IPython.core.display.Markdown object>"
      ]
     },
     "execution_count": 131,
     "metadata": {},
     "output_type": "execute_result"
    }
   ],
   "source": [
    "nuevos_pobres = show.iloc[-4:]['Pobreza']['Personas'].sum().sum()\n",
    "nuevos_indigs = show.iloc[-4:]['Indigencia']['Personas'].sum().sum()\n",
    "\n",
    "md(\"Las estimaciones dan cuenta que en 2019 habrá {:.1f}\".format(0.001*nuevos_pobres)+\" millones de pobres más que en 2015. \\\n",
    "   Además habrá {:.1f}\".format(0.001*nuevos_indigs)+\" millones de nuevos indigentes. Los niveles de pobreza en 2019 igualan a los de 2008.\")"
   ]
  },
  {
   "cell_type": "markdown",
   "metadata": {
    "hideCode": false,
    "hidePrompt": false
   },
   "source": [
    "## Ingresos a precios constantes (ARS 2019-Q4)\n",
    "\n",
    "Los valores monetarios reportados son en todos los casos en pesos argentinos (AR$) a valores constantes de 2019-Q4."
   ]
  },
  {
   "cell_type": "markdown",
   "metadata": {
    "hideCode": false,
    "hidePrompt": false
   },
   "source": [
    "### Percentiles de ingreso\n",
    "(Personas mayores de 24)"
   ]
  },
  {
   "cell_type": "code",
   "execution_count": 132,
   "metadata": {
    "hideCode": false,
    "hidePrompt": false
   },
   "outputs": [],
   "source": [
    "# #JIC\n",
    "\n",
    "# import pandas as pd\n",
    "# import matplotlib.pyplot as plt\n",
    "# %matplotlib inline\n",
    "# import seaborn as sns\n",
    "\n",
    "# import numpy as np\n",
    "\n",
    "# from IPython.display import Markdown as md\n",
    "\n",
    "# import numpy as np\n",
    "# from matplotlib.ticker import EngFormatter\n",
    "\n",
    "# data = pd.read_csv('./../data/Pobreza/pobreza_'+str(frac)+'_2018_2021.csv')\n",
    "# data.nunique()"
   ]
  },
  {
   "cell_type": "code",
   "execution_count": 133,
   "metadata": {
    "hideCode": false,
    "hidePrompt": false
   },
   "outputs": [],
   "source": [
    "# import numpy as np\n",
    "# s, bins_persona = pd.qcut(data.loc[data.P03 > 24].P47T_persona, 9, retbins=True, duplicates = 'drop')\n",
    "# s, bins_hogares = pd.qcut(data.groupby('HOGAR_REF_ID').first().P47T_hogar, 9, retbins=True)\n",
    "# df = pd.DataFrame([bins_persona[1:-1], bins_hogares[1:-1]], index = ['Ingreso Persona', 'Ingreso Hogar']).T\n",
    "# # df.index = np.array([ 1, 2,  3,  4,  'mediana', 6,  7,  8,  9])\n",
    "# # myround(df, 250).astype(int)\n",
    "# df\n",
    "# # Error +- 300 pe"
   ]
  },
  {
   "cell_type": "code",
   "execution_count": 134,
   "metadata": {
    "hideCode": false,
    "hidePrompt": false
   },
   "outputs": [],
   "source": [
    "def plot_dist(data, variable = 'P47T_hogar', xmin = 0, titulo = 'Title'):\n",
    "    fig, ax = plt.subplots(1, figsize = (13, 6))\n",
    "\n",
    "    no_pobres_hist = np.repeat(data.loc[data.Pobreza == False][['HOGAR_REF_ID', variable]].drop_duplicates()[variable].values, 1/frac/yrs_pob_data)\n",
    "    pobres_hist = np.repeat(data.loc[(data.Pobreza) & (~data.Indigencia)][['HOGAR_REF_ID', variable]].drop_duplicates()[variable].values, 1/frac/yrs_pob_data)\n",
    "    indig_hist = np.repeat(data.loc[data.Indigencia][['HOGAR_REF_ID', variable]].drop_duplicates()[variable].values, 1/frac/yrs_pob_data)\n",
    "    hist_data = [indig_hist, pobres_hist, no_pobres_hist]\n",
    "    plt.hist(hist_data, np.arange(xmin, 250000, 5000), stacked=True, alpha = .5)\n",
    "    \n",
    "    ax.legend(['Indigentes', 'Pobres no indigentes', 'No pobres'])\n",
    "    ax.axvline(0, c = 'k')\n",
    "    ax.yaxis.set_major_formatter(EngFormatter())\n",
    "\n",
    "    plt.xlim(xmin, 250000)\n",
    "    plt.ylim(0, 1e6)\n",
    "    # plt.yscale('log')\n",
    "    plt.ylabel('Cantidad \\n total nacional por bin de AR$ 5000')\n",
    "    plt.xlabel(titulo)\n",
    "\n",
    "    plt.show()"
   ]
  },
  {
   "cell_type": "code",
   "execution_count": 135,
   "metadata": {
    "hideCode": false,
    "hidePrompt": false
   },
   "outputs": [
    {
     "data": {
      "image/png": "[encoded data removed]",
      "text/plain": [
       "<Figure size 936x432 with 1 Axes>"
      ]
     },
     "metadata": {},
     "output_type": "display_data"
    }
   ],
   "source": [
    "import numpy as np\n",
    "from matplotlib.ticker import EngFormatter\n",
    "\n",
    "plot_dist(data.groupby('HOGAR_REF_ID').first().reset_index(), variable = 'P47T_hogar', xmin = 0, \n",
    "          titulo = 'Ingreso del hogar (AR$ 2019 Q4)')\n",
    "\n",
    "# plot_dist(data.loc[(data['P03'] > 24) & (data['P03'] > 34)], variable = 'P47T_persona', xmin = 0, \n",
    "#           titulo = 'Ingreso del hogar (AR$ 2019 Q4)')"
   ]
  },
  {
   "cell_type": "markdown",
   "metadata": {
    "hideCode": false,
    "hidePrompt": false
   },
   "source": [
    "## Lineas de Pobreza e indigencia"
   ]
  },
  {
   "cell_type": "markdown",
   "metadata": {
    "hideCode": false,
    "hidePrompt": false
   },
   "source": [
    "#### Total Pais"
   ]
  },
  {
   "cell_type": "code",
   "execution_count": 136,
   "metadata": {
    "hideCode": false,
    "hidePrompt": false
   },
   "outputs": [],
   "source": [
    "from IPython.display import display, HTML\n",
    "# def pretty_print(df):\n",
    "#     return display(HTML(df.to_html().replace(\"\\\\n\",\"<br>\")))\n",
    "\n",
    "def pd_centered(df):\n",
    "    return df.style.set_table_styles([\n",
    "        {\"selector\": \"th\", \"props\": [(\"text-align\", \"center\")]},\n",
    "        {\"selector\": \"td\", \"props\": [(\"text-align\", \"center\")]}])"
   ]
  },
  {
   "cell_type": "code",
   "execution_count": 137,
   "metadata": {
    "hideCode": false,
    "hidePrompt": false
   },
   "outputs": [],
   "source": [
    "# tabla_semestral = pd.read_csv('./../data/info/tabla_semestral.csv', index_col=0, header = [0, 1])\n",
    "# table = tabla_semestral.drop(['PERSONA_REF_ID', 'CBA','CBT'], axis = 1)\n",
    "# table = table.iloc[:, table.columns.get_level_values(1) != 'sum']\n",
    "# table.index = pd.to_datetime(table.index, infer_datetime_format=True)\n",
    "# table.index = table.index.to_period(\"6M\")\n",
    "\n",
    "# table[('Pobreza', 'mean')] = 100*table[('Pobreza', 'mean')]\n",
    "# table[('Indigencia', 'mean')] = 100*table[('Indigencia', 'mean')]\n",
    "\n",
    "# table.columns = pd.Index([('Ingreso Persona', 'promedio'), ('Ingreso Persona', 'mediana'),\n",
    "#                 ('Ingreso Hogar', 'promedio'), ('Ingreso Hogar', 'mediana'),\n",
    "#                 ('Ingreso Hogar sobre linea de pobreza', 'promedio'), ('Ingreso Hogar sobre linea de pobreza', 'mediana'),\n",
    "#                 ('Pobreza (personas)', '%'), ('Indigencia (personas)', '%')])\n",
    "\n",
    "# pd_centered(table.round({('Ingreso Persona', 'promedio'): -2, ('Ingreso Persona', 'mediana'): -2,\n",
    "#                 ('Ingreso Hogar', 'promedio'): -2, ('Ingreso Hogar', 'mediana'): -2,\n",
    "#                 ('Ingreso Hogar sobre linea de pobreza', 'promedio'): -2, ('Ingreso Hogar sobre linea de pobreza', 'mediana'): -2,\n",
    "#                 ('Pobreza (personas)', '%'): 1, ('Indigencia (personas)', '%'): 1}))"
   ]
  },
  {
   "cell_type": "markdown",
   "metadata": {
    "hideCode": false,
    "hidePrompt": false
   },
   "source": [
    "\\* En este cuadro, el calculo de ingresos medios incluye a toda la poblacion, tambien menores e inactivos.\n",
    "\n",
    "\n",
    "\n",
    "## 'Linea de Pobreza'\n",
    "\n",
    "Para este paso, se aplican la regla sugerida por INDEC de pobreza monetaria. \n",
    "\n",
    "**De donde sale***\n",
    "\n",
    "Involucra usar un numero cercano a 2.5 que viene de la encuesta de Gastos de Hogares (ENGHO).\n",
    "Es decir, esta es una linea de ~2.5 Canastas alimentarias. Este es un punto crucial ya que afecta el numerito final de resultado que vamos a tener. Los valores precisos van a estar en el apendix pero seria bueno tambien un calculo menos vulnerable al control. \n",
    "La canasta alimentaria al poder ser biologicamente establecida y con algunos estimadores economicos sencillos (cuanto cuesta comer lo necesario) es mas transparente. Tambien se presta a ser comparada en reglas internacionales, es decir sugerencias de valores PPP que representan un nivel medido de alimentacion.\n",
    "\n",
    "***Como se calcula***\n",
    " - Se usan los 10 trimestres disponibles para entrenar. \n",
    " - Los resultados del algoritmo de prediccion son ingresos de personas y hogares.\n",
    " - Nos permite predecir un output complicado, como puede ser una condicion en la ecuacion del hogar.\n",
    " - Aprovechamos que los ponderamientos se pueden lograr sampleando al azar de una muestra comprensiva (Censo 2010).\n",
    " - Se usan las proyecciones poblacionales por departamento (INDEC)\n",
    " - Todos los valores en pesos de 2019-Q4. Conviene deflactar mensualmente. \n",
    " - Se usa promedio simple. En alta inflacion da cierto bias. Aunque igualmente, tambien nosotros perdemos idea de cuanto valia el peso en ese momento.\n",
    " \n",
    " "
   ]
  },
  {
   "cell_type": "code",
   "execution_count": 138,
   "metadata": {
    "hideCode": false,
    "hidePrompt": false
   },
   "outputs": [
    {
     "data": {
      "image/png": "[encoded data removed]",
      "text/plain": [
       "<Figure size 936x432 with 1 Axes>"
      ]
     },
     "metadata": {},
     "output_type": "display_data"
    }
   ],
   "source": [
    "plot_dist(data, variable = 'gap_pobreza', xmin = -50000,\n",
    "          titulo = 'Ingreso del hogar por sobre Canasta Total \\n \"Linea de pobreza\" \\n (AR$ 2019 Q4)')"
   ]
  },
  {
   "cell_type": "markdown",
   "metadata": {
    "hideCode": false,
    "hidePrompt": false
   },
   "source": [
    "***La linea de la canasta alimentaria***"
   ]
  },
  {
   "cell_type": "code",
   "execution_count": 139,
   "metadata": {
    "hideCode": false,
    "hidePrompt": false
   },
   "outputs": [
    {
     "data": {
      "image/png": "[encoded data removed]",
      "text/plain": [
       "<Figure size 936x432 with 1 Axes>"
      ]
     },
     "metadata": {},
     "output_type": "display_data"
    }
   ],
   "source": [
    "plot_dist(data, variable = 'gap_indigencia', xmin = -25000,\n",
    "          titulo = 'Ingreso del hogar por sobre Canasta Alimentaria \\n \"Linea de indigencia\" \\n (AR$ 2019 Q4)')\n"
   ]
  },
  {
   "cell_type": "markdown",
   "metadata": {
    "hideCode": false,
    "hidePrompt": false
   },
   "source": [
    "\n",
    "Una vez que se hacen predicciones de ingresos y se calcula la 'Canasta Basica Alimentaria' de las personas de los hogares, calculamos la ecuacion en cada uno de los hogares y agregamos los resultados.\n",
    "\n",
    "Esto nos deja ver una estructura detallada de la población de hogares que no llega pagar la canasta básica alimentaria de sus integrantes."
   ]
  },
  {
   "cell_type": "markdown",
   "metadata": {
    "hideCode": false,
    "hidePrompt": false
   },
   "source": [
    "#### Canastas alimentaria y total, vs ingreso medio individual y de hogar.\n",
    "\n",
    "Precios constantes de 2019-Q4. Los costos de canastas definidos post intervencion de 2016 se extienden hacia atras hasta 2003 para todos los calculos de pobreza."
   ]
  },
  {
   "cell_type": "code",
   "execution_count": null,
   "metadata": {
    "hideCode": false,
    "hidePrompt": false
   },
   "outputs": [],
   "source": [
    "# tabla_semestral_AGLOS = pd.read_csv('./../data/info/tabla_semestral_AGLOS.csv', index_col=0, header = [0, 1])\n",
    "# table = tabla_semestral_AGLOS.drop(['PERSONA_REF_ID', 'CBA','CBT'], axis = 1)\n",
    "# table = table.iloc[:, table.columns.get_level_values(1) != 'sum']\n",
    "# table.index = pd.to_datetime(table.index, infer_datetime_format=True)\n",
    "# table.index = table.index.to_period(\"6M\")\n",
    "\n",
    "# table[('Pobreza', 'mean')] = 100*table[('Pobreza', 'mean')]\n",
    "# table[('Indigencia', 'mean')] = 100*table[('Indigencia', 'mean')]\n",
    "\n",
    "# table.columns = pd.Index([('Ingreso Persona', 'promedio'), ('Ingreso Persona', 'mediana'),\n",
    "#                 ('Ingreso Hogar', 'promedio'), ('Ingreso Hogar', 'mediana'),\n",
    "#                 ('Ingreso Hogar sobre linea de pobreza', 'promedio'), ('Ingreso Hogar sobre linea de pobreza', 'mediana'),\n",
    "#                 ('Pobreza (personas)', '%'), ('Indigencia (personas)', '%')])\n",
    "\n",
    "# pd_centered(table.round({('Ingreso Persona', 'promedio'): -2, ('Ingreso Persona', 'mediana'): -2,\n",
    "#                 ('Ingreso Hogar', 'promedio'): -2, ('Ingreso Hogar', 'mediana'): -2,\n",
    "#                 ('Ingreso Hogar sobre linea de pobreza', 'promedio'): -2, ('Ingreso Hogar sobre linea de pobreza', 'mediana'): -2,\n",
    "#                 ('Pobreza (personas)', '%'): 1, ('Indigencia (personas)', '%'): 1}))"
   ]
  },
  {
   "cell_type": "code",
   "execution_count": 140,
   "metadata": {
    "hideCode": false,
    "hidePrompt": false
   },
   "outputs": [],
   "source": [
    "cuadro5 = pd.read_csv('./../data/cuadros/cuadro4_'+str(frac)+'_ARG', index_col=[0, 1], header = [0, 1, 2])\n",
    "df = cuadro5.iloc[:, cuadro5.columns.get_level_values(0).isin(['CBA', 'CBT', 'P47T_hogar', 'P47T_persona', 'gap', ])\n",
    "                 & cuadro5.columns.get_level_values(1).isin(['median', ])]\n",
    "\n",
    "# Leave just time as index\n",
    "df = df.unstack()\n",
    "\n",
    "df.index = pd.DatetimeIndex(df.index)\n",
    "\n",
    "# Rolling 4 trimestres de interpolado\n",
    "df = df.resample('Q').mean().interpolate()\n",
    "\n",
    "show = df.groupby(pd.Grouper(level = 0, freq = 'Y')).mean()\n",
    "show.columns = show.columns.droplevel([1, 3])\n",
    "show.columns = [('Canasta basica', 'alimentaria'), ('Canasta basica', 'total'), \n",
    "                ('Ingreso medio', 'hogar'), ('Ingreso medio', 'persona'),\n",
    "                ('Brecha de hogares', 'todos'), ('Brecha de hogares', 'en pobreza')]\n",
    "show.index = range(startyr, endyr)\n",
    "\n",
    "# pd_centered(myround(show, 100).astype(int))"
   ]
  },
  {
   "cell_type": "code",
   "execution_count": 141,
   "metadata": {},
   "outputs": [
    {
     "data": {
      "image/png": "[encoded data removed]",
      "text/plain": [
       "<Figure size 576x360 with 1 Axes>"
      ]
     },
     "metadata": {},
     "output_type": "display_data"
    }
   ],
   "source": [
    "fig, ax = plt.subplots(figsize = (8, 5))\n",
    "show.iloc[:, :4].plot(ax = ax, marker = '.')\n",
    "plt.ylim(0, 6e4)\n",
    "plt.xlim(2002, 2020)\n",
    "ax.legend(loc = (1, .7))\n",
    "plt.show()"
   ]
  },
  {
   "cell_type": "markdown",
   "metadata": {
    "hideCode": false,
    "hidePrompt": false
   },
   "source": [
    "## Variacion regional"
   ]
  },
  {
   "cell_type": "code",
   "execution_count": 146,
   "metadata": {
    "hideCode": false,
    "hidePrompt": false
   },
   "outputs": [],
   "source": [
    "# #JIC\n",
    "\n",
    "# import pandas as pd\n",
    "# import matplotlib.pyplot as plt\n",
    "# %matplotlib inline\n",
    "# import seaborn as sns\n",
    "\n",
    "# import numpy as np\n",
    "\n",
    "# from IPython.display import Markdown as md\n",
    "\n",
    "# import numpy as np\n",
    "# from matplotlib.ticker import EngFormatter\n",
    "\n",
    "data = pd.read_csv('./../data/Pobreza/pobreza_'+str(frac)+'_2018_2021.csv')\n",
    "data['Grupo Etario'] = pd.cut(data.P03, np.arange(-1, 80, 3))#.round(-1) ## Customizar grupo etario\n",
    "\n",
    "# data.nunique()\n",
    "\n",
    "aglo_labels = pd.read_csv('./../data/info/aglo_labels.csv')[['AGLOMERADO', 'NOMAGLO']]\n",
    "radio_ref = pd.read_csv('./../data/info/radio_ref.csv').merge(aglo_labels)\n",
    "dpto_region = pd.read_csv('./../data/info/DPTO_PROV_Region.csv')\n",
    "radio_ref = radio_ref.merge(dpto_region)"
   ]
  },
  {
   "cell_type": "code",
   "execution_count": 147,
   "metadata": {
    "hideCode": false,
    "hidePrompt": false
   },
   "outputs": [],
   "source": [
    "### Matriz que da origen a las barritas de abajo.\n",
    "\n",
    "data_hogares = data.groupby('HOGAR_REF_ID').first()\n",
    "data_hogares = data_hogares.merge(radio_ref[['RADIO_REF_ID', 'Region', 'NOMPROV', 'NOMAGLO']].drop_duplicates())\n",
    "data_hogares['Region'] = data_hogares['Region'].str.replace('Gran Buenos Aires', 'AMBA')\n",
    "data_hogares['pctil'], bins_hogares = pd.qcut(data_hogares.P47T_hogar, 15, retbins=True)\n",
    "\n",
    "df = data_hogares.groupby(['Region', 'pctil'])[['P47T_hogar']].count().unstack()\n",
    "# df = df.div(df.sum(1), 0)#.round(3)\n",
    "\n",
    "df_CABA = data_hogares.groupby(['NOMPROV', 'pctil'])[['P47T_hogar']].count().unstack().loc[['Ciudad Autónoma de Buenos Aires']]\n",
    "# df_CABA = df_CABA.div(df_CABA.sum(1), 0)\n",
    "\n",
    "df_GBA = data_hogares.groupby(['NOMAGLO', 'pctil'])[['P47T_hogar']].count().unstack().loc[['GBA']]\n",
    "# df_GBA = df_GBA.div(df_GBA.sum(1), 0)\n",
    "\n",
    "df = pd.concat([df_CABA, df_GBA, df])\n",
    "\n",
    "df = df.reindex(['Noroeste', 'Noreste','Ciudad Autónoma de Buenos Aires', 'GBA', 'Cuyo', 'Pampeana', 'Patagónica'])"
   ]
  },
  {
   "cell_type": "code",
   "execution_count": 148,
   "metadata": {
    "hideCode": false,
    "hidePrompt": false
   },
   "outputs": [],
   "source": [
    "tot_reg = data_hogares.groupby('Region').count().iloc[:, 0]/frac/yrs_pob_data\n",
    "totprovs = data_hogares.groupby('NOMPROV').count().iloc[:, 0]/frac/yrs_pob_data\n",
    "totaglos = data_hogares.groupby('NOMAGLO').count().iloc[:, 0]/frac/yrs_pob_data\n",
    "\n",
    "tot_hogares = pd.concat([tot_reg, totprovs, totaglos])"
   ]
  },
  {
   "cell_type": "code",
   "execution_count": null,
   "metadata": {},
   "outputs": [],
   "source": [
    "import geopandas as gpd\n",
    "# Puede que tenga que instalar el modulo geopandas"
   ]
  },
  {
   "cell_type": "code",
   "execution_count": 149,
   "metadata": {
    "hideCode": false,
    "hidePrompt": false
   },
   "outputs": [
    {
     "ename": "ModuleNotFoundError",
     "evalue": "No module named 'geopandas'",
     "output_type": "error",
     "traceback": [
      "\u001b[1;31m---------------------------------------------------------------------------\u001b[0m",
      "\u001b[1;31mModuleNotFoundError\u001b[0m                       Traceback (most recent call last)",
      "\u001b[1;32m<ipython-input-149-b15172d08e00>\u001b[0m in \u001b[0;36m<module>\u001b[1;34m\u001b[0m\n\u001b[0;32m      1\u001b[0m \u001b[1;31m# Preparar gdf de pobreza por provincias\u001b[0m\u001b[1;33m\u001b[0m\u001b[1;33m\u001b[0m\u001b[1;33m\u001b[0m\u001b[0m\n\u001b[0;32m      2\u001b[0m \u001b[1;33m\u001b[0m\u001b[0m\n\u001b[1;32m----> 3\u001b[1;33m \u001b[1;32mimport\u001b[0m \u001b[0mgeopandas\u001b[0m \u001b[1;32mas\u001b[0m \u001b[0mgpd\u001b[0m\u001b[1;33m\u001b[0m\u001b[1;33m\u001b[0m\u001b[0m\n\u001b[0m\u001b[0;32m      4\u001b[0m \u001b[0mdptos_gdf\u001b[0m \u001b[1;33m=\u001b[0m \u001b[0mgpd\u001b[0m\u001b[1;33m.\u001b[0m\u001b[0mread_file\u001b[0m\u001b[1;33m(\u001b[0m\u001b[1;34m'./../../Documents/censo_geo/pxdptodatosok.shp'\u001b[0m\u001b[1;33m)\u001b[0m\u001b[1;33m.\u001b[0m\u001b[0mdrop\u001b[0m\u001b[1;33m(\u001b[0m\u001b[1;33m[\u001b[0m\u001b[1;36m439\u001b[0m\u001b[1;33m]\u001b[0m\u001b[1;33m)\u001b[0m\u001b[1;33m\u001b[0m\u001b[1;33m\u001b[0m\u001b[0m\n\u001b[0;32m      5\u001b[0m \u001b[0mdptos_gdf\u001b[0m\u001b[1;33m.\u001b[0m\u001b[0mcrs\u001b[0m \u001b[1;33m=\u001b[0m \u001b[1;33m{\u001b[0m\u001b[1;34m'init'\u001b[0m\u001b[1;33m:\u001b[0m \u001b[1;34m'epsg:4326'\u001b[0m\u001b[1;33m}\u001b[0m \u001b[1;31m#latlong\u001b[0m\u001b[1;33m\u001b[0m\u001b[1;33m\u001b[0m\u001b[0m\n",
      "\u001b[1;31mModuleNotFoundError\u001b[0m: No module named 'geopandas'"
     ]
    }
   ],
   "source": [
    "# Preparar gdf de pobreza por provincias\n",
    "\n",
    "dptos_gdf = gpd.read_file('./../../Documents/censo_geo/pxdptodatosok.shp').drop([439])\n",
    "dptos_gdf.crs = {'init': 'epsg:4326'} #latlong\n",
    "dptos_gdf = dptos_gdf.to_crs({'init': 'epsg:3395'}) #lo dejamos en metrico"
   ]
  },
  {
   "cell_type": "code",
   "execution_count": null,
   "metadata": {},
   "outputs": [],
   "source": [
    "provs_gdf = dptos_gdf[['codpcia', 'geometry']].dissolve('codpcia')\n",
    "provs_gdf.index = provs_gdf.index.astype(int)\n",
    "\n",
    "pob_prov = data.groupby('PROV')[['Pobreza']].mean()\n",
    "ingreso_mediano = data.loc[data.P03 > 24].groupby('PROV')[['P47T_persona', 'P47T_hogar']].median()\n",
    "nomprovs = radio_ref[['PROV', 'NOMPROV', 'Region']].drop_duplicates().set_index('PROV')\n",
    "\n",
    "provs_gdf = gpd.GeoDataFrame(pd.concat([nomprovs, ingreso_mediano, pob_prov, provs_gdf], axis = 1))\n",
    "\n",
    "fancy_crs = {u'lat_0': -35,\n",
    " u'lon_0': -65,\n",
    " u'no_defs': True,\n",
    " u'proj': u'ortho',\n",
    " u'units': u'm',\n",
    " u'x_0': -65,\n",
    " u'y_0': -35,\n",
    " u'a' : 6371000, \n",
    " u'b' : 6371000}\n",
    "provs_gdf.crs = {'init': 'epsg:3395'}\n",
    "provs_gdf = provs_gdf.to_crs({'init': 'epsg:4326'})\n",
    "provs_gdf = provs_gdf.to_crs(fancy_crs)"
   ]
  },
  {
   "cell_type": "markdown",
   "metadata": {
    "hideCode": false,
    "hidePrompt": false
   },
   "source": [
    "El cuadro de deciles de ingreso muestra valores nacionales. Sin embargo ¿Cómo se distribuyen las poblaciones regionales entre estos grupos de ingreso?\n"
   ]
  },
  {
   "cell_type": "code",
   "execution_count": null,
   "metadata": {},
   "outputs": [],
   "source": [
    "lugar + '.\\n '+str('{:,}'.format(int(np.round(tot_hogares.loc[lugar], -3))).replace(',', '.'))+' hogares.'"
   ]
  },
  {
   "cell_type": "code",
   "execution_count": null,
   "metadata": {},
   "outputs": [],
   "source": [
    "str('{:,}'.format(int(np.round(tot_hogares.loc[lugar], -3))).replace(',', '.'))"
   ]
  },
  {
   "cell_type": "code",
   "execution_count": null,
   "metadata": {},
   "outputs": [],
   "source": []
  },
  {
   "cell_type": "code",
   "execution_count": 143,
   "metadata": {
    "hideCode": false,
    "hidePrompt": false
   },
   "outputs": [
    {
     "ename": "TypeError",
     "evalue": "unsupported operand type(s) for +: 'Timestamp' and 'str'",
     "output_type": "error",
     "traceback": [
      "\u001b[1;31m---------------------------------------------------------------------------\u001b[0m",
      "\u001b[1;31mTypeError\u001b[0m                                 Traceback (most recent call last)",
      "\u001b[1;32m<ipython-input-143-f315746ee30c>\u001b[0m in \u001b[0;36m<module>\u001b[1;34m\u001b[0m\n\u001b[0;32m      9\u001b[0m     \u001b[1;33m(\u001b[0m\u001b[0mdf\u001b[0m\u001b[1;33m.\u001b[0m\u001b[0miloc\u001b[0m\u001b[1;33m[\u001b[0m\u001b[0mi\u001b[0m\u001b[1;33m]\u001b[0m\u001b[1;33m/\u001b[0m\u001b[0myrs_pob_data\u001b[0m\u001b[1;33m)\u001b[0m\u001b[1;33m.\u001b[0m\u001b[0mplot\u001b[0m\u001b[1;33m(\u001b[0m\u001b[0mkind\u001b[0m \u001b[1;33m=\u001b[0m \u001b[1;34m'bar'\u001b[0m\u001b[1;33m,\u001b[0m \u001b[0max\u001b[0m \u001b[1;33m=\u001b[0m \u001b[0max\u001b[0m\u001b[1;33m,\u001b[0m \u001b[0mwidth\u001b[0m \u001b[1;33m=\u001b[0m \u001b[1;36m.9\u001b[0m\u001b[1;33m,\u001b[0m \u001b[0mcolor\u001b[0m \u001b[1;33m=\u001b[0m \u001b[0msns\u001b[0m\u001b[1;33m.\u001b[0m\u001b[0mcolor_palette\u001b[0m\u001b[1;33m(\u001b[0m\u001b[1;34m\"RdYlGn\"\u001b[0m\u001b[1;33m,\u001b[0m \u001b[1;36m15\u001b[0m\u001b[1;33m)\u001b[0m\u001b[1;33m,\u001b[0m \u001b[0malpha\u001b[0m \u001b[1;33m=\u001b[0m \u001b[1;36m.8\u001b[0m\u001b[1;33m)\u001b[0m\u001b[1;31m# colormap = 'RdYlGn')\u001b[0m\u001b[1;33m\u001b[0m\u001b[1;33m\u001b[0m\u001b[0m\n\u001b[0;32m     10\u001b[0m     \u001b[0mlugar\u001b[0m \u001b[1;33m=\u001b[0m \u001b[0mdf\u001b[0m\u001b[1;33m.\u001b[0m\u001b[0mindex\u001b[0m\u001b[1;33m[\u001b[0m\u001b[0mi\u001b[0m\u001b[1;33m]\u001b[0m\u001b[1;33m\u001b[0m\u001b[1;33m\u001b[0m\u001b[0m\n\u001b[1;32m---> 11\u001b[1;33m     \u001b[0max\u001b[0m\u001b[1;33m.\u001b[0m\u001b[0mset_title\u001b[0m\u001b[1;33m(\u001b[0m\u001b[0mlugar\u001b[0m \u001b[1;33m+\u001b[0m \u001b[1;34m'.\\n '\u001b[0m\u001b[1;33m+\u001b[0m\u001b[0mstr\u001b[0m\u001b[1;33m(\u001b[0m\u001b[1;34m'{:,}'\u001b[0m\u001b[1;33m.\u001b[0m\u001b[0mformat\u001b[0m\u001b[1;33m(\u001b[0m\u001b[0mint\u001b[0m\u001b[1;33m(\u001b[0m\u001b[0mnp\u001b[0m\u001b[1;33m.\u001b[0m\u001b[0mround\u001b[0m\u001b[1;33m(\u001b[0m\u001b[0mtot_hogares\u001b[0m\u001b[1;33m.\u001b[0m\u001b[0mloc\u001b[0m\u001b[1;33m[\u001b[0m\u001b[0mlugar\u001b[0m\u001b[1;33m]\u001b[0m\u001b[1;33m,\u001b[0m \u001b[1;33m-\u001b[0m\u001b[1;36m3\u001b[0m\u001b[1;33m)\u001b[0m\u001b[1;33m)\u001b[0m\u001b[1;33m)\u001b[0m\u001b[1;33m.\u001b[0m\u001b[0mreplace\u001b[0m\u001b[1;33m(\u001b[0m\u001b[1;34m','\u001b[0m\u001b[1;33m,\u001b[0m \u001b[1;34m'.'\u001b[0m\u001b[1;33m)\u001b[0m\u001b[1;33m)\u001b[0m\u001b[1;33m+\u001b[0m\u001b[1;34m' hogares.'\u001b[0m\u001b[1;33m)\u001b[0m\u001b[1;33m\u001b[0m\u001b[1;33m\u001b[0m\u001b[0m\n\u001b[0m\u001b[0;32m     12\u001b[0m     \u001b[0max\u001b[0m\u001b[1;33m.\u001b[0m\u001b[0mset_xlabel\u001b[0m\u001b[1;33m(\u001b[0m\u001b[1;34m'Percentiles nacionales de ingreso'\u001b[0m\u001b[1;33m,\u001b[0m \u001b[0mfontsize\u001b[0m \u001b[1;33m=\u001b[0m \u001b[1;36m10\u001b[0m\u001b[1;33m)\u001b[0m\u001b[1;33m\u001b[0m\u001b[1;33m\u001b[0m\u001b[0m\n\u001b[0;32m     13\u001b[0m     \u001b[0max\u001b[0m\u001b[1;33m.\u001b[0m\u001b[0mset_ylim\u001b[0m\u001b[1;33m(\u001b[0m\u001b[1;36m0\u001b[0m\u001b[1;33m,\u001b[0m \u001b[1;36m13000\u001b[0m\u001b[1;33m)\u001b[0m\u001b[1;33m\u001b[0m\u001b[1;33m\u001b[0m\u001b[0m\n",
      "\u001b[1;31mTypeError\u001b[0m: unsupported operand type(s) for +: 'Timestamp' and 'str'"
     ]
    },
    {
     "data": {
      "image/png": "[encoded data removed]",
      "text/plain": [
       "<Figure size 1152x1080 with 1 Axes>"
      ]
     },
     "metadata": {},
     "output_type": "display_data"
    }
   ],
   "source": [
    "import matplotlib.gridspec as gridspec\n",
    "\n",
    "fig = plt.figure(constrained_layout=True, figsize = (16, 15))\n",
    "spec = gridspec.GridSpec(ncols=2, nrows=len(df), figure=fig)\n",
    "\n",
    "for i in range(len(df)):\n",
    "#     ax = axs[i]\n",
    "    ax = fig.add_subplot(spec[i, 0])\n",
    "    (df.iloc[i]/yrs_pob_data).plot(kind = 'bar', ax = ax, width = .9, color = sns.color_palette(\"RdYlGn\", 15), alpha = .8)# colormap = 'RdYlGn')\n",
    "    lugar = df.index[i]\n",
    "    ax.set_title(lugar + '.\\n '+str('{:,}'.format(int(np.round(tot_hogares.loc[lugar], -3))).replace(',', '.'))+' hogares.')\n",
    "    ax.set_xlabel('Percentiles nacionales de ingreso', fontsize = 10)\n",
    "    ax.set_ylim(0, 13000)\n",
    "    ax.axis('off')\n",
    "    plt.subplots_adjust(hspace = 0.85)\n",
    "    \n",
    "\n",
    "ax = fig.add_subplot(spec[:, 1])\n",
    "# provs_gdf.plot(column = 'P47T_persona', ax = ax, vmin = 10000, vmax = 35000, cmap = 'RdYlGn')\n",
    "provs_gdf.plot(column = 'Pobreza', ax = ax, vmin = 0, vmax = .66, cmap = 'RdYlGn_r')\n",
    "\n",
    "# Encuadre ARG\n",
    "# ax.set_xlim(-8300000, -5750000)\n",
    "# ax.set_ylim(-7450000, -2400000)\n",
    "ax.set_xlim(-.75e6, 1.25e6)\n",
    "ax.set_ylim(-2.3e6, 1.6e6)\n",
    "\n",
    "# ax.set_xlabel('A')\n",
    "ax.axis('off')\n",
    "\n",
    "for i, row in provs_gdf.drop([90, 66]).iterrows():\n",
    "    x = row.geometry.centroid.x\n",
    "    y = row.geometry.centroid.y\n",
    "    ingreso_mediano = '$'+str(int(myround(row.P47T_persona,500)))\n",
    "    pobreza = str(int(round(100*row.Pobreza)))+'%'\n",
    "#     ax.scatter(x, y, marker='x', color='red')\n",
    "    ax.text(x, y + 40000, row.NOMPROV, fontsize=9, color = '.1', horizontalalignment = 'center')\n",
    "    ax.text(x, y - 25000, pobreza, fontsize=11, color = '.1', horizontalalignment = 'center')\n",
    "    ax.text(x, y - 70000, ingreso_mediano, fontsize=11, color = '.1', horizontalalignment = 'center')\n",
    "\n",
    "\n",
    "# # regs_gdf.plot(color = 'None', edgecolor = 'k', ax = ax) Revisar\n",
    "plt.title('Provincias.\\n Personas en pobreza (%) \\n ingreso mediano (mayores de 24)')\n",
    "plt.show()\n",
    "\n",
    "# fig.colorbar(im, ax=ax, orientation=\"horizontal\")\n",
    "# divider = make_axes_locatable(ax)\n",
    "# cax = divider.new_vertical(size=\"5%\", pad=0.7, pack_start=True)\n",
    "# fig.add_axes(cax)\n",
    "# fig.colorbar(im, cax=cax, orientation=\"horizontal\")\n",
    "\n",
    "# El error en ingreso medio por provincia esta en los 500 a 1000 pe\n",
    "# En la cifra de pobreza el error es de 1%"
   ]
  },
  {
   "cell_type": "code",
   "execution_count": null,
   "metadata": {
    "hideCode": false,
    "hidePrompt": false
   },
   "outputs": [],
   "source": [
    "\n",
    "dptos_gdf = gpd.read_file('./../../Documents/censo_geo/pxdptodatosok.shp').drop([439])\n",
    "dptos_gdf['personas'] = pd.to_numeric(dptos_gdf['personas'])\n",
    "\n",
    "data['link'] = data['DPTO'].astype(str).str.zfill(5)\n",
    "\n",
    "pob_dpto = data.groupby('link')[['Pobreza']].mean().reset_index()\n",
    "\n",
    "pob_dpto_gdf = gpd.GeoDataFrame(pob_dpto.merge(dptos_gdf))\n",
    "# data.groupby('DPTO').count().iloc[:, 0].sort_values(ascending = False).head(10)\n",
    "\n",
    "# pob_dpto_gdf.loc[pob_dpto_gdf.personas < 3000, 'Pobreza'] = np.nan\n",
    "# pob_dpto_gdf = pob_dpto_gdf.fillna(pob_dpto_gdf.Pobreza.median())\n",
    "# gdf = pob_dpto_gdf#.plot(column = 'Pobreza')\n",
    "\n",
    "# fig, ax = plt.subplots(1, figsize = (6, 14))\n",
    "# gdf.crs = {'init': 'epsg:4326'}\n",
    "# gdf.to_crs({'init': 'epsg:3395'}).fillna(0).plot(column = 'Pobreza', ax = ax, vmin = -.1, vmax = .66, cmap = 'RdYlGn_r')\n",
    "# plt.axis('off')\n",
    "# plt.show()"
   ]
  },
  {
   "cell_type": "markdown",
   "metadata": {
    "hideCode": false,
    "hidePrompt": false
   },
   "source": [
    "## Tamaño de la vivienda. Hacinamiento."
   ]
  },
  {
   "cell_type": "code",
   "execution_count": null,
   "metadata": {
    "hideCode": false,
    "hidePrompt": false
   },
   "outputs": [],
   "source": [
    "\n",
    "data = pd.read_csv('./../data/Pobreza/pobreza_'+str(frac)+'_2018_2021.csv')\n",
    "\n",
    "import numpy as np\n",
    "from matplotlib.ticker import EngFormatter\n",
    "# cat_cols = ['V01', 'H05', 'H06', 'H07', 'H08', 'H09', 'H10',\n",
    "#        'H11', 'H12', 'H13', 'H14', 'H15', 'H16', 'PROP',\n",
    "#        'P02', 'P05', 'P07', 'P08', 'P09', 'P10', 'CAT_OCUP',\n",
    "#        'CAT_INAC', 'CH07', 'PP07G1', 'PP07G2', 'PP07G3', 'PP07G4', 'PP07G_59',\n",
    "#        'PP07H', 'PP07I', 'PP07J', 'PP07K',\n",
    "#        'AGLOMERADO', 'CONDACT', 'Grupo Etario'] # IX_TOT\n",
    "# value_cols = 'P47T' #?\n",
    "\n",
    "data['IX_TOT'] = np.clip(data.IX_TOT, 0, 10)\n",
    "data['H15'] = np.clip(data.H15, 0, 9)\n",
    "\n",
    "cat_cols = ['IX_TOT', 'H16', 'H15']\n",
    "\n",
    "vn = pd.read_csv('./../data/info/VARIABLE_NAMES.csv')\n",
    "# vn['Pregunta'] = vn['Pregunta'].str.strip()#.str.replace(\"'\", \"\") Don't run\n",
    "# data = data.reset_index().rename(columns = {'index': 'PERSONA_REF_ID'}) # parche porque no esta la columna\n",
    "\n",
    "for cat in cat_cols:\n",
    "    fig, (ax1, ax2) = plt.subplots(1, 2, figsize = (15, 5))\n",
    "    info = data.groupby([cat, 'Pobreza'])[['PERSONA_REF_ID', 'HOGAR_REF_ID']].nunique()\n",
    "    info_pct = (100*(info.unstack()/info.unstack().sum()).stack())\n",
    "    \n",
    "    sns.barplot(x=cat, y=\"PERSONA_REF_ID\", hue=\"Pobreza\", data=(info/frac/yrs_pob_data).reset_index(), ax = ax1)\n",
    "    xlab = ''\n",
    "    try:\n",
    "        xlab = vn.loc[vn.Censo == cat]['Pregunta'].values[0]\n",
    "    except:\n",
    "        try:\n",
    "            xlab = vn.loc[vn.EPH == cat]['Pregunta'].values[0]\n",
    "        except:\n",
    "            pass\n",
    "    ax1.set(xlabel= xlab, ylabel = 'cant de PERSONAS')\n",
    "    ax1.yaxis.set_major_formatter(EngFormatter())\n",
    "    sns.barplot(x=cat, y=\"HOGAR_REF_ID\", hue=\"Pobreza\", data=(info/frac/yrs_pob_data).reset_index(), ax = ax2)\n",
    "    ax2.set(xlabel= xlab, ylabel = 'cant de HOGARES')\n",
    "    ax2.yaxis.set_major_formatter(EngFormatter())\n",
    "    plt.show()"
   ]
  },
  {
   "cell_type": "markdown",
   "metadata": {
    "hideCode": false,
    "hidePrompt": false
   },
   "source": [
    "## Pobreza por grupo etario"
   ]
  },
  {
   "cell_type": "code",
   "execution_count": null,
   "metadata": {
    "hideCode": false,
    "hidePrompt": false
   },
   "outputs": [],
   "source": [
    "# pd.cut(data.P03)"
   ]
  },
  {
   "cell_type": "code",
   "execution_count": null,
   "metadata": {
    "hideCode": false,
    "hidePrompt": false
   },
   "outputs": [],
   "source": [
    "data['Grupo Etario'] = pd.cut(data.P03, np.arange(0, 90, 3))\n",
    "\n",
    "cat = 'Grupo Etario'\n",
    "\n",
    "vn = pd.read_csv('./../data/info/VARIABLE_NAMES.csv')\n",
    "# vn['Pregunta'] = vn['Pregunta'].str.strip()#.str.replace(\"'\", \"\") Don't run\n",
    "\n",
    "fig, ax = plt.subplots(1, figsize = (15, 5))\n",
    "info = data.groupby([cat, 'Pobreza'])[['PERSONA_REF_ID']].nunique()\n",
    "sns.barplot(x=cat, y=\"PERSONA_REF_ID\", hue=\"Pobreza\", data=(info/frac/yrs_pob_data).reset_index(), ax = ax)\n",
    "xlab = ''\n",
    "ax.tick_params(axis='x', rotation=45)\n",
    "ax.yaxis.set_major_formatter(EngFormatter())\n",
    "ax.set(xlabel= xlab, ylabel = 'cant de PERSONAS')\n",
    "plt.show()"
   ]
  },
  {
   "cell_type": "code",
   "execution_count": null,
   "metadata": {
    "hideCode": false,
    "hidePrompt": false
   },
   "outputs": [],
   "source": []
  },
  {
   "cell_type": "code",
   "execution_count": null,
   "metadata": {
    "hideCode": false,
    "hidePrompt": false
   },
   "outputs": [],
   "source": [
    "# ## Upper tail\n",
    "\n",
    "# data['income_bin'] = pd.cut(np.log10(data['P47T_persona']).replace(-np.inf, 1), 100)\n",
    "\n",
    "# fig, ax = plt.subplots(1, figsize = (5, 6))\n",
    "\n",
    "# pdf_info = data.groupby('income_bin')['PERSONA_REF_ID'].count().reset_index()\n",
    "# pdf_info['PERSONA_REF_ID'] = pdf_info['PERSONA_REF_ID']/frac/yrs_pob_data\n",
    "\n",
    "# pdf_info['pdf'] = pdf_info['PERSONA_REF_ID']/pdf_info['PERSONA_REF_ID'].sum()\n",
    "# pdf_info['cdf'] = pdf_info['pdf'].cumsum()\n",
    "\n",
    "# np.log10(1 - pdf_info.iloc[60:85].set_index('income_bin')[['cdf']]).reset_index().plot(x = 'income_bin', y = 'cdf', marker = '.', ax = ax)\n",
    "# ax.tick_params(axis='x', rotation=45)\n",
    "\n",
    "# pdf_info.tail(20)"
   ]
  },
  {
   "cell_type": "markdown",
   "metadata": {
    "hideCode": false,
    "hidePrompt": false
   },
   "source": [
    "## Ingresos, pobreza e indigencia por niveles educativos\n",
    "\n",
    "En este cuadro, los ingresos medios, porcentaje de pobreza e indigencia segun nivel educativo."
   ]
  },
  {
   "cell_type": "code",
   "execution_count": null,
   "metadata": {
    "hideCode": false,
    "hidePrompt": false,
    "scrolled": false
   },
   "outputs": [],
   "source": [
    "cuadro = pd.read_csv('./../data/cuadros/cuadro3_'+str(frac)+'_ARG', index_col=[0, 1], header = [0, 1, 2])\n",
    "cuadro = cuadro.loc['2003':].drop(('P47T_persona', 'mean', 'Mayores de 24'), axis = 1)\n",
    "cuadro.columns = ['Indigencia (%)', 'Ingresos (mediana)', 'Pobreza (%)']\n",
    "cuadro = cuadro.unstack().mean().unstack().T\n",
    "\n",
    "cuadro = cuadro[['Ingresos (mediana)', 'Pobreza (%)', 'Indigencia (%)']]\n",
    "cuadro = cuadro.loc[[2, 20, 21, 40, 41, 60, 61, 70, 71, 80, 81]]\n",
    "\n",
    "data_sel = data[['P03','P0910']]\n",
    "counts = data_sel.loc[data_sel.P03 > 24]['P0910'].value_counts()\n",
    "counts_pct = (100*counts.loc[[2, 20, 21, 40, 41, 60, 61, 70, 71, 80, 81]]/counts.sum()).round(1)\n",
    "\n",
    "cuadro = pd.concat([cuadro, counts_pct], axis = 1)\n",
    "cuadro = cuadro.rename(columns = {'P0910':'Poblacion (%)'})\n",
    "cuadro.index = ['No asistió', 'Primaria', 'P. completa', 'Secundaria','S. completa', 'Terciario', 'T. completo', \n",
    "             'Universidad', 'U. completa', 'Postgrado', 'P. completo']\n",
    "\n",
    "cuadro = cuadro.round({'Ingresos (mediana)': -2, 'Pobreza (%)': 1, 'Indigencia (%)': 1, 'Poblacion (%)': 1})\n",
    "cuadro.style.bar(subset = ['Poblacion (%)'], vmin = 0)"
   ]
  },
  {
   "cell_type": "markdown",
   "metadata": {
    "hideCode": false,
    "hidePrompt": false
   },
   "source": [
    "*Mayores de 24 años"
   ]
  },
  {
   "cell_type": "markdown",
   "metadata": {
    "hideCode": false,
    "hidePrompt": false
   },
   "source": [
    "## Dependencia geografica\n",
    "### Porcentaje de personas en pobreza por departamento."
   ]
  },
  {
   "cell_type": "code",
   "execution_count": null,
   "metadata": {
    "hideCode": false,
    "hidePrompt": false
   },
   "outputs": [],
   "source": [
    "pob_frac = data.loc[data.PROV.isin([2, 6, 2])].groupby(['IDFRAC','DPTO'])[['Pobreza']].mean().reset_index()\n",
    "# pob_frac = data.loc[data.AGLOMERADO.isin([32])].groupby(['IDFRAC','DPTO'])[['Pobreza']].mean().reset_index()\n",
    "# pob_frac = data.loc[data.PROV.isin([82])].groupby(['IDFRAC','DPTO'])[['Pobreza']].mean().reset_index()\n",
    "# pob_frac = data.loc[data.AGLOMERADO.isin([25])].groupby(['IDFRAC','DPTO'])[['Pobreza']].mean().reset_index()\n",
    "\n",
    "frac_gdf = gpd.read_file('./../../Documents/censo_geo/pxfracdatosok.shp', )\n",
    "pob_gdf = gpd.GeoDataFrame(pob_frac.merge(frac_gdf), crs = {'init': 'epsg:4326'})\n",
    "# frac_gdf['personas'] = pd.to_numeric(frac_gdf['personas'])\n",
    "\n",
    "# Fill na with median. Esp for areas of little pop.\n",
    "# # data.groupby('DPTO').count().iloc[:, 0].sort_values(ascending = False).head(10)\n",
    "# pob_gdf.loc[pob_gdf.personas < 3000, 'Pobreza'] = np.nan\n",
    "# pob_gdf = pob_gdf.fillna(pob_dpto_gdf.Pobreza.median())\n",
    "\n",
    "gdf = pob_gdf#.plot(column = 'Pobreza')\n",
    "\n",
    "fig, ax = plt.subplots(1, figsize = (25, 20))\n",
    "dptos_gdf.loc[dptos_gdf.codpcia.isin(['02', '06'])].to_crs({'init': 'epsg:3395'}).translate(yoff = 220, xoff = 30).plot(color = 'None', edgecolor = '.4', lw = .4, ax = ax, zorder = 10)\n",
    "dptos_gdf.loc[dptos_gdf.codpcia.isin(['02', '06'])].to_crs({'init': 'epsg:3395'}).translate(yoff = 0, xoff = 0).plot(color = 'None', edgecolor = 'w', lw = .4, ax = ax, zorder = 10)\n",
    "gdf.fillna(0).to_crs({'init': 'epsg:3395'}).plot(column = 'Pobreza', ax = ax, vmin = 0, vmax = .6, cmap = 'RdYlGn_r', lw = 0)\n",
    "plt.axis('off')\n",
    "# x1, y1, x2, y2 = tuple(gdf.fillna(0).to_crs({'init': 'epsg:3395'}).total_bounds)\n",
    "x1, y1, x2, y2 = (-6583053, -4171597, -6424188, -4005023)\n",
    "plt.xlim(x1, x2)\n",
    "plt.ylim(y1, y2)\n",
    "\n",
    "ejido = gpd.read_file('./../../Documents/censo_geo/ejidos/ejido_BA', driver='GeoJSON')\n",
    "ejido.loc[[1]].to_crs({'init': 'epsg:3395'}).plot(color = 'w', ax = ax)\n",
    "ejido\n",
    "plt.savefig(\"./mapa_portada.png\")\n",
    "plt.show()"
   ]
  },
  {
   "cell_type": "code",
   "execution_count": null,
   "metadata": {
    "hideCode": false,
    "hidePrompt": false
   },
   "outputs": [],
   "source": [
    "dptos_gdf = gpd.read_file('./../../Documents/censo_geo/pxdptodatosok.shp')\n",
    "dptos_gdf.crs = {'init': 'epsg:4326'} #latlong\n",
    "# dptos_gdf = dptos_gdf.to_crs({'init': 'epsg:3395'}) #lo dejamos en metrico\n",
    "dptos_gdf['personas'] = pd.to_numeric(dptos_gdf['personas'])\n",
    "dptos_gdf = dptos_gdf.to_crs(fancy_crs)\n",
    "\n",
    "data['link'] = data['DPTO'].astype(str).str.zfill(5)\n",
    "pob_dpto = data.groupby('link')[['Pobreza']].mean().reset_index()\n",
    "\n",
    "pob_dpto['link'] = pob_dpto.link.astype(float).astype(int).astype(str).str.zfill(5)\n",
    "pob_dpto_gdf = gpd.GeoDataFrame(pob_dpto.merge(dptos_gdf), crs = fancy_crs)\n",
    "# data.groupby('DPTO').count().iloc[:, 0].sort_values(ascending = False).head(10)\n",
    "\n",
    "pob_dpto_gdf.loc[pob_dpto_gdf.personas < 1300, 'Pobreza'] = np.nan\n",
    "pob_dpto_gdf = pob_dpto_gdf.fillna(pob_dpto_gdf.Pobreza.median())\n",
    "gdf = pob_dpto_gdf#.plot(column = 'Pobreza')\n"
   ]
  },
  {
   "cell_type": "code",
   "execution_count": null,
   "metadata": {
    "hideCode": false,
    "hidePrompt": false,
    "scrolled": false
   },
   "outputs": [],
   "source": [
    "import matplotlib.pyplot as plt\n",
    "%matplotlib inline\n",
    "import seaborn\n",
    "\n",
    "fig, ax = plt.subplots(1, figsize = (12, 20))\n",
    "gdf.fillna(0).plot(column = 'Pobreza', ax = ax, vmin = .1, vmax = .65, cmap = 'RdYlGn_r', lw = 0)\n",
    "\n",
    "provs_gdf.translate(yoff = 2200, xoff = 300).plot(color = 'None', edgecolor = '.4', lw = .4, ax = ax, zorder = 10)\n",
    "provs_gdf.translate().plot(color = 'None', edgecolor = 'w', lw = .4, ax = ax, zorder = 10)\n",
    "\n",
    "# # Encuadre ARG\n",
    "ax.set_xlim(-.75e6, 1.25e6)\n",
    "ax.set_ylim(-2.3e6, 1.6e6)\n",
    "# ax.set_xlim(-8300000, -5750000)\n",
    "# ax.set_ylim(-7450000, -2400000)\n",
    "plt.axis('off')\n",
    "plt.show()"
   ]
  },
  {
   "cell_type": "markdown",
   "metadata": {
    "hideCode": false,
    "hidePrompt": false
   },
   "source": [
    "### Porcentaje de personas en pobreza por fraccion censal.\n",
    "#### Ejido Urbano AMBA"
   ]
  },
  {
   "cell_type": "markdown",
   "metadata": {
    "hideCode": false,
    "hidePrompt": false
   },
   "source": [
    "# Dependencia Temporal"
   ]
  },
  {
   "cell_type": "code",
   "execution_count": null,
   "metadata": {
    "hideCode": false,
    "hidePrompt": false
   },
   "outputs": [],
   "source": [
    "# df = pd.read_csv('./../data/cuadros/cuadro_AGLO_si_Q_pct', index_col=[0, 1], header = [0, 1]).unstack(0, 1)\n",
    "# df.index = pd.DatetimeIndex(df.index, freq = 'Q')\n",
    "\n",
    "# df_ = df[['Indigencia', 'Pobreza']].groupby(pd.Grouper(level = 0, freq = '6MS')).mean().T\n",
    "# df_.index = pd.MultiIndex.from_tuples([(x[0], x[1], 'Aglomerados' if x[2] else 'Resto') for x in df_.index])\n",
    "# show = df_.copy()\n",
    "# show.columns = show.columns.to_period(\"6M\")\n",
    "# show"
   ]
  },
  {
   "cell_type": "markdown",
   "metadata": {
    "hideCode": false,
    "hidePrompt": false
   },
   "source": [
    "### Porcentajes, 10 provincias. (2018)"
   ]
  },
  {
   "cell_type": "code",
   "execution_count": null,
   "metadata": {
    "hideCode": false,
    "hidePrompt": false
   },
   "outputs": [],
   "source": [
    "cuadro2 = pd.read_csv('./../data/cuadros/cuadro1_'+str(frac)+'_ARG', index_col=[0, 1], header = [0, 1, 2])\n",
    "df = cuadro2.iloc[:, cuadro2.columns.get_level_values(0).isin(['Indigencia', 'Pobreza'])\n",
    "            & cuadro2.columns.get_level_values(2).isin(['Hogares', 'Personas'])\n",
    "                 & cuadro2.columns.get_level_values(1).isin(['mean'])]\n",
    "\n",
    "# Leave just time as index\n",
    "df = df.unstack()\n",
    "\n",
    "df.index = pd.DatetimeIndex(df.index)\n",
    "\n",
    "# Ultimo periodo\n",
    "x = df.loc['2018'].mean().unstack([3, 1])\n",
    "# x.columns = ['Fuera de aglomerados', 'Aglomerados']\n",
    "\n",
    "# myround(x, 20).astype(int)\n",
    "x.columns = x.columns.droplevel(1)\n",
    "display(x.T.reindex(x.T.sum(1).sort_values(ascending = False).index).round(1))\n",
    "\n",
    "# Rolling 4 trimestres de interpolado\n",
    "df = df.resample('Q').mean().interpolate()"
   ]
  },
  {
   "cell_type": "code",
   "execution_count": null,
   "metadata": {
    "hideCode": false,
    "hidePrompt": false,
    "scrolled": false
   },
   "outputs": [],
   "source": [
    "# # Niveles\n",
    "# show = df.groupby(pd.Grouper(level = 0, freq = 'Y')).mean()\n",
    "# show.columns = show.columns.droplevel(1)\n",
    "# show.index = range(2007, 2019)"
   ]
  },
  {
   "cell_type": "code",
   "execution_count": null,
   "metadata": {
    "hideCode": false,
    "hidePrompt": false,
    "scrolled": false
   },
   "outputs": [],
   "source": [
    "# diferencia\n",
    "show = df.diff(4).groupby(pd.Grouper(level = 0, freq = 'Y')).mean()\n",
    "show.columns = show.columns.droplevel(1)\n",
    "show.columns = show.columns.swaplevel(0, 2).swaplevel(1,2)\n",
    "show.index = range(startyr, endyr)\n",
    "\n",
    "choice = np.random.choice(show.columns.get_level_values('NOMPROV').unique(), 10)\n",
    "\n",
    "show.T.loc[choice].sort_index().round(1).style.applymap(color_negative_red)"
   ]
  },
  {
   "cell_type": "markdown",
   "metadata": {
    "hideCode": false,
    "hidePrompt": false
   },
   "source": [
    "## Niveles (%)\n",
    "### Por Region y aglomerado. Promedio 2018."
   ]
  },
  {
   "cell_type": "code",
   "execution_count": null,
   "metadata": {
    "hideCode": false,
    "hidePrompt": false,
    "scrolled": false
   },
   "outputs": [],
   "source": [
    "cuadro = pd.read_csv('./../data/cuadros/cuadro0_'+str(frac)+'_ARG', index_col=[0, 1, 2], header = [0, 1, 2])\n",
    "df = cuadro.iloc[:, cuadro.columns.get_level_values(0).isin(['Indigencia', 'Pobreza'])\n",
    "            & cuadro.columns.get_level_values(2).isin(['Hogares', 'Personas'])\n",
    "                 & cuadro.columns.get_level_values(1).isin(['mean'])]\n",
    "\n",
    "# Leave just time as index\n",
    "df = df.unstack([1, 2]).dropna(1)\n",
    "df.index = pd.DatetimeIndex(df.index)\n",
    "\n",
    "# Ultimo periodo\n",
    "x = df.loc['2018'].mean().unstack([3, 4, 1]).dropna(1)\n",
    "# # x.columns = ['Fuera de aglomerados', 'Aglomerados']\n",
    "# # myround(x, 20).astype(int)\n",
    "x.columns = x.columns.droplevel(-1)\n",
    "display(x.T.reindex(x.T.sum(1).sort_values(ascending = False).index).round(1))\n",
    "\n",
    "# # Rolling 4 trimestres de interpolado\n",
    "# df = df.resample('Q').mean().interpolate()"
   ]
  },
  {
   "cell_type": "markdown",
   "metadata": {},
   "source": [
    "## Cambio en niveles (%)\n",
    "### Por aglomerado en regiones."
   ]
  },
  {
   "cell_type": "code",
   "execution_count": null,
   "metadata": {
    "hideCode": false,
    "hidePrompt": false,
    "scrolled": false
   },
   "outputs": [],
   "source": [
    "# diferencia\n",
    "show = df.diff(4).groupby(pd.Grouper(level = 0, freq = 'Y')).mean()\n",
    "show.columns = show.columns.droplevel(1)\n",
    "show.columns = show.columns.swaplevel(0,2).swaplevel(1,3)\n",
    "show.index = range(startyr, endyr)\n",
    "\n",
    "# choice = np.random.choice(, 10)\n",
    "show = show.T.sort_index().round()\n",
    "\n",
    "for region in show.index.get_level_values('Region').unique():\n",
    "    display(md('#### '+region))\n",
    "    display(show.loc[region].style.applymap(color_negative_red))"
   ]
  },
  {
   "cell_type": "markdown",
   "metadata": {
    "hideCode": false,
    "hidePrompt": false
   },
   "source": [
    "## Niveles (%)\n",
    "### Partidos y Comunas del AMBA (muestreo)"
   ]
  },
  {
   "cell_type": "code",
   "execution_count": null,
   "metadata": {
    "hideCode": false,
    "hidePrompt": false,
    "scrolled": false
   },
   "outputs": [],
   "source": [
    "fig, ax = plt.subplots(1, figsize = (8, 8))\n",
    "gdf.fillna(0).plot(column = 'Pobreza', ax = ax, vmin = .1, vmax = .65, cmap = 'RdYlGn_r',\n",
    "                                                 edgecolor = '.4', lw = 0)\n",
    "#Partidos b&n\n",
    "gdf.to_crs({'init': 'epsg:3395'}).fillna(0).plot(column = 'Pobreza', ax = ax, vmin = .1, vmax = .65, cmap = 'RdYlGn_r',\n",
    "                                                 edgecolor = '.4', lw = 0)\n",
    "dptos_gdf.to_crs({'init': 'epsg:3395'}).loc[dptos_gdf.to_crs({'init': 'epsg:3395'}).codpcia.isin(['02', '06'])].translate(yoff = 220, xoff = 30).plot(color = 'None', edgecolor = '.4', lw = .4, ax = ax, zorder = 10)\n",
    "dptos_gdf.to_crs({'init': 'epsg:3395'}).loc[dptos_gdf.to_crs({'init': 'epsg:3395'}).codpcia.isin(['02', '06'])].translate(yoff = 0, xoff = 0).plot(color = 'None', edgecolor = 'w', lw = .4, ax = ax, zorder = 10)\n",
    "\n",
    "plt.xlim(-6570000, -6450000)\n",
    "plt.ylim(-4150000, -4020000)\n",
    "# ax.set_xlim(530e5, 7e5)\n",
    "# ax.set_ylim(-25000, 75000)\n",
    "plt.axis('off')\n",
    "\n",
    "plt.show()\n",
    "\n",
    "\n",
    "cuadro = pd.read_csv('./../data/cuadros/cuadro5_'+str(frac)+'_AMBA', index_col=[0, 1], header = [0, 1, 2])\n",
    "df = cuadro.iloc[:, cuadro.columns.get_level_values(0).isin(['Indigencia', 'Pobreza'])\n",
    "            & cuadro.columns.get_level_values(2).isin(['Hogares', 'Personas'])\n",
    "                 & cuadro.columns.get_level_values(1).isin(['mean'])]\n",
    "\n",
    "# Dptos de codigo a nombres...\n",
    "dptos = pd.read_csv('./../data/info/radio_ref.csv')[['DPTO','NOMDPTO']].drop_duplicates().set_index('DPTO')\n",
    "nomdptos = dptos.to_dict()['NOMDPTO']\n",
    "df.index = pd.MultiIndex.from_tuples([(x[0], nomdptos[x[1]]) for x in df.index])\n",
    "\n",
    "# Leave just time as index\n",
    "df = df.unstack()\n",
    "\n",
    "df.index = pd.DatetimeIndex(df.index)\n",
    "\n",
    "# Ultimo periodo\n",
    "x = df.loc['2018'].mean().unstack([3, 1])\n",
    "# x.columns = ['Fuera de aglomerados', 'Aglomerados']\n",
    "\n",
    "# myround(x, 20).astype(int)\n",
    "x.columns = x.columns.droplevel(1)\n",
    "display(x.T.reindex(x.T.sum(1).sort_values(ascending = False).index).round(1))\n",
    "\n",
    "# Rolling 4 trimestres de interpolado\n",
    "df = df.resample('Q').mean().interpolate()"
   ]
  },
  {
   "cell_type": "markdown",
   "metadata": {},
   "source": [
    "## Cambio en niveles (%)"
   ]
  },
  {
   "cell_type": "code",
   "execution_count": 83,
   "metadata": {
    "hideCode": false,
    "hidePrompt": false,
    "scrolled": false
   },
   "outputs": [
    {
     "ename": "IndexError",
     "evalue": "Boolean index has wrong length: 10 instead of 8",
     "output_type": "error",
     "traceback": [
      "\u001b[1;31m---------------------------------------------------------------------------\u001b[0m",
      "\u001b[1;31mIndexError\u001b[0m                                Traceback (most recent call last)",
      "\u001b[1;32m<ipython-input-83-9b901549a225>\u001b[0m in \u001b[0;36m<module>\u001b[1;34m\u001b[0m\n\u001b[0;32m      7\u001b[0m \u001b[0mchoice\u001b[0m \u001b[1;33m=\u001b[0m \u001b[0mnp\u001b[0m\u001b[1;33m.\u001b[0m\u001b[0mrandom\u001b[0m\u001b[1;33m.\u001b[0m\u001b[0mchoice\u001b[0m\u001b[1;33m(\u001b[0m\u001b[0mshow\u001b[0m\u001b[1;33m.\u001b[0m\u001b[0mcolumns\u001b[0m\u001b[1;33m.\u001b[0m\u001b[0mget_level_values\u001b[0m\u001b[1;33m(\u001b[0m\u001b[1;36m0\u001b[0m\u001b[1;33m)\u001b[0m\u001b[1;33m.\u001b[0m\u001b[0munique\u001b[0m\u001b[1;33m(\u001b[0m\u001b[1;33m)\u001b[0m\u001b[1;33m,\u001b[0m \u001b[1;36m10\u001b[0m\u001b[1;33m)\u001b[0m\u001b[1;33m\u001b[0m\u001b[1;33m\u001b[0m\u001b[0m\n\u001b[0;32m      8\u001b[0m \u001b[1;33m\u001b[0m\u001b[0m\n\u001b[1;32m----> 9\u001b[1;33m \u001b[0mshow\u001b[0m\u001b[1;33m.\u001b[0m\u001b[0mT\u001b[0m\u001b[1;33m.\u001b[0m\u001b[0mloc\u001b[0m\u001b[1;33m[\u001b[0m\u001b[0mchoice\u001b[0m\u001b[1;33m]\u001b[0m\u001b[1;33m.\u001b[0m\u001b[0msort_index\u001b[0m\u001b[1;33m(\u001b[0m\u001b[1;33m)\u001b[0m\u001b[1;33m.\u001b[0m\u001b[0mround\u001b[0m\u001b[1;33m(\u001b[0m\u001b[1;36m1\u001b[0m\u001b[1;33m)\u001b[0m\u001b[1;33m.\u001b[0m\u001b[0mstyle\u001b[0m\u001b[1;33m.\u001b[0m\u001b[0mapplymap\u001b[0m\u001b[1;33m(\u001b[0m\u001b[0mcolor_negative_red\u001b[0m\u001b[1;33m)\u001b[0m\u001b[1;33m\u001b[0m\u001b[1;33m\u001b[0m\u001b[0m\n\u001b[0m",
      "\u001b[1;32m~\\anaconda3\\lib\\site-packages\\pandas\\core\\indexing.py\u001b[0m in \u001b[0;36m__getitem__\u001b[1;34m(self, key)\u001b[0m\n\u001b[0;32m    877\u001b[0m \u001b[1;33m\u001b[0m\u001b[0m\n\u001b[0;32m    878\u001b[0m             \u001b[0mmaybe_callable\u001b[0m \u001b[1;33m=\u001b[0m \u001b[0mcom\u001b[0m\u001b[1;33m.\u001b[0m\u001b[0mapply_if_callable\u001b[0m\u001b[1;33m(\u001b[0m\u001b[0mkey\u001b[0m\u001b[1;33m,\u001b[0m \u001b[0mself\u001b[0m\u001b[1;33m.\u001b[0m\u001b[0mobj\u001b[0m\u001b[1;33m)\u001b[0m\u001b[1;33m\u001b[0m\u001b[1;33m\u001b[0m\u001b[0m\n\u001b[1;32m--> 879\u001b[1;33m             \u001b[1;32mreturn\u001b[0m \u001b[0mself\u001b[0m\u001b[1;33m.\u001b[0m\u001b[0m_getitem_axis\u001b[0m\u001b[1;33m(\u001b[0m\u001b[0mmaybe_callable\u001b[0m\u001b[1;33m,\u001b[0m \u001b[0maxis\u001b[0m\u001b[1;33m=\u001b[0m\u001b[0maxis\u001b[0m\u001b[1;33m)\u001b[0m\u001b[1;33m\u001b[0m\u001b[1;33m\u001b[0m\u001b[0m\n\u001b[0m\u001b[0;32m    880\u001b[0m \u001b[1;33m\u001b[0m\u001b[0m\n\u001b[0;32m    881\u001b[0m     \u001b[1;32mdef\u001b[0m \u001b[0m_is_scalar_access\u001b[0m\u001b[1;33m(\u001b[0m\u001b[0mself\u001b[0m\u001b[1;33m,\u001b[0m \u001b[0mkey\u001b[0m\u001b[1;33m:\u001b[0m \u001b[0mTuple\u001b[0m\u001b[1;33m)\u001b[0m\u001b[1;33m:\u001b[0m\u001b[1;33m\u001b[0m\u001b[1;33m\u001b[0m\u001b[0m\n",
      "\u001b[1;32m~\\anaconda3\\lib\\site-packages\\pandas\\core\\indexing.py\u001b[0m in \u001b[0;36m_getitem_axis\u001b[1;34m(self, key, axis)\u001b[0m\n\u001b[0;32m   1088\u001b[0m             \u001b[1;32mreturn\u001b[0m \u001b[0mself\u001b[0m\u001b[1;33m.\u001b[0m\u001b[0m_get_slice_axis\u001b[0m\u001b[1;33m(\u001b[0m\u001b[0mkey\u001b[0m\u001b[1;33m,\u001b[0m \u001b[0maxis\u001b[0m\u001b[1;33m=\u001b[0m\u001b[0maxis\u001b[0m\u001b[1;33m)\u001b[0m\u001b[1;33m\u001b[0m\u001b[1;33m\u001b[0m\u001b[0m\n\u001b[0;32m   1089\u001b[0m         \u001b[1;32melif\u001b[0m \u001b[0mcom\u001b[0m\u001b[1;33m.\u001b[0m\u001b[0mis_bool_indexer\u001b[0m\u001b[1;33m(\u001b[0m\u001b[0mkey\u001b[0m\u001b[1;33m)\u001b[0m\u001b[1;33m:\u001b[0m\u001b[1;33m\u001b[0m\u001b[1;33m\u001b[0m\u001b[0m\n\u001b[1;32m-> 1090\u001b[1;33m             \u001b[1;32mreturn\u001b[0m \u001b[0mself\u001b[0m\u001b[1;33m.\u001b[0m\u001b[0m_getbool_axis\u001b[0m\u001b[1;33m(\u001b[0m\u001b[0mkey\u001b[0m\u001b[1;33m,\u001b[0m \u001b[0maxis\u001b[0m\u001b[1;33m=\u001b[0m\u001b[0maxis\u001b[0m\u001b[1;33m)\u001b[0m\u001b[1;33m\u001b[0m\u001b[1;33m\u001b[0m\u001b[0m\n\u001b[0m\u001b[0;32m   1091\u001b[0m         \u001b[1;32melif\u001b[0m \u001b[0mis_list_like_indexer\u001b[0m\u001b[1;33m(\u001b[0m\u001b[0mkey\u001b[0m\u001b[1;33m)\u001b[0m\u001b[1;33m:\u001b[0m\u001b[1;33m\u001b[0m\u001b[1;33m\u001b[0m\u001b[0m\n\u001b[0;32m   1092\u001b[0m \u001b[1;33m\u001b[0m\u001b[0m\n",
      "\u001b[1;32m~\\anaconda3\\lib\\site-packages\\pandas\\core\\indexing.py\u001b[0m in \u001b[0;36m_getbool_axis\u001b[1;34m(self, key, axis)\u001b[0m\n\u001b[0;32m    894\u001b[0m         \u001b[1;31m# caller is responsible for ensuring non-None axis\u001b[0m\u001b[1;33m\u001b[0m\u001b[1;33m\u001b[0m\u001b[1;33m\u001b[0m\u001b[0m\n\u001b[0;32m    895\u001b[0m         \u001b[0mlabels\u001b[0m \u001b[1;33m=\u001b[0m \u001b[0mself\u001b[0m\u001b[1;33m.\u001b[0m\u001b[0mobj\u001b[0m\u001b[1;33m.\u001b[0m\u001b[0m_get_axis\u001b[0m\u001b[1;33m(\u001b[0m\u001b[0maxis\u001b[0m\u001b[1;33m)\u001b[0m\u001b[1;33m\u001b[0m\u001b[1;33m\u001b[0m\u001b[0m\n\u001b[1;32m--> 896\u001b[1;33m         \u001b[0mkey\u001b[0m \u001b[1;33m=\u001b[0m \u001b[0mcheck_bool_indexer\u001b[0m\u001b[1;33m(\u001b[0m\u001b[0mlabels\u001b[0m\u001b[1;33m,\u001b[0m \u001b[0mkey\u001b[0m\u001b[1;33m)\u001b[0m\u001b[1;33m\u001b[0m\u001b[1;33m\u001b[0m\u001b[0m\n\u001b[0m\u001b[0;32m    897\u001b[0m         \u001b[0minds\u001b[0m \u001b[1;33m=\u001b[0m \u001b[0mkey\u001b[0m\u001b[1;33m.\u001b[0m\u001b[0mnonzero\u001b[0m\u001b[1;33m(\u001b[0m\u001b[1;33m)\u001b[0m\u001b[1;33m[\u001b[0m\u001b[1;36m0\u001b[0m\u001b[1;33m]\u001b[0m\u001b[1;33m\u001b[0m\u001b[1;33m\u001b[0m\u001b[0m\n\u001b[0;32m    898\u001b[0m         \u001b[1;32mreturn\u001b[0m \u001b[0mself\u001b[0m\u001b[1;33m.\u001b[0m\u001b[0mobj\u001b[0m\u001b[1;33m.\u001b[0m\u001b[0m_take_with_is_copy\u001b[0m\u001b[1;33m(\u001b[0m\u001b[0minds\u001b[0m\u001b[1;33m,\u001b[0m \u001b[0maxis\u001b[0m\u001b[1;33m=\u001b[0m\u001b[0maxis\u001b[0m\u001b[1;33m)\u001b[0m\u001b[1;33m\u001b[0m\u001b[1;33m\u001b[0m\u001b[0m\n",
      "\u001b[1;32m~\\anaconda3\\lib\\site-packages\\pandas\\core\\indexing.py\u001b[0m in \u001b[0;36mcheck_bool_indexer\u001b[1;34m(index, key)\u001b[0m\n\u001b[0;32m   2195\u001b[0m         \u001b[1;31m# key may contain nan elements, check_array_indexer needs bool array\u001b[0m\u001b[1;33m\u001b[0m\u001b[1;33m\u001b[0m\u001b[1;33m\u001b[0m\u001b[0m\n\u001b[0;32m   2196\u001b[0m         \u001b[0mresult\u001b[0m \u001b[1;33m=\u001b[0m \u001b[0mpd_array\u001b[0m\u001b[1;33m(\u001b[0m\u001b[0mresult\u001b[0m\u001b[1;33m,\u001b[0m \u001b[0mdtype\u001b[0m\u001b[1;33m=\u001b[0m\u001b[0mbool\u001b[0m\u001b[1;33m)\u001b[0m\u001b[1;33m\u001b[0m\u001b[1;33m\u001b[0m\u001b[0m\n\u001b[1;32m-> 2197\u001b[1;33m     \u001b[1;32mreturn\u001b[0m \u001b[0mcheck_array_indexer\u001b[0m\u001b[1;33m(\u001b[0m\u001b[0mindex\u001b[0m\u001b[1;33m,\u001b[0m \u001b[0mresult\u001b[0m\u001b[1;33m)\u001b[0m\u001b[1;33m\u001b[0m\u001b[1;33m\u001b[0m\u001b[0m\n\u001b[0m\u001b[0;32m   2198\u001b[0m \u001b[1;33m\u001b[0m\u001b[0m\n\u001b[0;32m   2199\u001b[0m \u001b[1;33m\u001b[0m\u001b[0m\n",
      "\u001b[1;32m~\\anaconda3\\lib\\site-packages\\pandas\\core\\indexers.py\u001b[0m in \u001b[0;36mcheck_array_indexer\u001b[1;34m(array, indexer)\u001b[0m\n\u001b[0;32m    468\u001b[0m         \u001b[1;31m# GH26658\u001b[0m\u001b[1;33m\u001b[0m\u001b[1;33m\u001b[0m\u001b[1;33m\u001b[0m\u001b[0m\n\u001b[0;32m    469\u001b[0m         \u001b[1;32mif\u001b[0m \u001b[0mlen\u001b[0m\u001b[1;33m(\u001b[0m\u001b[0mindexer\u001b[0m\u001b[1;33m)\u001b[0m \u001b[1;33m!=\u001b[0m \u001b[0mlen\u001b[0m\u001b[1;33m(\u001b[0m\u001b[0marray\u001b[0m\u001b[1;33m)\u001b[0m\u001b[1;33m:\u001b[0m\u001b[1;33m\u001b[0m\u001b[1;33m\u001b[0m\u001b[0m\n\u001b[1;32m--> 470\u001b[1;33m             raise IndexError(\n\u001b[0m\u001b[0;32m    471\u001b[0m                 \u001b[1;34mf\"Boolean index has wrong length: \"\u001b[0m\u001b[1;33m\u001b[0m\u001b[1;33m\u001b[0m\u001b[0m\n\u001b[0;32m    472\u001b[0m                 \u001b[1;34mf\"{len(indexer)} instead of {len(array)}\"\u001b[0m\u001b[1;33m\u001b[0m\u001b[1;33m\u001b[0m\u001b[0m\n",
      "\u001b[1;31mIndexError\u001b[0m: Boolean index has wrong length: 10 instead of 8"
     ]
    }
   ],
   "source": [
    "# diferencia\n",
    "show = df.diff(4).groupby(pd.Grouper(level = 0, freq = 'Y')).mean()\n",
    "show.columns = show.columns.droplevel(1)\n",
    "show.columns = show.columns.swaplevel(0, 2).swaplevel(1,2)\n",
    "show.index = range(startyr, endyr)\n",
    "\n",
    "choice = np.random.choice(show.columns.get_level_values(0).unique(), 10)\n",
    "\n",
    "show.T.loc[choice].sort_index().round(1).style.applymap(color_negative_red)"
   ]
  },
  {
   "cell_type": "markdown",
   "metadata": {
    "hideCode": false,
    "hidePrompt": false
   },
   "source": [
    "## Lista de Aglomerados\n",
    "Y su poblacion (miles)"
   ]
  },
  {
   "cell_type": "code",
   "execution_count": null,
   "metadata": {
    "hideCode": false,
    "hidePrompt": false,
    "scrolled": false
   },
   "outputs": [],
   "source": [
    "## Appendix\n",
    "data = pd.read_csv('./../data/Pobreza/pobreza_'+str(frac)+'_2018_2021.csv', usecols = ['DPTO', 'PERSONA_REF_ID', 'AGLOMERADO'])\n",
    "\n",
    "aglo_labels = pd.read_csv('./../data/info/aglo_labels.csv')[['AGLOMERADO', 'NOMAGLO']]\n",
    "radio_ref = pd.read_csv('./../data/info/radio_ref.csv').merge(aglo_labels)\n",
    "data = data.merge(radio_ref[['DPTO','NOMAGLO', 'NOMPROV', 'NOMDPTO']].drop_duplicates())\n",
    "\n",
    "pd.options.display.max_rows = 999\n",
    "poblacion_por_aglo_dpto = data.loc[data.AGLOMERADO != 0].groupby(['NOMAGLO', 'NOMPROV', 'NOMDPTO'])[['PERSONA_REF_ID']].count().sort_index()/frac/yrs_pob_data/1e3\n",
    "poblacion_por_aglo_dpto.columns = ['Poblacion (miles)']\n",
    "poblacion_por_aglo_dpto.drop('Fuera de aglom.').round().style.bar(vmin = 0)\n",
    "\n",
    "# poblacion (miles)"
   ]
  }
 ],
 "metadata": {
  "celltoolbar": "Hide code",
  "hide_code_all_hidden": false,
  "kernelspec": {
   "display_name": "Python 3",
   "language": "python",
   "name": "python3"
  },
  "language_info": {
   "codemirror_mode": {
    "name": "ipython",
    "version": 3
   },
   "file_extension": ".py",
   "mimetype": "text/x-python",
   "name": "python",
   "nbconvert_exporter": "python",
   "pygments_lexer": "ipython3",
   "version": "3.8.5"
  }
 },
 "nbformat": 4,
 "nbformat_minor": 2
}
