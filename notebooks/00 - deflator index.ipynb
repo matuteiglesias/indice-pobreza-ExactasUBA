{
 "cells": [
  {
   "cell_type": "code",
   "execution_count": 1,
   "metadata": {},
   "outputs": [],
   "source": [
    "import pandas as pd\n",
    "import matplotlib.pyplot as plt\n",
    "%matplotlib inline\n",
    "\n",
    "import numpy as np\n",
    "import requests"
   ]
  },
  {
   "cell_type": "code",
   "execution_count": null,
   "metadata": {},
   "outputs": [],
   "source": []
  },
  {
   "cell_type": "code",
   "execution_count": 2,
   "metadata": {
    "scrolled": false
   },
   "outputs": [],
   "source": [
    "## Cargar fuente Pricestats\n",
    "\n",
    "pd.read_csv('./../data/info/Argentina_inflation_pricestats.csv')\n",
    "\n",
    "cpi = pd.read_csv('./../data/info/Argentina_inflation_pricestats.csv').dropna(subset = ['index'])\n",
    "cpi.index = pd.date_range(\"1943-01\", periods=len(cpi), freq = 'M')\n",
    "\n",
    "## Cargar fuente Indec para IPC post 2015\n",
    "### Descargar info actualizada en ipc_b201612_mensual.csv\n",
    "csv_url = 'https://infra.datos.gob.ar/catalog/sspm/dataset/145/distribution/145.3/download/indice-precios-al-consumidor-nivel-general-base-diciembre-2016-mensual.csv'\n",
    "req = requests.get(csv_url)\n",
    "csv_file = open('./../data/info/ipc_b201612_mensual.csv', 'wb')\n",
    "csv_file.write(req.content)\n",
    "csv_file.close()\n",
    "\n",
    "## Usar archivo\n",
    "cpi2 = pd.read_csv('./../data/info/ipc_b201612_mensual.csv',\n",
    "                   usecols = ['ipc_ng_nacional']).astype(float)\n",
    "cpi2.index = pd.date_range(\"2016-12\", periods=len(cpi2), freq = 'M')\n",
    "cpi2.columns = ['index']"
   ]
  },
  {
   "cell_type": "markdown",
   "metadata": {},
   "source": [
    "### Graficar el empalme de indices"
   ]
  },
  {
   "cell_type": "code",
   "execution_count": 3,
   "metadata": {},
   "outputs": [
    {
     "data": {
      "image/png": "[encoded data removed]",
      "text/plain": [
       "<Figure size 432x288 with 1 Axes>"
      ]
     },
     "metadata": {
      "needs_background": "light"
     },
     "output_type": "display_data"
    }
   ],
   "source": [
    "m = np.mean(cpi.loc['2017':]['index'].values/cpi2.loc['2017':]['index'].values[:len(cpi.loc['2017':])])\n",
    "\n",
    "plt.plot(cpi.loc['1998':][['index']])\n",
    "plt.plot(m*cpi2.loc['2017':][['index']])\n",
    "\n",
    "plt.yscale('log')\n",
    "plt.show()"
   ]
  },
  {
   "cell_type": "code",
   "execution_count": 4,
   "metadata": {},
   "outputs": [],
   "source": [
    "## Si esta todo ok se pueden unir\n",
    "cpi = pd.concat([cpi.loc[:cpi2.index.values[0]][['index']],\n",
    "           m*cpi2.iloc[1:]], )"
   ]
  },
  {
   "cell_type": "code",
   "execution_count": 5,
   "metadata": {},
   "outputs": [
    {
     "name": "stderr",
     "output_type": "stream",
     "text": [
      "<ipython-input-5-dafcf37e6765>:7: FutureWarning: The pandas.datetime class is deprecated and will be removed from pandas in a future version. Import from datetime module instead.\n",
      "  pd.datetime.today() + pd.DateOffset(months=1), freq = 'M'))])\n"
     ]
    },
    {
     "data": {
      "text/plain": [
       "2021-01-31    3270.799721\n",
       "Freq: M, Name: index, dtype: float64"
      ]
     },
     "metadata": {},
     "output_type": "display_data"
    }
   ],
   "source": [
    "## Tasa de inflacion de los ultimos 12 meses. Se usa para completar la inflacion del ultimo mes antes que se mida.\n",
    "r = cpi.pct_change().tail(12).mean()[0]\n",
    "\n",
    "## Estirar la serie de CPI hasta el dia de hoy (para precios actualizados)\n",
    "cpi = pd.concat([cpi, pd.DataFrame([], \n",
    "                                   index = pd.date_range(cpi.index[-1] + pd.DateOffset(months=1), \n",
    "                                                         pd.datetime.today() + pd.DateOffset(months=1), freq = 'M'))])\n",
    "\n",
    "last_valid_ix = cpi.dropna().iloc[-1] # Level of the cpi index in last valid month\n",
    "\n",
    "cpi['avg_rate'] = pd.Series((1 + r)**range(len(cpi)), index = cpi.index)  ## Compute the exponential curve\n",
    "\n",
    "# Bring to actual level\n",
    "ratio = cpi.loc[last_valid_ix.name].avg_rate / cpi.loc[last_valid_ix.name]['index'] \n",
    "cpi['avg_rate'] = cpi['avg_rate']/ratio  \n",
    "\n",
    "# Complete cpi series up to present and remove exponential\n",
    "cpi['index'] = cpi['index'].fillna(cpi['avg_rate'])\n",
    "cpi = cpi.drop('avg_rate', axis = 1)\n",
    "\n",
    "nivel_precios_actual = cpi.tail(1)['index']\n",
    "display(nivel_precios_actual)"
   ]
  },
  {
   "cell_type": "code",
   "execution_count": 6,
   "metadata": {},
   "outputs": [
    {
     "data": {
      "text/html": [
       "<div>\n",
       "<style scoped>\n",
       "    .dataframe tbody tr th:only-of-type {\n",
       "        vertical-align: middle;\n",
       "    }\n",
       "\n",
       "    .dataframe tbody tr th {\n",
       "        vertical-align: top;\n",
       "    }\n",
       "\n",
       "    .dataframe thead th {\n",
       "        text-align: right;\n",
       "    }\n",
       "</style>\n",
       "<table border=\"1\" class=\"dataframe\">\n",
       "  <thead>\n",
       "    <tr style=\"text-align: right;\">\n",
       "      <th></th>\n",
       "      <th>index</th>\n",
       "    </tr>\n",
       "  </thead>\n",
       "  <tbody>\n",
       "    <tr>\n",
       "      <th>2020-09-30</th>\n",
       "      <td>2903.602346</td>\n",
       "    </tr>\n",
       "    <tr>\n",
       "      <th>2020-10-31</th>\n",
       "      <td>3012.805954</td>\n",
       "    </tr>\n",
       "    <tr>\n",
       "      <th>2020-11-30</th>\n",
       "      <td>3108.001733</td>\n",
       "    </tr>\n",
       "    <tr>\n",
       "      <th>2020-12-31</th>\n",
       "      <td>3188.361836</td>\n",
       "    </tr>\n",
       "    <tr>\n",
       "      <th>2021-01-31</th>\n",
       "      <td>3270.799721</td>\n",
       "    </tr>\n",
       "  </tbody>\n",
       "</table>\n",
       "</div>"
      ],
      "text/plain": [
       "                  index\n",
       "2020-09-30  2903.602346\n",
       "2020-10-31  3012.805954\n",
       "2020-11-30  3108.001733\n",
       "2020-12-31  3188.361836\n",
       "2021-01-31  3270.799721"
      ]
     },
     "execution_count": 6,
     "metadata": {},
     "output_type": "execute_result"
    }
   ],
   "source": [
    "cpi.to_csv('./../data/info/indice_precios_M.csv')\n",
    "cpi.tail()"
   ]
  },
  {
   "cell_type": "code",
   "execution_count": 7,
   "metadata": {},
   "outputs": [
    {
     "data": {
      "text/html": [
       "<div>\n",
       "<style scoped>\n",
       "    .dataframe tbody tr th:only-of-type {\n",
       "        vertical-align: middle;\n",
       "    }\n",
       "\n",
       "    .dataframe tbody tr th {\n",
       "        vertical-align: top;\n",
       "    }\n",
       "\n",
       "    .dataframe thead th {\n",
       "        text-align: right;\n",
       "    }\n",
       "</style>\n",
       "<table border=\"1\" class=\"dataframe\">\n",
       "  <thead>\n",
       "    <tr style=\"text-align: right;\">\n",
       "      <th></th>\n",
       "      <th>index</th>\n",
       "    </tr>\n",
       "    <tr>\n",
       "      <th>Q</th>\n",
       "      <th></th>\n",
       "    </tr>\n",
       "  </thead>\n",
       "  <tbody>\n",
       "    <tr>\n",
       "      <th>2019-09-30</th>\n",
       "      <td>2021.096769</td>\n",
       "    </tr>\n",
       "    <tr>\n",
       "      <th>2019-12-31</th>\n",
       "      <td>2286.125270</td>\n",
       "    </tr>\n",
       "    <tr>\n",
       "      <th>2020-03-31</th>\n",
       "      <td>2488.067717</td>\n",
       "    </tr>\n",
       "    <tr>\n",
       "      <th>2020-06-30</th>\n",
       "      <td>2644.322902</td>\n",
       "    </tr>\n",
       "    <tr>\n",
       "      <th>2020-09-30</th>\n",
       "      <td>2825.482851</td>\n",
       "    </tr>\n",
       "  </tbody>\n",
       "</table>\n",
       "</div>"
      ],
      "text/plain": [
       "                  index\n",
       "Q                      \n",
       "2019-09-30  2021.096769\n",
       "2019-12-31  2286.125270\n",
       "2020-03-31  2488.067717\n",
       "2020-06-30  2644.322902\n",
       "2020-09-30  2825.482851"
      ]
     },
     "execution_count": 7,
     "metadata": {},
     "output_type": "execute_result"
    }
   ],
   "source": [
    "cpi_ = cpi.groupby(pd.Grouper(freq='Q')).mean().loc['2003':'2020-09-30'][['index']]#.to_csv(...)\n",
    "cpi_.set_index('index')\n",
    "cpi_.index.name = 'Q'\n",
    "\n",
    "cpi_.tail()"
   ]
  },
  {
   "cell_type": "code",
   "execution_count": 8,
   "metadata": {},
   "outputs": [],
   "source": [
    "cpi_.to_csv('./../data/info/indice_precios_Q.csv')"
   ]
  },
  {
   "cell_type": "code",
   "execution_count": 9,
   "metadata": {},
   "outputs": [],
   "source": [
    "# cpi = cpi.groupby(pd.Grouper(freq='Q')).mean().loc[str(startyr):str(endyr)][['index']]#.to_csv(...)\n",
    "# cpi.set_index('index')\n",
    "# cpi.index.name = 'Q'\n",
    "# #\n",
    "# indice_precios = cpi"
   ]
  },
  {
   "cell_type": "code",
   "execution_count": null,
   "metadata": {},
   "outputs": [],
   "source": []
  }
 ],
 "metadata": {
  "kernelspec": {
   "display_name": "Python 3",
   "language": "python",
   "name": "python3"
  },
  "language_info": {
   "codemirror_mode": {
    "name": "ipython",
    "version": 3
   },
   "file_extension": ".py",
   "mimetype": "text/x-python",
   "name": "python",
   "nbconvert_exporter": "python",
   "pygments_lexer": "ipython3",
   "version": "3.8.5"
  }
 },
 "nbformat": 4,
 "nbformat_minor": 2
}
