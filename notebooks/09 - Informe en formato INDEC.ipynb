{
 "cells": [
  {
   "cell_type": "code",
   "execution_count": 27,
   "metadata": {},
   "outputs": [
    {
     "data": {
      "text/html": [
       "<style>.container { width:100% !important; }</style>"
      ],
      "text/plain": [
       "<IPython.core.display.HTML object>"
      ]
     },
     "metadata": {},
     "output_type": "display_data"
    }
   ],
   "source": [
    "import pandas as pd\n",
    "import numpy as np\n",
    "\n",
    "from IPython.core.display import display, HTML\n",
    "display(HTML(\"<style>.container { width:100% !important; }</style>\"))\n",
    "pd.options.display.max_columns = 99\n",
    "pd.options.display.max_rows = 999"
   ]
  },
  {
   "cell_type": "code",
   "execution_count": 28,
   "metadata": {},
   "outputs": [],
   "source": [
    "frac = 0.02"
   ]
  },
  {
   "cell_type": "code",
   "execution_count": 29,
   "metadata": {},
   "outputs": [],
   "source": [
    "\n",
    "aglo_labels = pd.read_csv('./../data/info/aglo_labels.csv')[['AGLOMERADO', 'NOMAGLO']]\n",
    "\n",
    "radio_ref = pd.read_csv('./../data/info/radio_ref.csv')\n",
    "# radio_ref[['PROV','NOMPROV','DPTO', 'NOMDPTO']].drop_duplicates().to_csv('./data/DPTO_PROV.csv', index = False)\n",
    "dpto_region = pd.read_csv('./../data/info/DPTO_PROV_Region.csv')\n",
    "radio_ref = radio_ref.merge(dpto_region)\n",
    "radio_ref = radio_ref[['RADIO_REF_ID', 'NOMDPTO', 'AGLOMERADO', 'Region']].drop_duplicates().merge(aglo_labels)\n",
    "\n",
    "\n",
    "data = pd.read_csv('./../data/Pobreza/pobreza_'+str(frac)+'_2019.csv')\n",
    "data['Grupo Etario'] = pd.cut(data.P03, np.arange(-1, 80, 3))#.round(-1) ## Customizar grupo etario\n",
    "\n",
    "data = data.merge(radio_ref, on = ['RADIO_REF_ID', 'AGLOMERADO'])\n",
    "data['AGLO_si'] = data.AGLOMERADO != 0"
   ]
  },
  {
   "cell_type": "code",
   "execution_count": 30,
   "metadata": {},
   "outputs": [
    {
     "data": {
      "text/plain": [
       "1.1584037876386652"
      ]
     },
     "execution_count": 30,
     "metadata": {},
     "output_type": "execute_result"
    }
   ],
   "source": [
    "## Coversion a pesos de AGO 20, cuando fue elaborado el informe de INDEC\n",
    "cpi = pd.read_csv('./../data/info/indice_precios_M.csv', index_col=0)\n",
    "ix = cpi.loc['2021-01-31'].values[0]/cpi.loc['2020-08-31'].values[0]\n",
    "ix"
   ]
  },
  {
   "cell_type": "markdown",
   "metadata": {},
   "source": [
    "## Caracteristicas Basicas\n",
    "### Poblacion total"
   ]
  },
  {
   "cell_type": "code",
   "execution_count": 31,
   "metadata": {},
   "outputs": [
    {
     "data": {
      "text/plain": [
       "44200000.0"
      ]
     },
     "execution_count": 31,
     "metadata": {},
     "output_type": "execute_result"
    }
   ],
   "source": [
    "np.round(len(data)/frac/4, -5)"
   ]
  },
  {
   "cell_type": "code",
   "execution_count": 33,
   "metadata": {},
   "outputs": [
    {
     "data": {
      "text/plain": [
       "13400000.0"
      ]
     },
     "execution_count": 33,
     "metadata": {},
     "output_type": "execute_result"
    }
   ],
   "source": [
    "np.round(data.HOGAR_REF_ID.nunique()/frac, -5)"
   ]
  },
  {
   "cell_type": "markdown",
   "metadata": {},
   "source": [
    "### Poblacion dentro y fuera de AGLOS"
   ]
  },
  {
   "cell_type": "code",
   "execution_count": 34,
   "metadata": {},
   "outputs": [
    {
     "data": {
      "text/plain": [
       "AGLO_si\n",
       "False    16400000\n",
       "True     27800000\n",
       "dtype: int32"
      ]
     },
     "execution_count": 34,
     "metadata": {},
     "output_type": "execute_result"
    }
   ],
   "source": [
    "\n",
    "(data.groupby('AGLO_si').size()/frac/4).round(-5).astype(int)"
   ]
  },
  {
   "cell_type": "code",
   "execution_count": 35,
   "metadata": {},
   "outputs": [
    {
     "data": {
      "text/plain": [
       "AGLO_si\n",
       "False    1200000\n",
       "True     2100000\n",
       "Name: HOGAR_REF_ID, dtype: int32"
      ]
     },
     "execution_count": 35,
     "metadata": {},
     "output_type": "execute_result"
    }
   ],
   "source": [
    "(data.groupby('AGLO_si')['HOGAR_REF_ID'].nunique()/frac/4).round(-5).astype(int)"
   ]
  },
  {
   "cell_type": "markdown",
   "metadata": {},
   "source": [
    "### Poblacion en Pobreza"
   ]
  },
  {
   "cell_type": "code",
   "execution_count": 50,
   "metadata": {},
   "outputs": [
    {
     "data": {
      "text/html": [
       "<div>\n",
       "<style scoped>\n",
       "    .dataframe tbody tr th:only-of-type {\n",
       "        vertical-align: middle;\n",
       "    }\n",
       "\n",
       "    .dataframe tbody tr th {\n",
       "        vertical-align: top;\n",
       "    }\n",
       "\n",
       "    .dataframe thead th {\n",
       "        text-align: right;\n",
       "    }\n",
       "</style>\n",
       "<table border=\"1\" class=\"dataframe\">\n",
       "  <thead>\n",
       "    <tr style=\"text-align: right;\">\n",
       "      <th>Q</th>\n",
       "      <th>2019-03-31</th>\n",
       "      <th>2019-06-30</th>\n",
       "      <th>2019-09-30</th>\n",
       "      <th>2019-12-31</th>\n",
       "    </tr>\n",
       "    <tr>\n",
       "      <th>Pobreza</th>\n",
       "      <th></th>\n",
       "      <th></th>\n",
       "      <th></th>\n",
       "      <th></th>\n",
       "    </tr>\n",
       "  </thead>\n",
       "  <tbody>\n",
       "    <tr>\n",
       "      <th>False</th>\n",
       "      <td>4230000</td>\n",
       "      <td>3880000</td>\n",
       "      <td>4200000</td>\n",
       "      <td>3780000</td>\n",
       "    </tr>\n",
       "    <tr>\n",
       "      <th>True</th>\n",
       "      <td>2710000</td>\n",
       "      <td>3060000</td>\n",
       "      <td>2740000</td>\n",
       "      <td>3160000</td>\n",
       "    </tr>\n",
       "  </tbody>\n",
       "</table>\n",
       "</div>"
      ],
      "text/plain": [
       "Q        2019-03-31  2019-06-30  2019-09-30  2019-12-31\n",
       "Pobreza                                                \n",
       "False       4230000     3880000     4200000     3780000\n",
       "True        2710000     3060000     2740000     3160000"
      ]
     },
     "execution_count": 50,
     "metadata": {},
     "output_type": "execute_result"
    }
   ],
   "source": [
    "## Personas\n",
    "### Cantidad\n",
    "pob_cnt = (data.loc[data.AGLO_si].groupby(['Pobreza', 'Q']).size()/frac/4)\n",
    "pob_cnt.round(-4).astype(int).unstack()"
   ]
  },
  {
   "cell_type": "code",
   "execution_count": 51,
   "metadata": {},
   "outputs": [
    {
     "data": {
      "text/html": [
       "<div>\n",
       "<style scoped>\n",
       "    .dataframe tbody tr th:only-of-type {\n",
       "        vertical-align: middle;\n",
       "    }\n",
       "\n",
       "    .dataframe tbody tr th {\n",
       "        vertical-align: top;\n",
       "    }\n",
       "\n",
       "    .dataframe thead th {\n",
       "        text-align: right;\n",
       "    }\n",
       "</style>\n",
       "<table border=\"1\" class=\"dataframe\">\n",
       "  <thead>\n",
       "    <tr style=\"text-align: right;\">\n",
       "      <th>Q</th>\n",
       "      <th>2019-03-31</th>\n",
       "      <th>2019-06-30</th>\n",
       "      <th>2019-09-30</th>\n",
       "      <th>2019-12-31</th>\n",
       "    </tr>\n",
       "    <tr>\n",
       "      <th>Pobreza</th>\n",
       "      <th></th>\n",
       "      <th></th>\n",
       "      <th></th>\n",
       "      <th></th>\n",
       "    </tr>\n",
       "  </thead>\n",
       "  <tbody>\n",
       "    <tr>\n",
       "      <th>False</th>\n",
       "      <td>60.8</td>\n",
       "      <td>56.0</td>\n",
       "      <td>60.4</td>\n",
       "      <td>54.4</td>\n",
       "    </tr>\n",
       "    <tr>\n",
       "      <th>True</th>\n",
       "      <td>39.2</td>\n",
       "      <td>44.0</td>\n",
       "      <td>39.6</td>\n",
       "      <td>45.6</td>\n",
       "    </tr>\n",
       "  </tbody>\n",
       "</table>\n",
       "</div>"
      ],
      "text/plain": [
       "Q        2019-03-31  2019-06-30  2019-09-30  2019-12-31\n",
       "Pobreza                                                \n",
       "False          60.8        56.0        60.4        54.4\n",
       "True           39.2        44.0        39.6        45.6"
      ]
     },
     "execution_count": 51,
     "metadata": {},
     "output_type": "execute_result"
    }
   ],
   "source": [
    "### Porcentaje\n",
    "4*(100*pob_cnt/pob_cnt.sum()).round(1).unstack()"
   ]
  },
  {
   "cell_type": "code",
   "execution_count": 52,
   "metadata": {},
   "outputs": [
    {
     "data": {
      "text/html": [
       "<div>\n",
       "<style scoped>\n",
       "    .dataframe tbody tr th:only-of-type {\n",
       "        vertical-align: middle;\n",
       "    }\n",
       "\n",
       "    .dataframe tbody tr th {\n",
       "        vertical-align: top;\n",
       "    }\n",
       "\n",
       "    .dataframe thead th {\n",
       "        text-align: right;\n",
       "    }\n",
       "</style>\n",
       "<table border=\"1\" class=\"dataframe\">\n",
       "  <thead>\n",
       "    <tr style=\"text-align: right;\">\n",
       "      <th>Q</th>\n",
       "      <th>2019-03-31</th>\n",
       "      <th>2019-06-30</th>\n",
       "      <th>2019-09-30</th>\n",
       "      <th>2019-12-31</th>\n",
       "    </tr>\n",
       "    <tr>\n",
       "      <th>Pobreza</th>\n",
       "      <th></th>\n",
       "      <th></th>\n",
       "      <th></th>\n",
       "      <th></th>\n",
       "    </tr>\n",
       "  </thead>\n",
       "  <tbody>\n",
       "    <tr>\n",
       "      <th>False</th>\n",
       "      <td>1490000</td>\n",
       "      <td>1390000</td>\n",
       "      <td>1480000</td>\n",
       "      <td>1380000</td>\n",
       "    </tr>\n",
       "    <tr>\n",
       "      <th>True</th>\n",
       "      <td>640000</td>\n",
       "      <td>750000</td>\n",
       "      <td>650000</td>\n",
       "      <td>760000</td>\n",
       "    </tr>\n",
       "  </tbody>\n",
       "</table>\n",
       "</div>"
      ],
      "text/plain": [
       "Q        2019-03-31  2019-06-30  2019-09-30  2019-12-31\n",
       "Pobreza                                                \n",
       "False       1490000     1390000     1480000     1380000\n",
       "True         640000      750000      650000      760000"
      ]
     },
     "execution_count": 52,
     "metadata": {},
     "output_type": "execute_result"
    }
   ],
   "source": [
    "## Hogares\n",
    "### Cantidad\n",
    "pob_cnt = (data.loc[data.AGLO_si].groupby(['Pobreza', 'Q'])['HOGAR_REF_ID'].nunique()/frac/4)  ## ojo porque mal groupby Q suma hogares que puedieron ser pobres en distintos trimestres\n",
    "pob_cnt.round(-4).astype(int).unstack()"
   ]
  },
  {
   "cell_type": "code",
   "execution_count": 53,
   "metadata": {},
   "outputs": [
    {
     "data": {
      "text/html": [
       "<div>\n",
       "<style scoped>\n",
       "    .dataframe tbody tr th:only-of-type {\n",
       "        vertical-align: middle;\n",
       "    }\n",
       "\n",
       "    .dataframe tbody tr th {\n",
       "        vertical-align: top;\n",
       "    }\n",
       "\n",
       "    .dataframe thead th {\n",
       "        text-align: right;\n",
       "    }\n",
       "</style>\n",
       "<table border=\"1\" class=\"dataframe\">\n",
       "  <thead>\n",
       "    <tr style=\"text-align: right;\">\n",
       "      <th>Q</th>\n",
       "      <th>2019-03-31</th>\n",
       "      <th>2019-06-30</th>\n",
       "      <th>2019-09-30</th>\n",
       "      <th>2019-12-31</th>\n",
       "    </tr>\n",
       "    <tr>\n",
       "      <th>Pobreza</th>\n",
       "      <th></th>\n",
       "      <th></th>\n",
       "      <th></th>\n",
       "      <th></th>\n",
       "    </tr>\n",
       "  </thead>\n",
       "  <tbody>\n",
       "    <tr>\n",
       "      <th>False</th>\n",
       "      <td>70.0</td>\n",
       "      <td>64.8</td>\n",
       "      <td>69.2</td>\n",
       "      <td>64.4</td>\n",
       "    </tr>\n",
       "    <tr>\n",
       "      <th>True</th>\n",
       "      <td>30.0</td>\n",
       "      <td>35.2</td>\n",
       "      <td>30.8</td>\n",
       "      <td>35.6</td>\n",
       "    </tr>\n",
       "  </tbody>\n",
       "</table>\n",
       "</div>"
      ],
      "text/plain": [
       "Q        2019-03-31  2019-06-30  2019-09-30  2019-12-31\n",
       "Pobreza                                                \n",
       "False          70.0        64.8        69.2        64.4\n",
       "True           30.0        35.2        30.8        35.6"
      ]
     },
     "execution_count": 53,
     "metadata": {},
     "output_type": "execute_result"
    }
   ],
   "source": [
    "### Porcentaje\n",
    "4*(100*pob_cnt/pob_cnt.sum()).round(1).unstack()"
   ]
  },
  {
   "cell_type": "markdown",
   "metadata": {},
   "source": [
    "#### Otras caracteristicas de hogares en pobreza"
   ]
  },
  {
   "cell_type": "code",
   "execution_count": 54,
   "metadata": {},
   "outputs": [
    {
     "data": {
      "text/plain": [
       "4.164750052392907"
      ]
     },
     "execution_count": 54,
     "metadata": {},
     "output_type": "execute_result"
    }
   ],
   "source": [
    "data_AGLO = data.loc[data.AGLO_si]\n",
    "\n",
    "# Tamaño promedio del hogar\n",
    "data_AGLO.loc[data_AGLO.Pobreza].groupby(['HOGAR_REF_ID', 'Q']).size().mean()\n",
    "\n",
    "# df = pd.read_csv('./../data/training/EPHARG_train_20.csv')\n",
    "# df.head()#.groupby(['CODUSU', 'TRIMESTRE']).size().mean()"
   ]
  },
  {
   "cell_type": "code",
   "execution_count": 55,
   "metadata": {},
   "outputs": [
    {
     "data": {
      "text/plain": [
       "P47T_hogar    34400.0\n",
       "CBT           60200.0\n",
       "dtype: float64"
      ]
     },
     "execution_count": 55,
     "metadata": {},
     "output_type": "execute_result"
    }
   ],
   "source": [
    "# 'Ingreso total familiar promedio' y 'Canasta básica total promedio del hogar'\n",
    "ITF = data_AGLO.loc[data_AGLO.Pobreza][['HOGAR_REF_ID', 'P47T_hogar', 'CBT']].drop_duplicates().drop('HOGAR_REF_ID', axis = 1).mean()\n",
    "np.round(ITF/ix, -2)\n",
    "\n",
    "# ITF_pond = data.loc[data.Pobreza].P47T_hogar.mean()\n",
    "# np.round(ITF_pond/ix, -2)"
   ]
  },
  {
   "cell_type": "code",
   "execution_count": 56,
   "metadata": {},
   "outputs": [
    {
     "data": {
      "text/html": [
       "<div>\n",
       "<style scoped>\n",
       "    .dataframe tbody tr th:only-of-type {\n",
       "        vertical-align: middle;\n",
       "    }\n",
       "\n",
       "    .dataframe tbody tr th {\n",
       "        vertical-align: top;\n",
       "    }\n",
       "\n",
       "    .dataframe thead tr th {\n",
       "        text-align: left;\n",
       "    }\n",
       "\n",
       "    .dataframe thead tr:last-of-type th {\n",
       "        text-align: right;\n",
       "    }\n",
       "</style>\n",
       "<table border=\"1\" class=\"dataframe\">\n",
       "  <thead>\n",
       "    <tr>\n",
       "      <th></th>\n",
       "      <th></th>\n",
       "      <th colspan=\"6\" halign=\"left\">P47T_hogar</th>\n",
       "      <th colspan=\"6\" halign=\"left\">gap_pobreza</th>\n",
       "      <th colspan=\"6\" halign=\"left\">gap_indigencia</th>\n",
       "    </tr>\n",
       "    <tr>\n",
       "      <th></th>\n",
       "      <th></th>\n",
       "      <th>mean</th>\n",
       "      <th>min</th>\n",
       "      <th>25%</th>\n",
       "      <th>50%</th>\n",
       "      <th>75%</th>\n",
       "      <th>max</th>\n",
       "      <th>mean</th>\n",
       "      <th>min</th>\n",
       "      <th>25%</th>\n",
       "      <th>50%</th>\n",
       "      <th>75%</th>\n",
       "      <th>max</th>\n",
       "      <th>mean</th>\n",
       "      <th>min</th>\n",
       "      <th>25%</th>\n",
       "      <th>50%</th>\n",
       "      <th>75%</th>\n",
       "      <th>max</th>\n",
       "    </tr>\n",
       "    <tr>\n",
       "      <th>Pobreza</th>\n",
       "      <th>Indigencia</th>\n",
       "      <th></th>\n",
       "      <th></th>\n",
       "      <th></th>\n",
       "      <th></th>\n",
       "      <th></th>\n",
       "      <th></th>\n",
       "      <th></th>\n",
       "      <th></th>\n",
       "      <th></th>\n",
       "      <th></th>\n",
       "      <th></th>\n",
       "      <th></th>\n",
       "      <th></th>\n",
       "      <th></th>\n",
       "      <th></th>\n",
       "      <th></th>\n",
       "      <th></th>\n",
       "      <th></th>\n",
       "    </tr>\n",
       "  </thead>\n",
       "  <tbody>\n",
       "    <tr>\n",
       "      <th>False</th>\n",
       "      <th>False</th>\n",
       "      <td>177900</td>\n",
       "      <td>13700</td>\n",
       "      <td>74400</td>\n",
       "      <td>106800</td>\n",
       "      <td>152200</td>\n",
       "      <td>18664500</td>\n",
       "      <td>94700</td>\n",
       "      <td>0</td>\n",
       "      <td>18800</td>\n",
       "      <td>42300</td>\n",
       "      <td>81900</td>\n",
       "      <td>12078800</td>\n",
       "      <td>144300</td>\n",
       "      <td>7700</td>\n",
       "      <td>53400</td>\n",
       "      <td>80400</td>\n",
       "      <td>122700</td>\n",
       "      <td>16012500</td>\n",
       "    </tr>\n",
       "    <tr>\n",
       "      <th rowspan=\"2\" valign=\"top\">True</th>\n",
       "      <th>False</th>\n",
       "      <td>58000</td>\n",
       "      <td>6000</td>\n",
       "      <td>38800</td>\n",
       "      <td>53400</td>\n",
       "      <td>71500</td>\n",
       "      <td>571700</td>\n",
       "      <td>-26000</td>\n",
       "      <td>-256800</td>\n",
       "      <td>-36700</td>\n",
       "      <td>-21900</td>\n",
       "      <td>-10500</td>\n",
       "      <td>0</td>\n",
       "      <td>24100</td>\n",
       "      <td>0</td>\n",
       "      <td>10500</td>\n",
       "      <td>20900</td>\n",
       "      <td>34000</td>\n",
       "      <td>337600</td>\n",
       "    </tr>\n",
       "    <tr>\n",
       "      <th>True</th>\n",
       "      <td>22300</td>\n",
       "      <td>0</td>\n",
       "      <td>11300</td>\n",
       "      <td>20700</td>\n",
       "      <td>31500</td>\n",
       "      <td>136300</td>\n",
       "      <td>-67900</td>\n",
       "      <td>-391500</td>\n",
       "      <td>-83000</td>\n",
       "      <td>-62600</td>\n",
       "      <td>-46200</td>\n",
       "      <td>-7800</td>\n",
       "      <td>-14300</td>\n",
       "      <td>-143100</td>\n",
       "      <td>-20600</td>\n",
       "      <td>-11900</td>\n",
       "      <td>-5300</td>\n",
       "      <td>0</td>\n",
       "    </tr>\n",
       "  </tbody>\n",
       "</table>\n",
       "</div>"
      ],
      "text/plain": [
       "                   P47T_hogar                                          \\\n",
       "                         mean    min    25%     50%     75%       max   \n",
       "Pobreza Indigencia                                                      \n",
       "False   False          177900  13700  74400  106800  152200  18664500   \n",
       "True    False           58000   6000  38800   53400   71500    571700   \n",
       "        True            22300      0  11300   20700   31500    136300   \n",
       "\n",
       "                   gap_pobreza                                         \\\n",
       "                          mean     min    25%    50%    75%       max   \n",
       "Pobreza Indigencia                                                      \n",
       "False   False            94700       0  18800  42300  81900  12078800   \n",
       "True    False           -26000 -256800 -36700 -21900 -10500         0   \n",
       "        True            -67900 -391500 -83000 -62600 -46200     -7800   \n",
       "\n",
       "                   gap_indigencia                                          \n",
       "                             mean     min    25%    50%     75%       max  \n",
       "Pobreza Indigencia                                                         \n",
       "False   False              144300    7700  53400  80400  122700  16012500  \n",
       "True    False               24100       0  10500  20900   34000    337600  \n",
       "        True               -14300 -143100 -20600 -11900   -5300         0  "
      ]
     },
     "execution_count": 56,
     "metadata": {},
     "output_type": "execute_result"
    }
   ],
   "source": [
    "## Brecha\n",
    "np.round(100*(ITF['CBT']/ITF['P47T_hogar'] - 1), 1)\n",
    "\n",
    "## Descripcion Brecha\n",
    "desc = data_AGLO.groupby(['Pobreza', 'Indigencia'])[['P47T_hogar', 'gap_pobreza', 'gap_indigencia']].describe().round(-2).astype(int)\n",
    "desc.T.loc[desc.columns.get_level_values(1).isin(['mean', 'min', '25%', '50%', '75%', 'max'])].T"
   ]
  },
  {
   "cell_type": "markdown",
   "metadata": {},
   "source": [
    "### Poblacion en Indigencia"
   ]
  },
  {
   "cell_type": "code",
   "execution_count": 63,
   "metadata": {},
   "outputs": [
    {
     "data": {
      "text/html": [
       "<div>\n",
       "<style scoped>\n",
       "    .dataframe tbody tr th:only-of-type {\n",
       "        vertical-align: middle;\n",
       "    }\n",
       "\n",
       "    .dataframe tbody tr th {\n",
       "        vertical-align: top;\n",
       "    }\n",
       "\n",
       "    .dataframe thead th {\n",
       "        text-align: right;\n",
       "    }\n",
       "</style>\n",
       "<table border=\"1\" class=\"dataframe\">\n",
       "  <thead>\n",
       "    <tr style=\"text-align: right;\">\n",
       "      <th>Q</th>\n",
       "      <th>2019-03-31</th>\n",
       "      <th>2019-06-30</th>\n",
       "      <th>2019-09-30</th>\n",
       "      <th>2019-12-31</th>\n",
       "    </tr>\n",
       "    <tr>\n",
       "      <th>Indigencia</th>\n",
       "      <th></th>\n",
       "      <th></th>\n",
       "      <th></th>\n",
       "      <th></th>\n",
       "    </tr>\n",
       "  </thead>\n",
       "  <tbody>\n",
       "    <tr>\n",
       "      <th>False</th>\n",
       "      <td>6140000</td>\n",
       "      <td>6130000</td>\n",
       "      <td>6120000</td>\n",
       "      <td>6030000</td>\n",
       "    </tr>\n",
       "    <tr>\n",
       "      <th>True</th>\n",
       "      <td>800000</td>\n",
       "      <td>810000</td>\n",
       "      <td>820000</td>\n",
       "      <td>910000</td>\n",
       "    </tr>\n",
       "  </tbody>\n",
       "</table>\n",
       "</div>"
      ],
      "text/plain": [
       "Q           2019-03-31  2019-06-30  2019-09-30  2019-12-31\n",
       "Indigencia                                                \n",
       "False          6140000     6130000     6120000     6030000\n",
       "True            800000      810000      820000      910000"
      ]
     },
     "execution_count": 63,
     "metadata": {},
     "output_type": "execute_result"
    }
   ],
   "source": [
    "## Personas\n",
    "### Cantidad\n",
    "pob_cnt = (data.loc[data.AGLO_si].groupby(['Indigencia', 'Q']).size()/frac/4)\n",
    "pob_cnt.round(-4).astype(int).unstack()"
   ]
  },
  {
   "cell_type": "code",
   "execution_count": 58,
   "metadata": {},
   "outputs": [
    {
     "data": {
      "text/plain": [
       "Indigencia\n",
       "False    88.0\n",
       "True     12.0\n",
       "dtype: float64"
      ]
     },
     "execution_count": 58,
     "metadata": {},
     "output_type": "execute_result"
    }
   ],
   "source": [
    "### Porcentaje\n",
    "(100*pob_cnt/pob_cnt.sum()).round(1)"
   ]
  },
  {
   "cell_type": "code",
   "execution_count": 61,
   "metadata": {},
   "outputs": [
    {
     "data": {
      "text/html": [
       "<div>\n",
       "<style scoped>\n",
       "    .dataframe tbody tr th:only-of-type {\n",
       "        vertical-align: middle;\n",
       "    }\n",
       "\n",
       "    .dataframe tbody tr th {\n",
       "        vertical-align: top;\n",
       "    }\n",
       "\n",
       "    .dataframe thead th {\n",
       "        text-align: right;\n",
       "    }\n",
       "</style>\n",
       "<table border=\"1\" class=\"dataframe\">\n",
       "  <thead>\n",
       "    <tr style=\"text-align: right;\">\n",
       "      <th>Q</th>\n",
       "      <th>2019-03-31</th>\n",
       "      <th>2019-06-30</th>\n",
       "      <th>2019-09-30</th>\n",
       "      <th>2019-12-31</th>\n",
       "    </tr>\n",
       "    <tr>\n",
       "      <th>Indigencia</th>\n",
       "      <th></th>\n",
       "      <th></th>\n",
       "      <th></th>\n",
       "      <th></th>\n",
       "    </tr>\n",
       "  </thead>\n",
       "  <tbody>\n",
       "    <tr>\n",
       "      <th>False</th>\n",
       "      <td>7800000</td>\n",
       "      <td>7780000</td>\n",
       "      <td>7780000</td>\n",
       "      <td>7720000</td>\n",
       "    </tr>\n",
       "    <tr>\n",
       "      <th>True</th>\n",
       "      <td>730000</td>\n",
       "      <td>750000</td>\n",
       "      <td>750000</td>\n",
       "      <td>820000</td>\n",
       "    </tr>\n",
       "  </tbody>\n",
       "</table>\n",
       "</div>"
      ],
      "text/plain": [
       "Q           2019-03-31  2019-06-30  2019-09-30  2019-12-31\n",
       "Indigencia                                                \n",
       "False          7800000     7780000     7780000     7720000\n",
       "True            730000      750000      750000      820000"
      ]
     },
     "execution_count": 61,
     "metadata": {},
     "output_type": "execute_result"
    }
   ],
   "source": [
    "## Hogares\n",
    "### Cantidad\n",
    "pob_cnt = data.loc[data.AGLO_si].groupby(['Indigencia', 'Q'])['HOGAR_REF_ID'].nunique()/frac\n",
    "\n",
    "pob_cnt.round(-4).astype(int).unstack()"
   ]
  },
  {
   "cell_type": "code",
   "execution_count": 65,
   "metadata": {},
   "outputs": [
    {
     "data": {
      "text/html": [
       "<div>\n",
       "<style scoped>\n",
       "    .dataframe tbody tr th:only-of-type {\n",
       "        vertical-align: middle;\n",
       "    }\n",
       "\n",
       "    .dataframe tbody tr th {\n",
       "        vertical-align: top;\n",
       "    }\n",
       "\n",
       "    .dataframe thead th {\n",
       "        text-align: right;\n",
       "    }\n",
       "</style>\n",
       "<table border=\"1\" class=\"dataframe\">\n",
       "  <thead>\n",
       "    <tr style=\"text-align: right;\">\n",
       "      <th>Q</th>\n",
       "      <th>2019-03-31</th>\n",
       "      <th>2019-06-30</th>\n",
       "      <th>2019-09-30</th>\n",
       "      <th>2019-12-31</th>\n",
       "    </tr>\n",
       "    <tr>\n",
       "      <th>Indigencia</th>\n",
       "      <th></th>\n",
       "      <th></th>\n",
       "      <th></th>\n",
       "      <th></th>\n",
       "    </tr>\n",
       "  </thead>\n",
       "  <tbody>\n",
       "    <tr>\n",
       "      <th>False</th>\n",
       "      <td>22.1</td>\n",
       "      <td>22.1</td>\n",
       "      <td>22.1</td>\n",
       "      <td>21.7</td>\n",
       "    </tr>\n",
       "    <tr>\n",
       "      <th>True</th>\n",
       "      <td>2.9</td>\n",
       "      <td>2.9</td>\n",
       "      <td>2.9</td>\n",
       "      <td>3.3</td>\n",
       "    </tr>\n",
       "  </tbody>\n",
       "</table>\n",
       "</div>"
      ],
      "text/plain": [
       "Q           2019-03-31  2019-06-30  2019-09-30  2019-12-31\n",
       "Indigencia                                                \n",
       "False             22.1        22.1        22.1        21.7\n",
       "True               2.9         2.9         2.9         3.3"
      ]
     },
     "execution_count": 65,
     "metadata": {},
     "output_type": "execute_result"
    }
   ],
   "source": [
    "### Porcentaje\n",
    "(100*pob_cnt/pob_cnt.sum()).round(1).unstack()"
   ]
  },
  {
   "cell_type": "markdown",
   "metadata": {},
   "source": [
    "#### Otras caracteristicas de hogares en indigencia"
   ]
  },
  {
   "cell_type": "code",
   "execution_count": 67,
   "metadata": {},
   "outputs": [
    {
     "data": {
      "text/plain": [
       "4.360724552463086"
      ]
     },
     "execution_count": 67,
     "metadata": {},
     "output_type": "execute_result"
    }
   ],
   "source": [
    "data_AGLO = data.loc[data.AGLO_si]\n",
    "\n",
    "# Tamaño promedio del hogar\n",
    "data_AGLO.loc[data_AGLO.Indigencia].groupby(['HOGAR_REF_ID', 'Q']).size().mean()\n",
    "\n",
    "# df = pd.read_csv('./../data/training/EPHARG_train_20.csv')\n",
    "# df.head()#.groupby(['CODUSU', 'TRIMESTRE']).size().mean()"
   ]
  },
  {
   "cell_type": "code",
   "execution_count": 68,
   "metadata": {},
   "outputs": [
    {
     "data": {
      "text/plain": [
       "P47T_hogar    15300.0\n",
       "CBA           25600.0\n",
       "dtype: float64"
      ]
     },
     "execution_count": 68,
     "metadata": {},
     "output_type": "execute_result"
    }
   ],
   "source": [
    "# 'Ingreso total familiar promedio' y 'Canasta básica total promedio del hogar'\n",
    "ITF = data_AGLO.loc[data_AGLO.Indigencia][['HOGAR_REF_ID', 'P47T_hogar', 'CBA']].drop_duplicates().drop('HOGAR_REF_ID', axis = 1).mean()\n",
    "np.round(ITF/ix, -2)\n",
    "\n",
    "# ITF_pond = data.loc[data.Pobreza].P47T_hogar.mean()\n",
    "# np.round(ITF_pond/ix, -2)"
   ]
  },
  {
   "cell_type": "markdown",
   "metadata": {},
   "source": [
    "## Pobres no indigentes, y no pobres."
   ]
  },
  {
   "cell_type": "code",
   "execution_count": 72,
   "metadata": {},
   "outputs": [
    {
     "data": {
      "text/html": [
       "<div>\n",
       "<style scoped>\n",
       "    .dataframe tbody tr th:only-of-type {\n",
       "        vertical-align: middle;\n",
       "    }\n",
       "\n",
       "    .dataframe tbody tr th {\n",
       "        vertical-align: top;\n",
       "    }\n",
       "\n",
       "    .dataframe thead th {\n",
       "        text-align: right;\n",
       "    }\n",
       "</style>\n",
       "<table border=\"1\" class=\"dataframe\">\n",
       "  <thead>\n",
       "    <tr style=\"text-align: right;\">\n",
       "      <th></th>\n",
       "      <th>Q</th>\n",
       "      <th>2019-03-31</th>\n",
       "      <th>2019-06-30</th>\n",
       "      <th>2019-09-30</th>\n",
       "      <th>2019-12-31</th>\n",
       "    </tr>\n",
       "    <tr>\n",
       "      <th>Pobreza</th>\n",
       "      <th>Indigencia</th>\n",
       "      <th></th>\n",
       "      <th></th>\n",
       "      <th></th>\n",
       "      <th></th>\n",
       "    </tr>\n",
       "  </thead>\n",
       "  <tbody>\n",
       "    <tr>\n",
       "      <th>False</th>\n",
       "      <th>False</th>\n",
       "      <td>16940000</td>\n",
       "      <td>15520000</td>\n",
       "      <td>16790000</td>\n",
       "      <td>15110000</td>\n",
       "    </tr>\n",
       "    <tr>\n",
       "      <th rowspan=\"2\" valign=\"top\">True</th>\n",
       "      <th>False</th>\n",
       "      <td>7630000</td>\n",
       "      <td>8990000</td>\n",
       "      <td>7700000</td>\n",
       "      <td>9030000</td>\n",
       "    </tr>\n",
       "    <tr>\n",
       "      <th>True</th>\n",
       "      <td>3200000</td>\n",
       "      <td>3260000</td>\n",
       "      <td>3270000</td>\n",
       "      <td>3630000</td>\n",
       "    </tr>\n",
       "  </tbody>\n",
       "</table>\n",
       "</div>"
      ],
      "text/plain": [
       "Q                   2019-03-31  2019-06-30  2019-09-30  2019-12-31\n",
       "Pobreza Indigencia                                                \n",
       "False   False         16940000    15520000    16790000    15110000\n",
       "True    False          7630000     8990000     7700000     9030000\n",
       "        True           3200000     3260000     3270000     3630000"
      ]
     },
     "execution_count": 72,
     "metadata": {},
     "output_type": "execute_result"
    }
   ],
   "source": [
    "data_AGLO = data.loc[data.AGLO_si]\n",
    "\n",
    "## Personas\n",
    "### Cantidad\n",
    "pob_cnt = data_AGLO.groupby(['Pobreza', 'Indigencia', 'Q']).size()/frac\n",
    "pob_cnt.round(-4).astype(int).unstack()"
   ]
  },
  {
   "cell_type": "code",
   "execution_count": 75,
   "metadata": {},
   "outputs": [
    {
     "data": {
      "text/html": [
       "<div>\n",
       "<style scoped>\n",
       "    .dataframe tbody tr th:only-of-type {\n",
       "        vertical-align: middle;\n",
       "    }\n",
       "\n",
       "    .dataframe tbody tr th {\n",
       "        vertical-align: top;\n",
       "    }\n",
       "\n",
       "    .dataframe thead th {\n",
       "        text-align: right;\n",
       "    }\n",
       "</style>\n",
       "<table border=\"1\" class=\"dataframe\">\n",
       "  <thead>\n",
       "    <tr style=\"text-align: right;\">\n",
       "      <th></th>\n",
       "      <th>Q</th>\n",
       "      <th>2019-03-31</th>\n",
       "      <th>2019-06-30</th>\n",
       "      <th>2019-09-30</th>\n",
       "      <th>2019-12-31</th>\n",
       "    </tr>\n",
       "    <tr>\n",
       "      <th>Pobreza</th>\n",
       "      <th>Indigencia</th>\n",
       "      <th></th>\n",
       "      <th></th>\n",
       "      <th></th>\n",
       "      <th></th>\n",
       "    </tr>\n",
       "  </thead>\n",
       "  <tbody>\n",
       "    <tr>\n",
       "      <th>False</th>\n",
       "      <th>False</th>\n",
       "      <td>60.8</td>\n",
       "      <td>56.0</td>\n",
       "      <td>60.4</td>\n",
       "      <td>54.4</td>\n",
       "    </tr>\n",
       "    <tr>\n",
       "      <th rowspan=\"2\" valign=\"top\">True</th>\n",
       "      <th>False</th>\n",
       "      <td>27.6</td>\n",
       "      <td>32.4</td>\n",
       "      <td>27.6</td>\n",
       "      <td>32.4</td>\n",
       "    </tr>\n",
       "    <tr>\n",
       "      <th>True</th>\n",
       "      <td>11.6</td>\n",
       "      <td>11.6</td>\n",
       "      <td>11.6</td>\n",
       "      <td>13.2</td>\n",
       "    </tr>\n",
       "  </tbody>\n",
       "</table>\n",
       "</div>"
      ],
      "text/plain": [
       "Q                   2019-03-31  2019-06-30  2019-09-30  2019-12-31\n",
       "Pobreza Indigencia                                                \n",
       "False   False             60.8        56.0        60.4        54.4\n",
       "True    False             27.6        32.4        27.6        32.4\n",
       "        True              11.6        11.6        11.6        13.2"
      ]
     },
     "execution_count": 75,
     "metadata": {},
     "output_type": "execute_result"
    }
   ],
   "source": [
    "### Porcentaje\n",
    "4*(100*pob_cnt/pob_cnt.sum()).round(1).unstack()"
   ]
  },
  {
   "cell_type": "code",
   "execution_count": 77,
   "metadata": {},
   "outputs": [
    {
     "data": {
      "text/html": [
       "<div>\n",
       "<style scoped>\n",
       "    .dataframe tbody tr th:only-of-type {\n",
       "        vertical-align: middle;\n",
       "    }\n",
       "\n",
       "    .dataframe tbody tr th {\n",
       "        vertical-align: top;\n",
       "    }\n",
       "\n",
       "    .dataframe thead th {\n",
       "        text-align: right;\n",
       "    }\n",
       "</style>\n",
       "<table border=\"1\" class=\"dataframe\">\n",
       "  <thead>\n",
       "    <tr style=\"text-align: right;\">\n",
       "      <th></th>\n",
       "      <th>Q</th>\n",
       "      <th>2019-03-31</th>\n",
       "      <th>2019-06-30</th>\n",
       "      <th>2019-09-30</th>\n",
       "      <th>2019-12-31</th>\n",
       "    </tr>\n",
       "    <tr>\n",
       "      <th>Pobreza</th>\n",
       "      <th>Indigencia</th>\n",
       "      <th></th>\n",
       "      <th></th>\n",
       "      <th></th>\n",
       "      <th></th>\n",
       "    </tr>\n",
       "  </thead>\n",
       "  <tbody>\n",
       "    <tr>\n",
       "      <th>False</th>\n",
       "      <th>False</th>\n",
       "      <td>5960000</td>\n",
       "      <td>5540000</td>\n",
       "      <td>5920000</td>\n",
       "      <td>5500000</td>\n",
       "    </tr>\n",
       "    <tr>\n",
       "      <th rowspan=\"2\" valign=\"top\">True</th>\n",
       "      <th>False</th>\n",
       "      <td>1840000</td>\n",
       "      <td>2240000</td>\n",
       "      <td>1860000</td>\n",
       "      <td>2210000</td>\n",
       "    </tr>\n",
       "    <tr>\n",
       "      <th>True</th>\n",
       "      <td>730000</td>\n",
       "      <td>750000</td>\n",
       "      <td>750000</td>\n",
       "      <td>820000</td>\n",
       "    </tr>\n",
       "  </tbody>\n",
       "</table>\n",
       "</div>"
      ],
      "text/plain": [
       "Q                   2019-03-31  2019-06-30  2019-09-30  2019-12-31\n",
       "Pobreza Indigencia                                                \n",
       "False   False          5960000     5540000     5920000     5500000\n",
       "True    False          1840000     2240000     1860000     2210000\n",
       "        True            730000      750000      750000      820000"
      ]
     },
     "execution_count": 77,
     "metadata": {},
     "output_type": "execute_result"
    }
   ],
   "source": [
    "## Hogares\n",
    "### Cantidad\n",
    "pob_cnt = data_AGLO.groupby(['Pobreza', 'Indigencia', 'Q'])['HOGAR_REF_ID'].nunique()/frac\n",
    "pob_cnt.round(-4).astype(int).unstack()"
   ]
  },
  {
   "cell_type": "code",
   "execution_count": 79,
   "metadata": {},
   "outputs": [
    {
     "data": {
      "text/html": [
       "<div>\n",
       "<style scoped>\n",
       "    .dataframe tbody tr th:only-of-type {\n",
       "        vertical-align: middle;\n",
       "    }\n",
       "\n",
       "    .dataframe tbody tr th {\n",
       "        vertical-align: top;\n",
       "    }\n",
       "\n",
       "    .dataframe thead th {\n",
       "        text-align: right;\n",
       "    }\n",
       "</style>\n",
       "<table border=\"1\" class=\"dataframe\">\n",
       "  <thead>\n",
       "    <tr style=\"text-align: right;\">\n",
       "      <th></th>\n",
       "      <th>Q</th>\n",
       "      <th>2019-03-31</th>\n",
       "      <th>2019-06-30</th>\n",
       "      <th>2019-09-30</th>\n",
       "      <th>2019-12-31</th>\n",
       "    </tr>\n",
       "    <tr>\n",
       "      <th>Pobreza</th>\n",
       "      <th>Indigencia</th>\n",
       "      <th></th>\n",
       "      <th></th>\n",
       "      <th></th>\n",
       "      <th></th>\n",
       "    </tr>\n",
       "  </thead>\n",
       "  <tbody>\n",
       "    <tr>\n",
       "      <th>False</th>\n",
       "      <th>False</th>\n",
       "      <td>70.0</td>\n",
       "      <td>64.8</td>\n",
       "      <td>69.2</td>\n",
       "      <td>64.4</td>\n",
       "    </tr>\n",
       "    <tr>\n",
       "      <th rowspan=\"2\" valign=\"top\">True</th>\n",
       "      <th>False</th>\n",
       "      <td>21.6</td>\n",
       "      <td>26.4</td>\n",
       "      <td>22.0</td>\n",
       "      <td>26.0</td>\n",
       "    </tr>\n",
       "    <tr>\n",
       "      <th>True</th>\n",
       "      <td>8.4</td>\n",
       "      <td>8.8</td>\n",
       "      <td>8.8</td>\n",
       "      <td>9.6</td>\n",
       "    </tr>\n",
       "  </tbody>\n",
       "</table>\n",
       "</div>"
      ],
      "text/plain": [
       "Q                   2019-03-31  2019-06-30  2019-09-30  2019-12-31\n",
       "Pobreza Indigencia                                                \n",
       "False   False             70.0        64.8        69.2        64.4\n",
       "True    False             21.6        26.4        22.0        26.0\n",
       "        True               8.4         8.8         8.8         9.6"
      ]
     },
     "execution_count": 79,
     "metadata": {},
     "output_type": "execute_result"
    }
   ],
   "source": [
    "### Porcentaje\n",
    "4*(100*pob_cnt/pob_cnt.sum()).round(1).unstack()"
   ]
  },
  {
   "cell_type": "markdown",
   "metadata": {},
   "source": [
    "## Por grupo etario"
   ]
  },
  {
   "cell_type": "code",
   "execution_count": 28,
   "metadata": {},
   "outputs": [],
   "source": [
    "import matplotlib.pyplot as plt\n",
    "%matplotlib inline"
   ]
  },
  {
   "cell_type": "code",
   "execution_count": 29,
   "metadata": {},
   "outputs": [],
   "source": [
    "info = 100*data.groupby(['Grupo Etario'])[['Pobreza', 'Indigencia']].sum().div(data.groupby(['Grupo Etario']).size(), 0)"
   ]
  },
  {
   "cell_type": "code",
   "execution_count": 30,
   "metadata": {},
   "outputs": [
    {
     "data": {
      "image/png": "[encoded data removed]",
      "text/plain": [
       "<Figure size 720x360 with 1 Axes>"
      ]
     },
     "metadata": {
      "needs_background": "light"
     },
     "output_type": "display_data"
    }
   ],
   "source": [
    "info.plot(kind = 'bar', figsize = (10, 5))\n",
    "plt.show()"
   ]
  },
  {
   "cell_type": "markdown",
   "metadata": {},
   "source": [
    "## Geografica"
   ]
  },
  {
   "cell_type": "code",
   "execution_count": 31,
   "metadata": {},
   "outputs": [],
   "source": [
    "data_AGLO = data.loc[data.AGLO_si].reset_index().rename(columns = {'index': 'PERSONA_ID'})"
   ]
  },
  {
   "cell_type": "code",
   "execution_count": 32,
   "metadata": {},
   "outputs": [
    {
     "data": {
      "text/html": [
       "<div>\n",
       "<style scoped>\n",
       "    .dataframe tbody tr th:only-of-type {\n",
       "        vertical-align: middle;\n",
       "    }\n",
       "\n",
       "    .dataframe tbody tr th {\n",
       "        vertical-align: top;\n",
       "    }\n",
       "\n",
       "    .dataframe thead th {\n",
       "        text-align: right;\n",
       "    }\n",
       "</style>\n",
       "<table border=\"1\" class=\"dataframe\">\n",
       "  <thead>\n",
       "    <tr style=\"text-align: right;\">\n",
       "      <th></th>\n",
       "      <th></th>\n",
       "      <th>HOGAR_REF_ID</th>\n",
       "      <th>PERSONA_ID</th>\n",
       "    </tr>\n",
       "    <tr>\n",
       "      <th>Pobreza</th>\n",
       "      <th>Indigencia</th>\n",
       "      <th></th>\n",
       "      <th></th>\n",
       "    </tr>\n",
       "  </thead>\n",
       "  <tbody>\n",
       "    <tr>\n",
       "      <th>False</th>\n",
       "      <th>False</th>\n",
       "      <td>70.7</td>\n",
       "      <td>60.7</td>\n",
       "    </tr>\n",
       "    <tr>\n",
       "      <th rowspan=\"2\" valign=\"top\">True</th>\n",
       "      <th>False</th>\n",
       "      <td>22.6</td>\n",
       "      <td>29.9</td>\n",
       "    </tr>\n",
       "    <tr>\n",
       "      <th>True</th>\n",
       "      <td>6.8</td>\n",
       "      <td>9.4</td>\n",
       "    </tr>\n",
       "  </tbody>\n",
       "</table>\n",
       "</div>"
      ],
      "text/plain": [
       "                    HOGAR_REF_ID  PERSONA_ID\n",
       "Pobreza Indigencia                          \n",
       "False   False               70.7        60.7\n",
       "True    False               22.6        29.9\n",
       "        True                 6.8         9.4"
      ]
     },
     "execution_count": 32,
     "metadata": {},
     "output_type": "execute_result"
    }
   ],
   "source": [
    "info_ARG = data_AGLO.groupby(['Pobreza','Indigencia'])[['HOGAR_REF_ID', 'PERSONA_ID']].nunique()\n",
    "(100*info_ARG/info_ARG.sum()).round(1)"
   ]
  },
  {
   "cell_type": "markdown",
   "metadata": {},
   "source": [
    "### Por regiones"
   ]
  },
  {
   "cell_type": "code",
   "execution_count": 33,
   "metadata": {},
   "outputs": [
    {
     "data": {
      "text/html": [
       "<div>\n",
       "<style scoped>\n",
       "    .dataframe tbody tr th:only-of-type {\n",
       "        vertical-align: middle;\n",
       "    }\n",
       "\n",
       "    .dataframe tbody tr th {\n",
       "        vertical-align: top;\n",
       "    }\n",
       "\n",
       "    .dataframe thead tr th {\n",
       "        text-align: left;\n",
       "    }\n",
       "\n",
       "    .dataframe thead tr:last-of-type th {\n",
       "        text-align: right;\n",
       "    }\n",
       "</style>\n",
       "<table border=\"1\" class=\"dataframe\">\n",
       "  <thead>\n",
       "    <tr>\n",
       "      <th>Pobreza</th>\n",
       "      <th>False</th>\n",
       "      <th colspan=\"2\" halign=\"left\">True</th>\n",
       "    </tr>\n",
       "    <tr>\n",
       "      <th>Indigencia</th>\n",
       "      <th>False</th>\n",
       "      <th>False</th>\n",
       "      <th>True</th>\n",
       "    </tr>\n",
       "    <tr>\n",
       "      <th>Region</th>\n",
       "      <th></th>\n",
       "      <th></th>\n",
       "      <th></th>\n",
       "    </tr>\n",
       "  </thead>\n",
       "  <tbody>\n",
       "    <tr>\n",
       "      <th>Cuyo</th>\n",
       "      <td>64.4</td>\n",
       "      <td>28.2</td>\n",
       "      <td>7.4</td>\n",
       "    </tr>\n",
       "    <tr>\n",
       "      <th>Gran Buenos Aires</th>\n",
       "      <td>73.1</td>\n",
       "      <td>21.0</td>\n",
       "      <td>6.0</td>\n",
       "    </tr>\n",
       "    <tr>\n",
       "      <th>Noreste</th>\n",
       "      <td>60.4</td>\n",
       "      <td>28.3</td>\n",
       "      <td>11.2</td>\n",
       "    </tr>\n",
       "    <tr>\n",
       "      <th>Noroeste</th>\n",
       "      <td>63.7</td>\n",
       "      <td>26.1</td>\n",
       "      <td>10.2</td>\n",
       "    </tr>\n",
       "    <tr>\n",
       "      <th>Pampeana</th>\n",
       "      <td>70.4</td>\n",
       "      <td>22.8</td>\n",
       "      <td>6.8</td>\n",
       "    </tr>\n",
       "    <tr>\n",
       "      <th>Patagónica</th>\n",
       "      <td>76.2</td>\n",
       "      <td>19.9</td>\n",
       "      <td>3.9</td>\n",
       "    </tr>\n",
       "  </tbody>\n",
       "</table>\n",
       "</div>"
      ],
      "text/plain": [
       "Pobreza           False True       \n",
       "Indigencia        False False True \n",
       "Region                             \n",
       "Cuyo               64.4  28.2   7.4\n",
       "Gran Buenos Aires  73.1  21.0   6.0\n",
       "Noreste            60.4  28.3  11.2\n",
       "Noroeste           63.7  26.1  10.2\n",
       "Pampeana           70.4  22.8   6.8\n",
       "Patagónica         76.2  19.9   3.9"
      ]
     },
     "execution_count": 33,
     "metadata": {},
     "output_type": "execute_result"
    }
   ],
   "source": [
    "info_ARG = data_AGLO.groupby(['Region', 'Pobreza','Indigencia'])[['HOGAR_REF_ID', 'PERSONA_ID']].nunique()\n",
    "\n",
    "# Hogares\n",
    "cuadro_H = (100*info_ARG.unstack([-2, -1]).div(data_AGLO.groupby('Region')['HOGAR_REF_ID'].nunique(), 0)).round(1)['HOGAR_REF_ID']\n",
    "cuadro_H"
   ]
  },
  {
   "cell_type": "code",
   "execution_count": 34,
   "metadata": {},
   "outputs": [
    {
     "data": {
      "text/html": [
       "<div>\n",
       "<style scoped>\n",
       "    .dataframe tbody tr th:only-of-type {\n",
       "        vertical-align: middle;\n",
       "    }\n",
       "\n",
       "    .dataframe tbody tr th {\n",
       "        vertical-align: top;\n",
       "    }\n",
       "\n",
       "    .dataframe thead tr th {\n",
       "        text-align: left;\n",
       "    }\n",
       "\n",
       "    .dataframe thead tr:last-of-type th {\n",
       "        text-align: right;\n",
       "    }\n",
       "</style>\n",
       "<table border=\"1\" class=\"dataframe\">\n",
       "  <thead>\n",
       "    <tr>\n",
       "      <th>Pobreza</th>\n",
       "      <th>False</th>\n",
       "      <th colspan=\"2\" halign=\"left\">True</th>\n",
       "    </tr>\n",
       "    <tr>\n",
       "      <th>Indigencia</th>\n",
       "      <th>False</th>\n",
       "      <th>False</th>\n",
       "      <th>True</th>\n",
       "    </tr>\n",
       "    <tr>\n",
       "      <th>Region</th>\n",
       "      <th></th>\n",
       "      <th></th>\n",
       "      <th></th>\n",
       "    </tr>\n",
       "  </thead>\n",
       "  <tbody>\n",
       "    <tr>\n",
       "      <th>Cuyo</th>\n",
       "      <td>55.8</td>\n",
       "      <td>34.8</td>\n",
       "      <td>9.3</td>\n",
       "    </tr>\n",
       "    <tr>\n",
       "      <th>Gran Buenos Aires</th>\n",
       "      <td>63.1</td>\n",
       "      <td>28.5</td>\n",
       "      <td>8.4</td>\n",
       "    </tr>\n",
       "    <tr>\n",
       "      <th>Noreste</th>\n",
       "      <td>50.6</td>\n",
       "      <td>34.8</td>\n",
       "      <td>14.6</td>\n",
       "    </tr>\n",
       "    <tr>\n",
       "      <th>Noroeste</th>\n",
       "      <td>55.1</td>\n",
       "      <td>31.8</td>\n",
       "      <td>13.1</td>\n",
       "    </tr>\n",
       "    <tr>\n",
       "      <th>Pampeana</th>\n",
       "      <td>60.1</td>\n",
       "      <td>30.3</td>\n",
       "      <td>9.6</td>\n",
       "    </tr>\n",
       "    <tr>\n",
       "      <th>Patagónica</th>\n",
       "      <td>68.4</td>\n",
       "      <td>26.5</td>\n",
       "      <td>5.1</td>\n",
       "    </tr>\n",
       "  </tbody>\n",
       "</table>\n",
       "</div>"
      ],
      "text/plain": [
       "Pobreza           False True       \n",
       "Indigencia        False False True \n",
       "Region                             \n",
       "Cuyo               55.8  34.8   9.3\n",
       "Gran Buenos Aires  63.1  28.5   8.4\n",
       "Noreste            50.6  34.8  14.6\n",
       "Noroeste           55.1  31.8  13.1\n",
       "Pampeana           60.1  30.3   9.6\n",
       "Patagónica         68.4  26.5   5.1"
      ]
     },
     "execution_count": 34,
     "metadata": {},
     "output_type": "execute_result"
    }
   ],
   "source": [
    "# Personas\n",
    "cuadro_P = (100*info_ARG.unstack([-2, -1]).div(data_AGLO.groupby('Region')['PERSONA_ID'].nunique(), 0)).round(1)['PERSONA_ID']\n",
    "cuadro_P\n"
   ]
  },
  {
   "cell_type": "markdown",
   "metadata": {},
   "source": [
    "### Por Aglomerados"
   ]
  },
  {
   "cell_type": "code",
   "execution_count": 35,
   "metadata": {},
   "outputs": [
    {
     "data": {
      "text/html": [
       "<div>\n",
       "<style scoped>\n",
       "    .dataframe tbody tr th:only-of-type {\n",
       "        vertical-align: middle;\n",
       "    }\n",
       "\n",
       "    .dataframe tbody tr th {\n",
       "        vertical-align: top;\n",
       "    }\n",
       "\n",
       "    .dataframe thead th {\n",
       "        text-align: right;\n",
       "    }\n",
       "</style>\n",
       "<table border=\"1\" class=\"dataframe\">\n",
       "  <thead>\n",
       "    <tr style=\"text-align: right;\">\n",
       "      <th></th>\n",
       "      <th></th>\n",
       "      <th>No Pobres</th>\n",
       "      <th>Pobres no I.</th>\n",
       "      <th>Indigentes</th>\n",
       "      <th>Pobres</th>\n",
       "    </tr>\n",
       "    <tr>\n",
       "      <th>Region</th>\n",
       "      <th>NOMAGLO</th>\n",
       "      <th></th>\n",
       "      <th></th>\n",
       "      <th></th>\n",
       "      <th></th>\n",
       "    </tr>\n",
       "  </thead>\n",
       "  <tbody>\n",
       "    <tr>\n",
       "      <th rowspan=\"4\" valign=\"top\">Cuyo</th>\n",
       "      <th>La Rioja</th>\n",
       "      <td>56.8</td>\n",
       "      <td>34.3</td>\n",
       "      <td>8.8</td>\n",
       "      <td>43.1</td>\n",
       "    </tr>\n",
       "    <tr>\n",
       "      <th>Mendoza</th>\n",
       "      <td>68.1</td>\n",
       "      <td>26.2</td>\n",
       "      <td>5.7</td>\n",
       "      <td>31.9</td>\n",
       "    </tr>\n",
       "    <tr>\n",
       "      <th>San Juan</th>\n",
       "      <td>59.5</td>\n",
       "      <td>29.7</td>\n",
       "      <td>10.8</td>\n",
       "      <td>40.5</td>\n",
       "    </tr>\n",
       "    <tr>\n",
       "      <th>San Luis</th>\n",
       "      <td>63.3</td>\n",
       "      <td>28.9</td>\n",
       "      <td>7.8</td>\n",
       "      <td>36.7</td>\n",
       "    </tr>\n",
       "    <tr>\n",
       "      <th>Gran Buenos Aires</th>\n",
       "      <th>CABA</th>\n",
       "      <td>89.2</td>\n",
       "      <td>8.4</td>\n",
       "      <td>2.5</td>\n",
       "      <td>10.9</td>\n",
       "    </tr>\n",
       "  </tbody>\n",
       "</table>\n",
       "</div>"
      ],
      "text/plain": [
       "                            No Pobres  Pobres no I.  Indigentes  Pobres\n",
       "Region            NOMAGLO                                              \n",
       "Cuyo              La Rioja       56.8          34.3         8.8    43.1\n",
       "                  Mendoza        68.1          26.2         5.7    31.9\n",
       "                  San Juan       59.5          29.7        10.8    40.5\n",
       "                  San Luis       63.3          28.9         7.8    36.7\n",
       "Gran Buenos Aires CABA           89.2           8.4         2.5    10.9"
      ]
     },
     "execution_count": 35,
     "metadata": {},
     "output_type": "execute_result"
    }
   ],
   "source": [
    "info_ARG = data_AGLO.groupby(['Region', 'NOMAGLO', 'Pobreza','Indigencia'])[['HOGAR_REF_ID', 'PERSONA_ID']].nunique()\n",
    "\n",
    "# Hogares\n",
    "cuadro_H = (100*info_ARG.unstack([-2, -1]).div(data_AGLO.groupby(['Region', 'NOMAGLO'])['HOGAR_REF_ID'].nunique(), 0)).round(1)['HOGAR_REF_ID']\n",
    "pob_data = cuadro_H.T.loc[cuadro_H.columns.get_level_values('Pobreza')].T.sum(1)\n",
    "cuadro_H = pd.concat([cuadro_H, pob_data], axis = 1)\n",
    "cuadro_H.columns = ['No Pobres', 'Pobres no I.', 'Indigentes', 'Pobres']\n",
    "\n",
    "cuadro_H.head()"
   ]
  },
  {
   "cell_type": "code",
   "execution_count": 36,
   "metadata": {},
   "outputs": [
    {
     "data": {
      "text/html": [
       "<div>\n",
       "<style scoped>\n",
       "    .dataframe tbody tr th:only-of-type {\n",
       "        vertical-align: middle;\n",
       "    }\n",
       "\n",
       "    .dataframe tbody tr th {\n",
       "        vertical-align: top;\n",
       "    }\n",
       "\n",
       "    .dataframe thead th {\n",
       "        text-align: right;\n",
       "    }\n",
       "</style>\n",
       "<table border=\"1\" class=\"dataframe\">\n",
       "  <thead>\n",
       "    <tr style=\"text-align: right;\">\n",
       "      <th></th>\n",
       "      <th></th>\n",
       "      <th>No Pobres</th>\n",
       "      <th>Pobres no I.</th>\n",
       "      <th>Indigentes</th>\n",
       "      <th>Pobres</th>\n",
       "    </tr>\n",
       "    <tr>\n",
       "      <th>Region</th>\n",
       "      <th>NOMAGLO</th>\n",
       "      <th></th>\n",
       "      <th></th>\n",
       "      <th></th>\n",
       "      <th></th>\n",
       "    </tr>\n",
       "  </thead>\n",
       "  <tbody>\n",
       "    <tr>\n",
       "      <th rowspan=\"4\" valign=\"top\">Cuyo</th>\n",
       "      <th>La Rioja</th>\n",
       "      <td>48.2</td>\n",
       "      <td>41.1</td>\n",
       "      <td>10.7</td>\n",
       "      <td>51.8</td>\n",
       "    </tr>\n",
       "    <tr>\n",
       "      <th>Mendoza</th>\n",
       "      <td>58.9</td>\n",
       "      <td>33.8</td>\n",
       "      <td>7.3</td>\n",
       "      <td>41.1</td>\n",
       "    </tr>\n",
       "    <tr>\n",
       "      <th>San Juan</th>\n",
       "      <td>54.0</td>\n",
       "      <td>33.0</td>\n",
       "      <td>13.0</td>\n",
       "      <td>46.0</td>\n",
       "    </tr>\n",
       "    <tr>\n",
       "      <th>San Luis</th>\n",
       "      <td>52.1</td>\n",
       "      <td>38.1</td>\n",
       "      <td>9.7</td>\n",
       "      <td>47.8</td>\n",
       "    </tr>\n",
       "    <tr>\n",
       "      <th>Gran Buenos Aires</th>\n",
       "      <th>CABA</th>\n",
       "      <td>84.5</td>\n",
       "      <td>12.1</td>\n",
       "      <td>3.4</td>\n",
       "      <td>15.5</td>\n",
       "    </tr>\n",
       "  </tbody>\n",
       "</table>\n",
       "</div>"
      ],
      "text/plain": [
       "                            No Pobres  Pobres no I.  Indigentes  Pobres\n",
       "Region            NOMAGLO                                              \n",
       "Cuyo              La Rioja       48.2          41.1        10.7    51.8\n",
       "                  Mendoza        58.9          33.8         7.3    41.1\n",
       "                  San Juan       54.0          33.0        13.0    46.0\n",
       "                  San Luis       52.1          38.1         9.7    47.8\n",
       "Gran Buenos Aires CABA           84.5          12.1         3.4    15.5"
      ]
     },
     "execution_count": 36,
     "metadata": {},
     "output_type": "execute_result"
    }
   ],
   "source": [
    "# Personas\n",
    "info_ARG = data_AGLO.groupby(['Region', 'NOMAGLO', 'Pobreza','Indigencia'])[['HOGAR_REF_ID', 'PERSONA_ID']].nunique()\n",
    "\n",
    "# Hogares\n",
    "cuadro_P = (100*info_ARG.unstack([-2, -1]).div(data_AGLO.groupby(['Region', 'NOMAGLO'])['PERSONA_ID'].nunique(), 0)).round(1)['PERSONA_ID']\n",
    "\n",
    "pob_data = cuadro_P.T.loc[cuadro_P.columns.get_level_values('Pobreza')].T.sum(1)\n",
    "cuadro_P = pd.concat([cuadro_P, pob_data], axis = 1)\n",
    "cuadro_P.columns = ['No Pobres', 'Pobres no I.', 'Indigentes', 'Pobres']\n",
    "\n",
    "cuadro_P.head()"
   ]
  },
  {
   "cell_type": "code",
   "execution_count": 1,
   "metadata": {},
   "outputs": [
    {
     "ename": "NameError",
     "evalue": "name 'pd' is not defined",
     "output_type": "error",
     "traceback": [
      "\u001b[1;31m---------------------------------------------------------------------------\u001b[0m",
      "\u001b[1;31mNameError\u001b[0m                                 Traceback (most recent call last)",
      "\u001b[1;32m<ipython-input-1-f7b835cfd567>\u001b[0m in \u001b[0;36m<module>\u001b[1;34m\u001b[0m\n\u001b[1;32m----> 1\u001b[1;33m pd.concat([cuadro_H[['Pobres']], cuadro_P[['Pobres']], \n\u001b[0m\u001b[0;32m      2\u001b[0m           cuadro_H[['Indigentes']], cuadro_P[['Indigentes']]], axis = 1).round().astype(int)\n",
      "\u001b[1;31mNameError\u001b[0m: name 'pd' is not defined"
     ]
    }
   ],
   "source": [
    "pd.concat([cuadro_H[['Pobres']], cuadro_P[['Pobres']], \n",
    "          cuadro_H[['Indigentes']], cuadro_P[['Indigentes']]], axis = 1).round().astype(int)"
   ]
  },
  {
   "cell_type": "code",
   "execution_count": 37,
   "metadata": {},
   "outputs": [
    {
     "data": {
      "text/html": [
       "<div>\n",
       "<style scoped>\n",
       "    .dataframe tbody tr th:only-of-type {\n",
       "        vertical-align: middle;\n",
       "    }\n",
       "\n",
       "    .dataframe tbody tr th {\n",
       "        vertical-align: top;\n",
       "    }\n",
       "\n",
       "    .dataframe thead th {\n",
       "        text-align: right;\n",
       "    }\n",
       "</style>\n",
       "<table border=\"1\" class=\"dataframe\">\n",
       "  <thead>\n",
       "    <tr style=\"text-align: right;\">\n",
       "      <th></th>\n",
       "      <th></th>\n",
       "      <th>Pobres</th>\n",
       "      <th>Pobres</th>\n",
       "      <th>Indigentes</th>\n",
       "      <th>Indigentes</th>\n",
       "    </tr>\n",
       "    <tr>\n",
       "      <th>Region</th>\n",
       "      <th>NOMAGLO</th>\n",
       "      <th></th>\n",
       "      <th></th>\n",
       "      <th></th>\n",
       "      <th></th>\n",
       "    </tr>\n",
       "  </thead>\n",
       "  <tbody>\n",
       "    <tr>\n",
       "      <th rowspan=\"4\" valign=\"top\">Cuyo</th>\n",
       "      <th>La Rioja</th>\n",
       "      <td>43</td>\n",
       "      <td>52</td>\n",
       "      <td>9</td>\n",
       "      <td>11</td>\n",
       "    </tr>\n",
       "    <tr>\n",
       "      <th>Mendoza</th>\n",
       "      <td>32</td>\n",
       "      <td>41</td>\n",
       "      <td>6</td>\n",
       "      <td>7</td>\n",
       "    </tr>\n",
       "    <tr>\n",
       "      <th>San Juan</th>\n",
       "      <td>40</td>\n",
       "      <td>46</td>\n",
       "      <td>11</td>\n",
       "      <td>13</td>\n",
       "    </tr>\n",
       "    <tr>\n",
       "      <th>San Luis</th>\n",
       "      <td>37</td>\n",
       "      <td>48</td>\n",
       "      <td>8</td>\n",
       "      <td>10</td>\n",
       "    </tr>\n",
       "    <tr>\n",
       "      <th rowspan=\"2\" valign=\"top\">Gran Buenos Aires</th>\n",
       "      <th>CABA</th>\n",
       "      <td>11</td>\n",
       "      <td>16</td>\n",
       "      <td>2</td>\n",
       "      <td>3</td>\n",
       "    </tr>\n",
       "    <tr>\n",
       "      <th>GBA</th>\n",
       "      <td>33</td>\n",
       "      <td>42</td>\n",
       "      <td>7</td>\n",
       "      <td>10</td>\n",
       "    </tr>\n",
       "    <tr>\n",
       "      <th rowspan=\"4\" valign=\"top\">Noreste</th>\n",
       "      <th>Corrientes</th>\n",
       "      <td>39</td>\n",
       "      <td>48</td>\n",
       "      <td>11</td>\n",
       "      <td>14</td>\n",
       "    </tr>\n",
       "    <tr>\n",
       "      <th>Formosa</th>\n",
       "      <td>42</td>\n",
       "      <td>51</td>\n",
       "      <td>11</td>\n",
       "      <td>13</td>\n",
       "    </tr>\n",
       "    <tr>\n",
       "      <th>Posadas</th>\n",
       "      <td>37</td>\n",
       "      <td>48</td>\n",
       "      <td>11</td>\n",
       "      <td>15</td>\n",
       "    </tr>\n",
       "    <tr>\n",
       "      <th>Resistencia</th>\n",
       "      <td>41</td>\n",
       "      <td>51</td>\n",
       "      <td>12</td>\n",
       "      <td>15</td>\n",
       "    </tr>\n",
       "    <tr>\n",
       "      <th rowspan=\"5\" valign=\"top\">Noroeste</th>\n",
       "      <th>Catamarca</th>\n",
       "      <td>33</td>\n",
       "      <td>43</td>\n",
       "      <td>8</td>\n",
       "      <td>11</td>\n",
       "    </tr>\n",
       "    <tr>\n",
       "      <th>Jujuy</th>\n",
       "      <td>36</td>\n",
       "      <td>44</td>\n",
       "      <td>10</td>\n",
       "      <td>13</td>\n",
       "    </tr>\n",
       "    <tr>\n",
       "      <th>Salta</th>\n",
       "      <td>36</td>\n",
       "      <td>44</td>\n",
       "      <td>10</td>\n",
       "      <td>13</td>\n",
       "    </tr>\n",
       "    <tr>\n",
       "      <th>Sgo del Estero</th>\n",
       "      <td>39</td>\n",
       "      <td>47</td>\n",
       "      <td>10</td>\n",
       "      <td>13</td>\n",
       "    </tr>\n",
       "    <tr>\n",
       "      <th>Tucuman</th>\n",
       "      <td>36</td>\n",
       "      <td>45</td>\n",
       "      <td>11</td>\n",
       "      <td>14</td>\n",
       "    </tr>\n",
       "    <tr>\n",
       "      <th rowspan=\"13\" valign=\"top\">Pampeana</th>\n",
       "      <th>Bahia Blanca</th>\n",
       "      <td>22</td>\n",
       "      <td>31</td>\n",
       "      <td>4</td>\n",
       "      <td>6</td>\n",
       "    </tr>\n",
       "    <tr>\n",
       "      <th>Concordia</th>\n",
       "      <td>42</td>\n",
       "      <td>54</td>\n",
       "      <td>13</td>\n",
       "      <td>19</td>\n",
       "    </tr>\n",
       "    <tr>\n",
       "      <th>Cordoba</th>\n",
       "      <td>30</td>\n",
       "      <td>40</td>\n",
       "      <td>7</td>\n",
       "      <td>10</td>\n",
       "    </tr>\n",
       "    <tr>\n",
       "      <th>GBA</th>\n",
       "      <td>42</td>\n",
       "      <td>53</td>\n",
       "      <td>10</td>\n",
       "      <td>13</td>\n",
       "    </tr>\n",
       "    <tr>\n",
       "      <th>La Plata</th>\n",
       "      <td>22</td>\n",
       "      <td>31</td>\n",
       "      <td>4</td>\n",
       "      <td>6</td>\n",
       "    </tr>\n",
       "    <tr>\n",
       "      <th>Mar del Plata</th>\n",
       "      <td>25</td>\n",
       "      <td>35</td>\n",
       "      <td>5</td>\n",
       "      <td>6</td>\n",
       "    </tr>\n",
       "    <tr>\n",
       "      <th>Parana</th>\n",
       "      <td>30</td>\n",
       "      <td>39</td>\n",
       "      <td>7</td>\n",
       "      <td>9</td>\n",
       "    </tr>\n",
       "    <tr>\n",
       "      <th>Rio Cuarto</th>\n",
       "      <td>30</td>\n",
       "      <td>39</td>\n",
       "      <td>6</td>\n",
       "      <td>7</td>\n",
       "    </tr>\n",
       "    <tr>\n",
       "      <th>Rosario</th>\n",
       "      <td>29</td>\n",
       "      <td>40</td>\n",
       "      <td>7</td>\n",
       "      <td>10</td>\n",
       "    </tr>\n",
       "    <tr>\n",
       "      <th>San Nicolas</th>\n",
       "      <td>33</td>\n",
       "      <td>43</td>\n",
       "      <td>8</td>\n",
       "      <td>11</td>\n",
       "    </tr>\n",
       "    <tr>\n",
       "      <th>Santa Fe</th>\n",
       "      <td>30</td>\n",
       "      <td>41</td>\n",
       "      <td>8</td>\n",
       "      <td>12</td>\n",
       "    </tr>\n",
       "    <tr>\n",
       "      <th>Santa Rosa</th>\n",
       "      <td>24</td>\n",
       "      <td>34</td>\n",
       "      <td>5</td>\n",
       "      <td>7</td>\n",
       "    </tr>\n",
       "    <tr>\n",
       "      <th>Viedma-Patagones</th>\n",
       "      <td>30</td>\n",
       "      <td>41</td>\n",
       "      <td>5</td>\n",
       "      <td>7</td>\n",
       "    </tr>\n",
       "    <tr>\n",
       "      <th rowspan=\"6\" valign=\"top\">Patagónica</th>\n",
       "      <th>Cdro Rivadavia</th>\n",
       "      <td>24</td>\n",
       "      <td>31</td>\n",
       "      <td>4</td>\n",
       "      <td>6</td>\n",
       "    </tr>\n",
       "    <tr>\n",
       "      <th>Neuquen</th>\n",
       "      <td>25</td>\n",
       "      <td>33</td>\n",
       "      <td>4</td>\n",
       "      <td>5</td>\n",
       "    </tr>\n",
       "    <tr>\n",
       "      <th>Rawson-Trelew</th>\n",
       "      <td>26</td>\n",
       "      <td>34</td>\n",
       "      <td>5</td>\n",
       "      <td>6</td>\n",
       "    </tr>\n",
       "    <tr>\n",
       "      <th>Rio Gallegos</th>\n",
       "      <td>22</td>\n",
       "      <td>31</td>\n",
       "      <td>3</td>\n",
       "      <td>5</td>\n",
       "    </tr>\n",
       "    <tr>\n",
       "      <th>Ushuaia-Rio Grande</th>\n",
       "      <td>19</td>\n",
       "      <td>26</td>\n",
       "      <td>2</td>\n",
       "      <td>2</td>\n",
       "    </tr>\n",
       "    <tr>\n",
       "      <th>Viedma-Patagones</th>\n",
       "      <td>23</td>\n",
       "      <td>35</td>\n",
       "      <td>8</td>\n",
       "      <td>12</td>\n",
       "    </tr>\n",
       "  </tbody>\n",
       "</table>\n",
       "</div>"
      ],
      "text/plain": [
       "                                      Pobres  Pobres  Indigentes  Indigentes\n",
       "Region            NOMAGLO                                                   \n",
       "Cuyo              La Rioja                43      52           9          11\n",
       "                  Mendoza                 32      41           6           7\n",
       "                  San Juan                40      46          11          13\n",
       "                  San Luis                37      48           8          10\n",
       "Gran Buenos Aires CABA                    11      16           2           3\n",
       "                  GBA                     33      42           7          10\n",
       "Noreste           Corrientes              39      48          11          14\n",
       "                  Formosa                 42      51          11          13\n",
       "                  Posadas                 37      48          11          15\n",
       "                  Resistencia             41      51          12          15\n",
       "Noroeste          Catamarca               33      43           8          11\n",
       "                  Jujuy                   36      44          10          13\n",
       "                  Salta                   36      44          10          13\n",
       "                  Sgo del Estero          39      47          10          13\n",
       "                  Tucuman                 36      45          11          14\n",
       "Pampeana          Bahia Blanca            22      31           4           6\n",
       "                  Concordia               42      54          13          19\n",
       "                  Cordoba                 30      40           7          10\n",
       "                  GBA                     42      53          10          13\n",
       "                  La Plata                22      31           4           6\n",
       "                  Mar del Plata           25      35           5           6\n",
       "                  Parana                  30      39           7           9\n",
       "                  Rio Cuarto              30      39           6           7\n",
       "                  Rosario                 29      40           7          10\n",
       "                  San Nicolas             33      43           8          11\n",
       "                  Santa Fe                30      41           8          12\n",
       "                  Santa Rosa              24      34           5           7\n",
       "                  Viedma-Patagones        30      41           5           7\n",
       "Patagónica        Cdro Rivadavia          24      31           4           6\n",
       "                  Neuquen                 25      33           4           5\n",
       "                  Rawson-Trelew           26      34           5           6\n",
       "                  Rio Gallegos            22      31           3           5\n",
       "                  Ushuaia-Rio Grande      19      26           2           2\n",
       "                  Viedma-Patagones        23      35           8          12"
      ]
     },
     "execution_count": 37,
     "metadata": {},
     "output_type": "execute_result"
    }
   ],
   "source": []
  },
  {
   "cell_type": "code",
   "execution_count": 38,
   "metadata": {
    "scrolled": false
   },
   "outputs": [],
   "source": [
    "# pobres_CABA = data.loc[(data.PROV == 2) & (data.Pobreza)].groupby(['DPTO', 'IDFRAC']).size().sort_values(ascending = False)/frac\n",
    "# i = ((pobres_CABA/pobres_CABA.sum()).cumsum() < .9).sum()\n",
    "# pd.DataFrame(pobres_CABA.iloc[:i])#.sort_index()"
   ]
  },
  {
   "cell_type": "code",
   "execution_count": null,
   "metadata": {},
   "outputs": [],
   "source": []
  }
 ],
 "metadata": {
  "kernelspec": {
   "display_name": "Python 3",
   "language": "python",
   "name": "python3"
  },
  "language_info": {
   "codemirror_mode": {
    "name": "ipython",
    "version": 3
   },
   "file_extension": ".py",
   "mimetype": "text/x-python",
   "name": "python",
   "nbconvert_exporter": "python",
   "pygments_lexer": "ipython3",
   "version": "3.8.5"
  }
 },
 "nbformat": 4,
 "nbformat_minor": 4
}
